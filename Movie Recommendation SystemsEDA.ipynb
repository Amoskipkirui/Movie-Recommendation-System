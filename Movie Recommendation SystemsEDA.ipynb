{
 "cells": [
  {
   "cell_type": "markdown",
   "id": "3a5b5270",
   "metadata": {},
   "source": [
    "\n",
    "# Movie Recommendation System\n",
    "## Group 6 Phase 4 Project\n",
    "### Contributors\n",
    " 1. [Dennis Mwanzia](https://github.com/DennisMwanzia)\n",
    " 2. [Amos Kipkirui](https://github.com/Amoskipkirui)\n",
    " 3. [Robert Mbau](https://github.com/robertmbau)\n",
    " 4. [Fiona Kungu](https://github.com/Fiona-Kungu)\n",
    " 5. [Maureen Kitanga](https://github.com/ndungek)\n",
    " 6. [Edwin Muhia](https://github.com/rurungamuhia)\n",
    " "
   ]
  },
  {
   "cell_type": "markdown",
   "id": "46e1025f",
   "metadata": {},
   "source": [
    "## Overview\n",
    "- MovieXplosion, a new streaming platform wants to improve their user satisfaction. The performance of the platform is dependent on how they can keep user engaged, one way to do this is by providing tailor-made recommendations to the users to drive them to spend more time on the platform.\n",
    "- The project aims to develop a system that suggests movies to users. We will implement this using collaborative filtering, content-based filtering and hybrid approaches.\n",
    "## Problem Statement\n",
    "- The current system that the platform employs does not provide suitable recommendations to users which has led to low user engagement, satisfaction and retention. The system also has no way of providing new users with good recommendations and the existing users do not receive tailor-made recommendations.\n",
    "- The new system aims to bypass these issues and provide relevant recommendations to all users.\n",
    "## Objectives\n",
    "1. Build a model that provides top 5 recommendations to a user.\n",
    "2. Develop a system that will address the `cold start` problem for new users.\n",
    "3. Enhance the recommendation system to provide accurate and relevant movie suggestions based on the user.\n",
    "4. Evaluate the system performance using appropriate metrics such as `RMSE`.\n",
    "## Data Understanding\n",
    "The data used was sourced from [MovieLens](https://grouplens.org/datasets/movielens/latest/), we used the small dataset due to limited computational power. The data contains information about movies, ratings by users and other relevant information.\n",
    "### Data Description\n",
    "There are several files available with different columns:\n",
    "1. Movies File\n",
    "- It contains information about the movies.<br>\n",
    "`movieId` - Unique identifier for each movie.<br>\n",
    "`title` - The movie titles.<br>\n",
    "`genre` - The various genres a movie falls into.<br>\n",
    "2. Ratings file\n",
    "- It contains the ratings for the movies by different users.<br>\n",
    "`userId` - Unique identifier for each user<br>\n",
    "`movieId` - Unique identifier for each movie.<br>\n",
    "`rating` - A value between 0 to 5 that a user rates a movie on. A higher rating indicates a higher preference.<br>\n",
    "`timestamp` - This are the seconds that have passed since Midnight January 1, 1970(UTC)\n",
    "3. Tags file\n",
    "- It has user-generated words or short phrases about a movie with the meaning or value being determined ny the specific user.<br>\n",
    "`userId` - Unique identifier for each user<br>\n",
    "`movieId` - Unique identifier for each movie.<br>\n",
    "`tag` - A word or phrase determined by the user.<br>\n",
    "`timestamp` - This are the seconds that have passed since Midnight January 1, 1970(UTC)\n",
    "4. Links file\n",
    "- This are identifiers that can be used to link to other sources of movie data as provide by MovieLens.<br>\n",
    "`movieId` -  It's an identifier for movies used by https://movielens.org. E.g., the movie Toy Story has the link https://movielens.org/movies/1.<br>\n",
    "`imdbId` -  It's an identifier for movies used by http://www.imdb.com. E.g., the movie Toy Story has the link http://www.imdb.com/title/tt0114709/.<br>\n",
    "`tmdbId` -  is an identifier for movies used by https://www.themoviedb.org. E.g., the movie Toy Story has the link https://www.themoviedb.org/movie/862. <br>"
   ]
  },
  {
   "cell_type": "code",
   "execution_count": 3,
   "id": "6aac91dd",
   "metadata": {},
   "outputs": [],
   "source": [
    "#importing relevant libraries\n",
    "#standard libraries\n",
    "import pandas as pd\n",
    "import numpy as np\n",
    "\n",
    "\n",
    "#visualization Libraries\n",
    "import matplotlib.pyplot as plt\n",
    "import seaborn as sns\n",
    "from wordcloud import WordCloud\n",
    "%matplotlib inline\n",
    "\n",
    "\n",
    "from surprise import Reader, Dataset\n",
    "from surprise.model_selection import cross_validate\n",
    "from surprise.model_selection import train_test_split\n",
    "from surprise import accuracy\n",
    "from surprise.prediction_algorithms import SVD, KNNBasic, KNNBaseline,KNNWithMeans\n",
    "from surprise.model_selection import GridSearchCV\n"
   ]
  },
  {
   "cell_type": "code",
   "execution_count": 4,
   "id": "a29bd862",
   "metadata": {},
   "outputs": [
    {
     "data": {
      "text/html": [
       "<div>\n",
       "<style scoped>\n",
       "    .dataframe tbody tr th:only-of-type {\n",
       "        vertical-align: middle;\n",
       "    }\n",
       "\n",
       "    .dataframe tbody tr th {\n",
       "        vertical-align: top;\n",
       "    }\n",
       "\n",
       "    .dataframe thead th {\n",
       "        text-align: right;\n",
       "    }\n",
       "</style>\n",
       "<table border=\"1\" class=\"dataframe\">\n",
       "  <thead>\n",
       "    <tr style=\"text-align: right;\">\n",
       "      <th></th>\n",
       "      <th>movieId</th>\n",
       "      <th>title</th>\n",
       "      <th>genres</th>\n",
       "    </tr>\n",
       "  </thead>\n",
       "  <tbody>\n",
       "    <tr>\n",
       "      <th>0</th>\n",
       "      <td>1</td>\n",
       "      <td>Toy Story (1995)</td>\n",
       "      <td>Adventure|Animation|Children|Comedy|Fantasy</td>\n",
       "    </tr>\n",
       "    <tr>\n",
       "      <th>1</th>\n",
       "      <td>2</td>\n",
       "      <td>Jumanji (1995)</td>\n",
       "      <td>Adventure|Children|Fantasy</td>\n",
       "    </tr>\n",
       "    <tr>\n",
       "      <th>2</th>\n",
       "      <td>3</td>\n",
       "      <td>Grumpier Old Men (1995)</td>\n",
       "      <td>Comedy|Romance</td>\n",
       "    </tr>\n",
       "    <tr>\n",
       "      <th>3</th>\n",
       "      <td>4</td>\n",
       "      <td>Waiting to Exhale (1995)</td>\n",
       "      <td>Comedy|Drama|Romance</td>\n",
       "    </tr>\n",
       "    <tr>\n",
       "      <th>4</th>\n",
       "      <td>5</td>\n",
       "      <td>Father of the Bride Part II (1995)</td>\n",
       "      <td>Comedy</td>\n",
       "    </tr>\n",
       "  </tbody>\n",
       "</table>\n",
       "</div>"
      ],
      "text/plain": [
       "   movieId                               title  \\\n",
       "0        1                    Toy Story (1995)   \n",
       "1        2                      Jumanji (1995)   \n",
       "2        3             Grumpier Old Men (1995)   \n",
       "3        4            Waiting to Exhale (1995)   \n",
       "4        5  Father of the Bride Part II (1995)   \n",
       "\n",
       "                                        genres  \n",
       "0  Adventure|Animation|Children|Comedy|Fantasy  \n",
       "1                   Adventure|Children|Fantasy  \n",
       "2                               Comedy|Romance  \n",
       "3                         Comedy|Drama|Romance  \n",
       "4                                       Comedy  "
      ]
     },
     "execution_count": 4,
     "metadata": {},
     "output_type": "execute_result"
    }
   ],
   "source": [
    "# load data\n",
    "mov_df = pd.read_csv('Data/movies.csv')\n",
    "mov_df.head()"
   ]
  },
  {
   "cell_type": "code",
   "execution_count": 5,
   "id": "2effef34",
   "metadata": {},
   "outputs": [
    {
     "data": {
      "text/html": [
       "<div>\n",
       "<style scoped>\n",
       "    .dataframe tbody tr th:only-of-type {\n",
       "        vertical-align: middle;\n",
       "    }\n",
       "\n",
       "    .dataframe tbody tr th {\n",
       "        vertical-align: top;\n",
       "    }\n",
       "\n",
       "    .dataframe thead th {\n",
       "        text-align: right;\n",
       "    }\n",
       "</style>\n",
       "<table border=\"1\" class=\"dataframe\">\n",
       "  <thead>\n",
       "    <tr style=\"text-align: right;\">\n",
       "      <th></th>\n",
       "      <th>userId</th>\n",
       "      <th>movieId</th>\n",
       "      <th>rating</th>\n",
       "      <th>timestamp</th>\n",
       "    </tr>\n",
       "  </thead>\n",
       "  <tbody>\n",
       "    <tr>\n",
       "      <th>0</th>\n",
       "      <td>1</td>\n",
       "      <td>1</td>\n",
       "      <td>4.0</td>\n",
       "      <td>964982703</td>\n",
       "    </tr>\n",
       "    <tr>\n",
       "      <th>1</th>\n",
       "      <td>1</td>\n",
       "      <td>3</td>\n",
       "      <td>4.0</td>\n",
       "      <td>964981247</td>\n",
       "    </tr>\n",
       "    <tr>\n",
       "      <th>2</th>\n",
       "      <td>1</td>\n",
       "      <td>6</td>\n",
       "      <td>4.0</td>\n",
       "      <td>964982224</td>\n",
       "    </tr>\n",
       "    <tr>\n",
       "      <th>3</th>\n",
       "      <td>1</td>\n",
       "      <td>47</td>\n",
       "      <td>5.0</td>\n",
       "      <td>964983815</td>\n",
       "    </tr>\n",
       "    <tr>\n",
       "      <th>4</th>\n",
       "      <td>1</td>\n",
       "      <td>50</td>\n",
       "      <td>5.0</td>\n",
       "      <td>964982931</td>\n",
       "    </tr>\n",
       "  </tbody>\n",
       "</table>\n",
       "</div>"
      ],
      "text/plain": [
       "   userId  movieId  rating  timestamp\n",
       "0       1        1     4.0  964982703\n",
       "1       1        3     4.0  964981247\n",
       "2       1        6     4.0  964982224\n",
       "3       1       47     5.0  964983815\n",
       "4       1       50     5.0  964982931"
      ]
     },
     "execution_count": 5,
     "metadata": {},
     "output_type": "execute_result"
    }
   ],
   "source": [
    "# ratings dataframe\n",
    "ratings_df = pd.read_csv('Data/ratings.csv')\n",
    "ratings_df.head()"
   ]
  },
  {
   "cell_type": "code",
   "execution_count": 6,
   "id": "47ce00c1",
   "metadata": {},
   "outputs": [
    {
     "data": {
      "text/html": [
       "<div>\n",
       "<style scoped>\n",
       "    .dataframe tbody tr th:only-of-type {\n",
       "        vertical-align: middle;\n",
       "    }\n",
       "\n",
       "    .dataframe tbody tr th {\n",
       "        vertical-align: top;\n",
       "    }\n",
       "\n",
       "    .dataframe thead th {\n",
       "        text-align: right;\n",
       "    }\n",
       "</style>\n",
       "<table border=\"1\" class=\"dataframe\">\n",
       "  <thead>\n",
       "    <tr style=\"text-align: right;\">\n",
       "      <th></th>\n",
       "      <th>movieId</th>\n",
       "      <th>imdbId</th>\n",
       "      <th>tmdbId</th>\n",
       "    </tr>\n",
       "  </thead>\n",
       "  <tbody>\n",
       "    <tr>\n",
       "      <th>0</th>\n",
       "      <td>1</td>\n",
       "      <td>114709</td>\n",
       "      <td>862.0</td>\n",
       "    </tr>\n",
       "    <tr>\n",
       "      <th>1</th>\n",
       "      <td>2</td>\n",
       "      <td>113497</td>\n",
       "      <td>8844.0</td>\n",
       "    </tr>\n",
       "    <tr>\n",
       "      <th>2</th>\n",
       "      <td>3</td>\n",
       "      <td>113228</td>\n",
       "      <td>15602.0</td>\n",
       "    </tr>\n",
       "    <tr>\n",
       "      <th>3</th>\n",
       "      <td>4</td>\n",
       "      <td>114885</td>\n",
       "      <td>31357.0</td>\n",
       "    </tr>\n",
       "    <tr>\n",
       "      <th>4</th>\n",
       "      <td>5</td>\n",
       "      <td>113041</td>\n",
       "      <td>11862.0</td>\n",
       "    </tr>\n",
       "  </tbody>\n",
       "</table>\n",
       "</div>"
      ],
      "text/plain": [
       "   movieId  imdbId   tmdbId\n",
       "0        1  114709    862.0\n",
       "1        2  113497   8844.0\n",
       "2        3  113228  15602.0\n",
       "3        4  114885  31357.0\n",
       "4        5  113041  11862.0"
      ]
     },
     "execution_count": 6,
     "metadata": {},
     "output_type": "execute_result"
    }
   ],
   "source": [
    "# ratings dataframe\n",
    "links_df = pd.read_csv('Data/links.csv')\n",
    "links_df.head()"
   ]
  },
  {
   "cell_type": "code",
   "execution_count": 7,
   "id": "384730ed",
   "metadata": {},
   "outputs": [
    {
     "data": {
      "text/html": [
       "<div>\n",
       "<style scoped>\n",
       "    .dataframe tbody tr th:only-of-type {\n",
       "        vertical-align: middle;\n",
       "    }\n",
       "\n",
       "    .dataframe tbody tr th {\n",
       "        vertical-align: top;\n",
       "    }\n",
       "\n",
       "    .dataframe thead th {\n",
       "        text-align: right;\n",
       "    }\n",
       "</style>\n",
       "<table border=\"1\" class=\"dataframe\">\n",
       "  <thead>\n",
       "    <tr style=\"text-align: right;\">\n",
       "      <th></th>\n",
       "      <th>userId</th>\n",
       "      <th>movieId</th>\n",
       "      <th>tag</th>\n",
       "      <th>timestamp</th>\n",
       "    </tr>\n",
       "  </thead>\n",
       "  <tbody>\n",
       "    <tr>\n",
       "      <th>0</th>\n",
       "      <td>2</td>\n",
       "      <td>60756</td>\n",
       "      <td>funny</td>\n",
       "      <td>1445714994</td>\n",
       "    </tr>\n",
       "    <tr>\n",
       "      <th>1</th>\n",
       "      <td>2</td>\n",
       "      <td>60756</td>\n",
       "      <td>Highly quotable</td>\n",
       "      <td>1445714996</td>\n",
       "    </tr>\n",
       "    <tr>\n",
       "      <th>2</th>\n",
       "      <td>2</td>\n",
       "      <td>60756</td>\n",
       "      <td>will ferrell</td>\n",
       "      <td>1445714992</td>\n",
       "    </tr>\n",
       "    <tr>\n",
       "      <th>3</th>\n",
       "      <td>2</td>\n",
       "      <td>89774</td>\n",
       "      <td>Boxing story</td>\n",
       "      <td>1445715207</td>\n",
       "    </tr>\n",
       "    <tr>\n",
       "      <th>4</th>\n",
       "      <td>2</td>\n",
       "      <td>89774</td>\n",
       "      <td>MMA</td>\n",
       "      <td>1445715200</td>\n",
       "    </tr>\n",
       "  </tbody>\n",
       "</table>\n",
       "</div>"
      ],
      "text/plain": [
       "   userId  movieId              tag   timestamp\n",
       "0       2    60756            funny  1445714994\n",
       "1       2    60756  Highly quotable  1445714996\n",
       "2       2    60756     will ferrell  1445714992\n",
       "3       2    89774     Boxing story  1445715207\n",
       "4       2    89774              MMA  1445715200"
      ]
     },
     "execution_count": 7,
     "metadata": {},
     "output_type": "execute_result"
    }
   ],
   "source": [
    "# ratings dataframe\n",
    "tags_df = pd.read_csv('Data/tags.csv')\n",
    "tags_df.head()"
   ]
  },
  {
   "cell_type": "code",
   "execution_count": 8,
   "id": "12a64a8b",
   "metadata": {},
   "outputs": [
    {
     "data": {
      "text/html": [
       "<div>\n",
       "<style scoped>\n",
       "    .dataframe tbody tr th:only-of-type {\n",
       "        vertical-align: middle;\n",
       "    }\n",
       "\n",
       "    .dataframe tbody tr th {\n",
       "        vertical-align: top;\n",
       "    }\n",
       "\n",
       "    .dataframe thead th {\n",
       "        text-align: right;\n",
       "    }\n",
       "</style>\n",
       "<table border=\"1\" class=\"dataframe\">\n",
       "  <thead>\n",
       "    <tr style=\"text-align: right;\">\n",
       "      <th></th>\n",
       "      <th>movieId</th>\n",
       "      <th>tag</th>\n",
       "    </tr>\n",
       "  </thead>\n",
       "  <tbody>\n",
       "    <tr>\n",
       "      <th>0</th>\n",
       "      <td>60756</td>\n",
       "      <td>funny</td>\n",
       "    </tr>\n",
       "    <tr>\n",
       "      <th>1</th>\n",
       "      <td>60756</td>\n",
       "      <td>Highly quotable</td>\n",
       "    </tr>\n",
       "    <tr>\n",
       "      <th>2</th>\n",
       "      <td>60756</td>\n",
       "      <td>will ferrell</td>\n",
       "    </tr>\n",
       "    <tr>\n",
       "      <th>3</th>\n",
       "      <td>89774</td>\n",
       "      <td>Boxing story</td>\n",
       "    </tr>\n",
       "    <tr>\n",
       "      <th>4</th>\n",
       "      <td>89774</td>\n",
       "      <td>MMA</td>\n",
       "    </tr>\n",
       "  </tbody>\n",
       "</table>\n",
       "</div>"
      ],
      "text/plain": [
       "   movieId              tag\n",
       "0    60756            funny\n",
       "1    60756  Highly quotable\n",
       "2    60756     will ferrell\n",
       "3    89774     Boxing story\n",
       "4    89774              MMA"
      ]
     },
     "execution_count": 8,
     "metadata": {},
     "output_type": "execute_result"
    }
   ],
   "source": [
    "# We have userID and timestamp columns in the tags data. Therefore, we dropped the two columns before we merged the entire dataset\n",
    "\n",
    "# Drop the 'userId' and 'timestamp' columns from the 'merged_dataset'\n",
    "tags_df = tags_df.drop(['userId', 'timestamp'], axis=1)\n",
    "\n",
    "# View the updated DataFrame\n",
    "tags_df.head()\n"
   ]
  },
  {
   "cell_type": "code",
   "execution_count": 9,
   "id": "5032baab",
   "metadata": {},
   "outputs": [],
   "source": [
    "#Data Exploration"
   ]
  },
  {
   "cell_type": "code",
   "execution_count": 10,
   "id": "b2953ab5",
   "metadata": {},
   "outputs": [
    {
     "data": {
      "text/plain": [
       "movieId    0\n",
       "title      0\n",
       "genres     0\n",
       "dtype: int64"
      ]
     },
     "execution_count": 10,
     "metadata": {},
     "output_type": "execute_result"
    }
   ],
   "source": [
    "# Checking Missing Data & Null Values\n",
    "# check for missing values in mov_df\n",
    "mov_df.isna().sum()"
   ]
  },
  {
   "cell_type": "code",
   "execution_count": 11,
   "id": "109dd86e",
   "metadata": {},
   "outputs": [
    {
     "data": {
      "text/plain": [
       "userId       0\n",
       "movieId      0\n",
       "rating       0\n",
       "timestamp    0\n",
       "dtype: int64"
      ]
     },
     "execution_count": 11,
     "metadata": {},
     "output_type": "execute_result"
    }
   ],
   "source": [
    "# check for missing values in ratings_df\n",
    "ratings_df.isna().sum()"
   ]
  },
  {
   "cell_type": "code",
   "execution_count": 12,
   "id": "ff64078b",
   "metadata": {},
   "outputs": [
    {
     "data": {
      "text/plain": [
       "movieId    0\n",
       "imdbId     0\n",
       "tmdbId     8\n",
       "dtype: int64"
      ]
     },
     "execution_count": 12,
     "metadata": {},
     "output_type": "execute_result"
    }
   ],
   "source": [
    "# check for missing values in links_df\n",
    "links_df.isna().sum()"
   ]
  },
  {
   "cell_type": "code",
   "execution_count": 13,
   "id": "5b3355e3",
   "metadata": {},
   "outputs": [
    {
     "data": {
      "text/plain": [
       "movieId    0\n",
       "tag        0\n",
       "dtype: int64"
      ]
     },
     "execution_count": 13,
     "metadata": {},
     "output_type": "execute_result"
    }
   ],
   "source": [
    "# check for missing values in tags_df\n",
    "tags_df.isna().sum()"
   ]
  },
  {
   "cell_type": "code",
   "execution_count": 14,
   "id": "08272696",
   "metadata": {},
   "outputs": [
    {
     "name": "stdout",
     "output_type": "stream",
     "text": [
      "Number of missing values in 'tmdbId' column: 8\n",
      "Rows with missing values in 'tmdbId' column:\n",
      "      movieId  imdbId  tmdbId\n",
      "624       791  113610     NaN\n",
      "843      1107  102336     NaN\n",
      "2141     2851   81454     NaN\n",
      "3027     4051   56600     NaN\n",
      "5532    26587   92337     NaN\n",
      "5854    32600  377059     NaN\n",
      "6059    40697  105946     NaN\n",
      "7382    79299  874957     NaN\n"
     ]
    }
   ],
   "source": [
    "# We have 8 missing values for tmdbID in Links CSV therefore, we went ahead to investigate them\n",
    "\n",
    "# Count the number of missing values in the 'tmdbId' column\n",
    "missing_values = links_df['tmdbId'].isnull().sum()\n",
    "\n",
    "# Get the rows with missing values in the 'tmdbId' column\n",
    "missing_rows = links_df[links_df['tmdbId'].isnull()]\n",
    "\n",
    "# Print the number of missing values and the rows containing them\n",
    "print(\"Number of missing values in 'tmdbId' column:\", missing_values)\n",
    "print(\"Rows with missing values in 'tmdbId' column:\")\n",
    "print(missing_rows)\n"
   ]
  },
  {
   "cell_type": "code",
   "execution_count": 15,
   "id": "ab7bb9ff",
   "metadata": {},
   "outputs": [
    {
     "data": {
      "text/html": [
       "<div>\n",
       "<style scoped>\n",
       "    .dataframe tbody tr th:only-of-type {\n",
       "        vertical-align: middle;\n",
       "    }\n",
       "\n",
       "    .dataframe tbody tr th {\n",
       "        vertical-align: top;\n",
       "    }\n",
       "\n",
       "    .dataframe thead th {\n",
       "        text-align: right;\n",
       "    }\n",
       "</style>\n",
       "<table border=\"1\" class=\"dataframe\">\n",
       "  <thead>\n",
       "    <tr style=\"text-align: right;\">\n",
       "      <th></th>\n",
       "      <th>movieId</th>\n",
       "      <th>title</th>\n",
       "      <th>genres</th>\n",
       "      <th>userId</th>\n",
       "      <th>rating</th>\n",
       "      <th>timestamp</th>\n",
       "      <th>imdbId</th>\n",
       "      <th>tmdbId</th>\n",
       "      <th>tag</th>\n",
       "    </tr>\n",
       "  </thead>\n",
       "  <tbody>\n",
       "    <tr>\n",
       "      <th>0</th>\n",
       "      <td>1</td>\n",
       "      <td>Toy Story (1995)</td>\n",
       "      <td>Adventure|Animation|Children|Comedy|Fantasy</td>\n",
       "      <td>1</td>\n",
       "      <td>4.0</td>\n",
       "      <td>964982703</td>\n",
       "      <td>114709</td>\n",
       "      <td>862.0</td>\n",
       "      <td>pixar</td>\n",
       "    </tr>\n",
       "    <tr>\n",
       "      <th>1</th>\n",
       "      <td>1</td>\n",
       "      <td>Toy Story (1995)</td>\n",
       "      <td>Adventure|Animation|Children|Comedy|Fantasy</td>\n",
       "      <td>1</td>\n",
       "      <td>4.0</td>\n",
       "      <td>964982703</td>\n",
       "      <td>114709</td>\n",
       "      <td>862.0</td>\n",
       "      <td>pixar</td>\n",
       "    </tr>\n",
       "    <tr>\n",
       "      <th>2</th>\n",
       "      <td>1</td>\n",
       "      <td>Toy Story (1995)</td>\n",
       "      <td>Adventure|Animation|Children|Comedy|Fantasy</td>\n",
       "      <td>1</td>\n",
       "      <td>4.0</td>\n",
       "      <td>964982703</td>\n",
       "      <td>114709</td>\n",
       "      <td>862.0</td>\n",
       "      <td>fun</td>\n",
       "    </tr>\n",
       "    <tr>\n",
       "      <th>3</th>\n",
       "      <td>1</td>\n",
       "      <td>Toy Story (1995)</td>\n",
       "      <td>Adventure|Animation|Children|Comedy|Fantasy</td>\n",
       "      <td>5</td>\n",
       "      <td>4.0</td>\n",
       "      <td>847434962</td>\n",
       "      <td>114709</td>\n",
       "      <td>862.0</td>\n",
       "      <td>pixar</td>\n",
       "    </tr>\n",
       "    <tr>\n",
       "      <th>4</th>\n",
       "      <td>1</td>\n",
       "      <td>Toy Story (1995)</td>\n",
       "      <td>Adventure|Animation|Children|Comedy|Fantasy</td>\n",
       "      <td>5</td>\n",
       "      <td>4.0</td>\n",
       "      <td>847434962</td>\n",
       "      <td>114709</td>\n",
       "      <td>862.0</td>\n",
       "      <td>pixar</td>\n",
       "    </tr>\n",
       "  </tbody>\n",
       "</table>\n",
       "</div>"
      ],
      "text/plain": [
       "   movieId             title                                       genres  \\\n",
       "0        1  Toy Story (1995)  Adventure|Animation|Children|Comedy|Fantasy   \n",
       "1        1  Toy Story (1995)  Adventure|Animation|Children|Comedy|Fantasy   \n",
       "2        1  Toy Story (1995)  Adventure|Animation|Children|Comedy|Fantasy   \n",
       "3        1  Toy Story (1995)  Adventure|Animation|Children|Comedy|Fantasy   \n",
       "4        1  Toy Story (1995)  Adventure|Animation|Children|Comedy|Fantasy   \n",
       "\n",
       "   userId  rating  timestamp  imdbId  tmdbId    tag  \n",
       "0       1     4.0  964982703  114709   862.0  pixar  \n",
       "1       1     4.0  964982703  114709   862.0  pixar  \n",
       "2       1     4.0  964982703  114709   862.0    fun  \n",
       "3       5     4.0  847434962  114709   862.0  pixar  \n",
       "4       5     4.0  847434962  114709   862.0  pixar  "
      ]
     },
     "execution_count": 15,
     "metadata": {},
     "output_type": "execute_result"
    }
   ],
   "source": [
    "# Combining the four datasets\n",
    "\n",
    "# Merge the 'movies' and 'ratings' datasets based on the 'movieId' column\n",
    "movies_and_ratings = pd.merge(left=mov_df, right=ratings_df, on='movieId')\n",
    "\n",
    "# Merge the 'movies_and_ratings' and 'links' datasets based on the 'movieId' column\n",
    "movies_ratings_links = pd.merge(left=movies_and_ratings, right=links_df, on='movieId')\n",
    "\n",
    "# Merge the 'movies_ratings_links' and 'tags' datasets based on the 'movieId' column\n",
    "merged_dataset = pd.merge(left=movies_ratings_links, right=tags_df, on='movieId')\n",
    "\n",
    "# Print the merged dataset\n",
    "merged_dataset.head()\n"
   ]
  },
  {
   "cell_type": "code",
   "execution_count": 16,
   "id": "24f7b13f",
   "metadata": {},
   "outputs": [
    {
     "data": {
      "text/plain": [
       "Index(['movieId', 'title', 'genres', 'userId', 'rating', 'timestamp', 'imdbId',\n",
       "       'tmdbId', 'tag'],\n",
       "      dtype='object')"
      ]
     },
     "execution_count": 16,
     "metadata": {},
     "output_type": "execute_result"
    }
   ],
   "source": [
    "merged_dataset.columns"
   ]
  },
  {
   "cell_type": "code",
   "execution_count": 17,
   "id": "8bed3751",
   "metadata": {},
   "outputs": [
    {
     "data": {
      "text/html": [
       "<div>\n",
       "<style scoped>\n",
       "    .dataframe tbody tr th:only-of-type {\n",
       "        vertical-align: middle;\n",
       "    }\n",
       "\n",
       "    .dataframe tbody tr th {\n",
       "        vertical-align: top;\n",
       "    }\n",
       "\n",
       "    .dataframe thead th {\n",
       "        text-align: right;\n",
       "    }\n",
       "</style>\n",
       "<table border=\"1\" class=\"dataframe\">\n",
       "  <thead>\n",
       "    <tr style=\"text-align: right;\">\n",
       "      <th></th>\n",
       "      <th>movieId</th>\n",
       "      <th>title</th>\n",
       "      <th>genres</th>\n",
       "      <th>userId</th>\n",
       "      <th>rating</th>\n",
       "      <th>timestamp</th>\n",
       "      <th>imdbId</th>\n",
       "      <th>tmdbId</th>\n",
       "      <th>tag</th>\n",
       "      <th>Year</th>\n",
       "    </tr>\n",
       "  </thead>\n",
       "  <tbody>\n",
       "    <tr>\n",
       "      <th>0</th>\n",
       "      <td>1</td>\n",
       "      <td>Toy Story (1995)</td>\n",
       "      <td>Adventure|Animation|Children|Comedy|Fantasy</td>\n",
       "      <td>1</td>\n",
       "      <td>4.0</td>\n",
       "      <td>964982703</td>\n",
       "      <td>114709</td>\n",
       "      <td>862.0</td>\n",
       "      <td>pixar</td>\n",
       "      <td>1995</td>\n",
       "    </tr>\n",
       "    <tr>\n",
       "      <th>1</th>\n",
       "      <td>1</td>\n",
       "      <td>Toy Story (1995)</td>\n",
       "      <td>Adventure|Animation|Children|Comedy|Fantasy</td>\n",
       "      <td>1</td>\n",
       "      <td>4.0</td>\n",
       "      <td>964982703</td>\n",
       "      <td>114709</td>\n",
       "      <td>862.0</td>\n",
       "      <td>pixar</td>\n",
       "      <td>1995</td>\n",
       "    </tr>\n",
       "    <tr>\n",
       "      <th>2</th>\n",
       "      <td>1</td>\n",
       "      <td>Toy Story (1995)</td>\n",
       "      <td>Adventure|Animation|Children|Comedy|Fantasy</td>\n",
       "      <td>1</td>\n",
       "      <td>4.0</td>\n",
       "      <td>964982703</td>\n",
       "      <td>114709</td>\n",
       "      <td>862.0</td>\n",
       "      <td>fun</td>\n",
       "      <td>1995</td>\n",
       "    </tr>\n",
       "    <tr>\n",
       "      <th>3</th>\n",
       "      <td>1</td>\n",
       "      <td>Toy Story (1995)</td>\n",
       "      <td>Adventure|Animation|Children|Comedy|Fantasy</td>\n",
       "      <td>5</td>\n",
       "      <td>4.0</td>\n",
       "      <td>847434962</td>\n",
       "      <td>114709</td>\n",
       "      <td>862.0</td>\n",
       "      <td>pixar</td>\n",
       "      <td>1995</td>\n",
       "    </tr>\n",
       "    <tr>\n",
       "      <th>4</th>\n",
       "      <td>1</td>\n",
       "      <td>Toy Story (1995)</td>\n",
       "      <td>Adventure|Animation|Children|Comedy|Fantasy</td>\n",
       "      <td>5</td>\n",
       "      <td>4.0</td>\n",
       "      <td>847434962</td>\n",
       "      <td>114709</td>\n",
       "      <td>862.0</td>\n",
       "      <td>pixar</td>\n",
       "      <td>1995</td>\n",
       "    </tr>\n",
       "  </tbody>\n",
       "</table>\n",
       "</div>"
      ],
      "text/plain": [
       "   movieId             title                                       genres  \\\n",
       "0        1  Toy Story (1995)  Adventure|Animation|Children|Comedy|Fantasy   \n",
       "1        1  Toy Story (1995)  Adventure|Animation|Children|Comedy|Fantasy   \n",
       "2        1  Toy Story (1995)  Adventure|Animation|Children|Comedy|Fantasy   \n",
       "3        1  Toy Story (1995)  Adventure|Animation|Children|Comedy|Fantasy   \n",
       "4        1  Toy Story (1995)  Adventure|Animation|Children|Comedy|Fantasy   \n",
       "\n",
       "   userId  rating  timestamp  imdbId  tmdbId    tag  Year  \n",
       "0       1     4.0  964982703  114709   862.0  pixar  1995  \n",
       "1       1     4.0  964982703  114709   862.0  pixar  1995  \n",
       "2       1     4.0  964982703  114709   862.0    fun  1995  \n",
       "3       5     4.0  847434962  114709   862.0  pixar  1995  \n",
       "4       5     4.0  847434962  114709   862.0  pixar  1995  "
      ]
     },
     "execution_count": 17,
     "metadata": {},
     "output_type": "execute_result"
    }
   ],
   "source": [
    "# Feature Engineering the Title column to extract the Year in which a movie was released\n",
    "\n",
    "# Extract the year from the 'Title' column and create a new column 'Year'\n",
    "merged_dataset['Year'] = merged_dataset['title'].str.extract(r'\\((\\d{4})\\)')\n",
    "\n",
    "# View the updated DataFrame with the 'Year' column\n",
    "merged_dataset.head()\n"
   ]
  },
  {
   "cell_type": "code",
   "execution_count": 18,
   "id": "57b3d99f",
   "metadata": {},
   "outputs": [
    {
     "name": "stdout",
     "output_type": "stream",
     "text": [
      "<class 'pandas.core.frame.DataFrame'>\n",
      "Int64Index: 233213 entries, 0 to 233212\n",
      "Data columns (total 10 columns):\n",
      " #   Column     Non-Null Count   Dtype  \n",
      "---  ------     --------------   -----  \n",
      " 0   movieId    233213 non-null  int64  \n",
      " 1   title      233213 non-null  object \n",
      " 2   genres     233213 non-null  object \n",
      " 3   userId     233213 non-null  int64  \n",
      " 4   rating     233213 non-null  float64\n",
      " 5   timestamp  233213 non-null  int64  \n",
      " 6   imdbId     233213 non-null  int64  \n",
      " 7   tmdbId     233213 non-null  float64\n",
      " 8   tag        233213 non-null  object \n",
      " 9   Year       233210 non-null  object \n",
      "dtypes: float64(2), int64(4), object(4)\n",
      "memory usage: 19.6+ MB\n"
     ]
    }
   ],
   "source": [
    "merged_dataset.info()"
   ]
  },
  {
   "cell_type": "code",
   "execution_count": 19,
   "id": "7e66dbcb",
   "metadata": {},
   "outputs": [
    {
     "data": {
      "text/html": [
       "<div>\n",
       "<style scoped>\n",
       "    .dataframe tbody tr th:only-of-type {\n",
       "        vertical-align: middle;\n",
       "    }\n",
       "\n",
       "    .dataframe tbody tr th {\n",
       "        vertical-align: top;\n",
       "    }\n",
       "\n",
       "    .dataframe thead th {\n",
       "        text-align: right;\n",
       "    }\n",
       "</style>\n",
       "<table border=\"1\" class=\"dataframe\">\n",
       "  <thead>\n",
       "    <tr style=\"text-align: right;\">\n",
       "      <th></th>\n",
       "      <th>movieId</th>\n",
       "      <th>title</th>\n",
       "      <th>genres</th>\n",
       "      <th>userId</th>\n",
       "      <th>rating</th>\n",
       "      <th>timestamp</th>\n",
       "      <th>imdbId</th>\n",
       "      <th>tmdbId</th>\n",
       "      <th>tag</th>\n",
       "      <th>Year</th>\n",
       "    </tr>\n",
       "  </thead>\n",
       "  <tbody>\n",
       "    <tr>\n",
       "      <th>0</th>\n",
       "      <td>1</td>\n",
       "      <td>Toy Story</td>\n",
       "      <td>Adventure|Animation|Children|Comedy|Fantasy</td>\n",
       "      <td>1</td>\n",
       "      <td>4.0</td>\n",
       "      <td>964982703</td>\n",
       "      <td>114709</td>\n",
       "      <td>862.0</td>\n",
       "      <td>pixar</td>\n",
       "      <td>1995</td>\n",
       "    </tr>\n",
       "    <tr>\n",
       "      <th>1</th>\n",
       "      <td>1</td>\n",
       "      <td>Toy Story</td>\n",
       "      <td>Adventure|Animation|Children|Comedy|Fantasy</td>\n",
       "      <td>1</td>\n",
       "      <td>4.0</td>\n",
       "      <td>964982703</td>\n",
       "      <td>114709</td>\n",
       "      <td>862.0</td>\n",
       "      <td>pixar</td>\n",
       "      <td>1995</td>\n",
       "    </tr>\n",
       "    <tr>\n",
       "      <th>2</th>\n",
       "      <td>1</td>\n",
       "      <td>Toy Story</td>\n",
       "      <td>Adventure|Animation|Children|Comedy|Fantasy</td>\n",
       "      <td>1</td>\n",
       "      <td>4.0</td>\n",
       "      <td>964982703</td>\n",
       "      <td>114709</td>\n",
       "      <td>862.0</td>\n",
       "      <td>fun</td>\n",
       "      <td>1995</td>\n",
       "    </tr>\n",
       "    <tr>\n",
       "      <th>3</th>\n",
       "      <td>1</td>\n",
       "      <td>Toy Story</td>\n",
       "      <td>Adventure|Animation|Children|Comedy|Fantasy</td>\n",
       "      <td>5</td>\n",
       "      <td>4.0</td>\n",
       "      <td>847434962</td>\n",
       "      <td>114709</td>\n",
       "      <td>862.0</td>\n",
       "      <td>pixar</td>\n",
       "      <td>1995</td>\n",
       "    </tr>\n",
       "    <tr>\n",
       "      <th>4</th>\n",
       "      <td>1</td>\n",
       "      <td>Toy Story</td>\n",
       "      <td>Adventure|Animation|Children|Comedy|Fantasy</td>\n",
       "      <td>5</td>\n",
       "      <td>4.0</td>\n",
       "      <td>847434962</td>\n",
       "      <td>114709</td>\n",
       "      <td>862.0</td>\n",
       "      <td>pixar</td>\n",
       "      <td>1995</td>\n",
       "    </tr>\n",
       "  </tbody>\n",
       "</table>\n",
       "</div>"
      ],
      "text/plain": [
       "   movieId      title                                       genres  userId  \\\n",
       "0        1  Toy Story  Adventure|Animation|Children|Comedy|Fantasy       1   \n",
       "1        1  Toy Story  Adventure|Animation|Children|Comedy|Fantasy       1   \n",
       "2        1  Toy Story  Adventure|Animation|Children|Comedy|Fantasy       1   \n",
       "3        1  Toy Story  Adventure|Animation|Children|Comedy|Fantasy       5   \n",
       "4        1  Toy Story  Adventure|Animation|Children|Comedy|Fantasy       5   \n",
       "\n",
       "   rating  timestamp  imdbId  tmdbId    tag  Year  \n",
       "0     4.0  964982703  114709   862.0  pixar  1995  \n",
       "1     4.0  964982703  114709   862.0  pixar  1995  \n",
       "2     4.0  964982703  114709   862.0    fun  1995  \n",
       "3     4.0  847434962  114709   862.0  pixar  1995  \n",
       "4     4.0  847434962  114709   862.0  pixar  1995  "
      ]
     },
     "execution_count": 19,
     "metadata": {},
     "output_type": "execute_result"
    }
   ],
   "source": [
    "# Drop the year in parenthesis from the title column\n",
    "\n",
    "# Remove the year in parenthesis from the 'Title' column\n",
    "merged_dataset['title'] = merged_dataset['title'].str.replace(r'\\s*\\(\\d{4}\\)', '')\n",
    "\n",
    "# View the updated DataFrame\n",
    "merged_dataset.head()\n"
   ]
  },
  {
   "cell_type": "code",
   "execution_count": 20,
   "id": "4d59d9af",
   "metadata": {},
   "outputs": [
    {
     "name": "stdout",
     "output_type": "stream",
     "text": [
      "Number of NaN values in the 'Year' column: 3\n"
     ]
    }
   ],
   "source": [
    "# Count the number of NaN values in the 'Year' column\n",
    "num_nan_values = merged_dataset['Year'].isna().sum()\n",
    "print(\"Number of NaN values in the 'Year' column:\", num_nan_values)"
   ]
  },
  {
   "cell_type": "code",
   "execution_count": 21,
   "id": "19cca6e2",
   "metadata": {},
   "outputs": [],
   "source": [
    "# Replace NaN values with a default value\n",
    "default_year = 0  # \n",
    "merged_dataset['Year'] = merged_dataset['Year'].fillna(default_year).astype(int)\n"
   ]
  },
  {
   "cell_type": "markdown",
   "id": "bead12f2",
   "metadata": {},
   "source": [
    "## Exploratory Data Analysis"
   ]
  },
  {
   "cell_type": "code",
   "execution_count": 22,
   "id": "a757edab",
   "metadata": {},
   "outputs": [
    {
     "data": {
      "image/png": "[encoded data removed]",
      "text/plain": [
       "<Figure size 432x288 with 1 Axes>"
      ]
     },
     "metadata": {
      "needs_background": "light"
     },
     "output_type": "display_data"
    },
    {
     "data": {
      "image/png": "[encoded data removed]",
      "text/plain": [
       "<Figure size 432x288 with 1 Axes>"
      ]
     },
     "metadata": {
      "needs_background": "light"
     },
     "output_type": "display_data"
    }
   ],
   "source": [
    "# Distribution of ratings\n",
    "plt.hist(merged_dataset['rating'])\n",
    "plt.xlabel('Rating')\n",
    "plt.ylabel('Frequency')\n",
    "plt.title('Distribution of Ratings')\n",
    "plt.show()\n",
    "\n",
    "# Bar chart for genres\n",
    "genres_counts = merged_dataset['genres'].value_counts().head(10)\n",
    "sns.barplot(x=genres_counts.index, y=genres_counts.values)\n",
    "plt.xlabel('Genres')\n",
    "plt.ylabel('Count')\n",
    "plt.title('Top 10 Movie Genres')\n",
    "plt.xticks(rotation=90)\n",
    "plt.show()"
   ]
  },
  {
   "cell_type": "code",
   "execution_count": 23,
   "id": "aec868c3",
   "metadata": {},
   "outputs": [
    {
     "data": {
      "image/png": "[encoded data removed]",
      "text/plain": [
       "<Figure size 1440x576 with 1 Axes>"
      ]
     },
     "metadata": {
      "needs_background": "light"
     },
     "output_type": "display_data"
    }
   ],
   "source": [
    "# Group years by decades\n",
    "merged_dataset['Decade'] = (merged_dataset['Year'] // 10) * 10\n",
    "\n",
    "fig, ax = plt.subplots(figsize=(20, 8))\n",
    "\n",
    "sns.countplot(x='Decade',\n",
    "              data=merged_dataset,\n",
    "              color='tab:blue')\n",
    "\n",
    "plt.xlabel(\"Decade\", fontsize=16)\n",
    "plt.ylabel(\"# of Movies\", fontsize=16)\n",
    "plt.title(\"# of Movies by Decade\", fontsize=20)\n",
    "plt.xticks(fontsize=14, rotation=45)\n",
    "plt.yticks(fontsize=14)\n",
    "ax.grid(False)\n",
    "\n",
    "# Update x-axis labels with the decade range\n",
    "decades = np.sort(merged_dataset['Decade'].dropna().unique())\n",
    "plt.xticks(np.arange(len(decades)), decades)\n",
    "\n",
    "plt.show()\n"
   ]
  },
  {
   "cell_type": "markdown",
   "id": "7f5e9ee9",
   "metadata": {},
   "source": [
    "Movie production increase steadily from 1920s and reached its peak in the 1990s before declining in the new millenium to the same levels as 1980s."
   ]
  },
  {
   "cell_type": "code",
   "execution_count": 24,
   "id": "4e567cea",
   "metadata": {},
   "outputs": [
    {
     "data": {
      "image/png": "[encoded data removed]",
      "text/plain": [
       "<Figure size 1440x576 with 1 Axes>"
      ]
     },
     "metadata": {
      "needs_background": "light"
     },
     "output_type": "display_data"
    }
   ],
   "source": [
    "fig, ax = plt.subplots(figsize=(20, 8))\n",
    "\n",
    "rating_counts = merged_dataset['rating'].value_counts().sort_index()\n",
    "\n",
    "sns.barplot(x=rating_counts.index,\n",
    "            y=rating_counts.values,\n",
    "            color='tab:blue')\n",
    "\n",
    "plt.title(\"Rating Distribution\", fontsize=20, pad=20)\n",
    "plt.xlabel(\"Rating\", fontsize=20, labelpad=20)\n",
    "plt.ylabel(\"# of Movies\", fontsize=20, labelpad=20)\n",
    "plt.xticks(fontsize=20)\n",
    "plt.yticks(fontsize=20)\n",
    "ax.grid(False)\n",
    "\n",
    "plt.show()\n"
   ]
  },
  {
   "cell_type": "markdown",
   "id": "20256fc1",
   "metadata": {},
   "source": [
    "The highest rated movies got `5` while the lowest rated was `0.5`.<br>\n",
    "Most movies were rated at `5` and `4` with a few getting ratings of `0.5` and `1.5`."
   ]
  },
  {
   "cell_type": "code",
   "execution_count": 44,
   "id": "ca2e8a14",
   "metadata": {},
   "outputs": [
    {
     "ename": "AttributeError",
     "evalue": "'TransposedFont' object has no attribute 'getbbox'",
     "output_type": "error",
     "traceback": [
      "\u001b[1;31m---------------------------------------------------------------------------\u001b[0m",
      "\u001b[1;31mAttributeError\u001b[0m                            Traceback (most recent call last)",
      "\u001b[1;32m<ipython-input-44-f8c0643f613b>\u001b[0m in \u001b[0;36m<module>\u001b[1;34m\u001b[0m\n\u001b[0;32m      8\u001b[0m \u001b[1;33m\u001b[0m\u001b[0m\n\u001b[0;32m      9\u001b[0m \u001b[1;31m# Create the word cloud\u001b[0m\u001b[1;33m\u001b[0m\u001b[1;33m\u001b[0m\u001b[1;33m\u001b[0m\u001b[0m\n\u001b[1;32m---> 10\u001b[1;33m \u001b[0mwordcloud\u001b[0m \u001b[1;33m=\u001b[0m \u001b[0mWordCloud\u001b[0m\u001b[1;33m(\u001b[0m\u001b[0mwidth\u001b[0m\u001b[1;33m=\u001b[0m\u001b[1;36m400\u001b[0m\u001b[1;33m,\u001b[0m \u001b[0mheight\u001b[0m\u001b[1;33m=\u001b[0m\u001b[1;36m200\u001b[0m\u001b[1;33m,\u001b[0m \u001b[0mbackground_color\u001b[0m\u001b[1;33m=\u001b[0m\u001b[1;34m'white'\u001b[0m\u001b[1;33m)\u001b[0m\u001b[1;33m.\u001b[0m\u001b[0mgenerate_from_frequencies\u001b[0m\u001b[1;33m(\u001b[0m\u001b[0mword_frequency\u001b[0m\u001b[1;33m)\u001b[0m\u001b[1;33m\u001b[0m\u001b[1;33m\u001b[0m\u001b[0m\n\u001b[0m\u001b[0;32m     11\u001b[0m \u001b[1;33m\u001b[0m\u001b[0m\n\u001b[0;32m     12\u001b[0m \u001b[1;31m# Create the bar plot\u001b[0m\u001b[1;33m\u001b[0m\u001b[1;33m\u001b[0m\u001b[1;33m\u001b[0m\u001b[0m\n",
      "\u001b[1;32mc:\\Users\\hp\\anaconda3\\envs\\learn-env\\lib\\site-packages\\wordcloud\\wordcloud.py\u001b[0m in \u001b[0;36mgenerate_from_frequencies\u001b[1;34m(self, frequencies, max_font_size)\u001b[0m\n\u001b[0;32m    451\u001b[0m                 \u001b[0mfont_size\u001b[0m \u001b[1;33m=\u001b[0m \u001b[0mself\u001b[0m\u001b[1;33m.\u001b[0m\u001b[0mheight\u001b[0m\u001b[1;33m\u001b[0m\u001b[1;33m\u001b[0m\u001b[0m\n\u001b[0;32m    452\u001b[0m             \u001b[1;32melse\u001b[0m\u001b[1;33m:\u001b[0m\u001b[1;33m\u001b[0m\u001b[1;33m\u001b[0m\u001b[0m\n\u001b[1;32m--> 453\u001b[1;33m                 self.generate_from_frequencies(dict(frequencies[:2]),\n\u001b[0m\u001b[0;32m    454\u001b[0m                                                max_font_size=self.height)\n\u001b[0;32m    455\u001b[0m                 \u001b[1;31m# find font sizes\u001b[0m\u001b[1;33m\u001b[0m\u001b[1;33m\u001b[0m\u001b[1;33m\u001b[0m\u001b[0m\n",
      "\u001b[1;32mc:\\Users\\hp\\anaconda3\\envs\\learn-env\\lib\\site-packages\\wordcloud\\wordcloud.py\u001b[0m in \u001b[0;36mgenerate_from_frequencies\u001b[1;34m(self, frequencies, max_font_size)\u001b[0m\n\u001b[0;32m    506\u001b[0m                     font, orientation=orientation)\n\u001b[0;32m    507\u001b[0m                 \u001b[1;31m# get size of resulting text\u001b[0m\u001b[1;33m\u001b[0m\u001b[1;33m\u001b[0m\u001b[1;33m\u001b[0m\u001b[0m\n\u001b[1;32m--> 508\u001b[1;33m                 \u001b[0mbox_size\u001b[0m \u001b[1;33m=\u001b[0m \u001b[0mdraw\u001b[0m\u001b[1;33m.\u001b[0m\u001b[0mtextbbox\u001b[0m\u001b[1;33m(\u001b[0m\u001b[1;33m(\u001b[0m\u001b[1;36m0\u001b[0m\u001b[1;33m,\u001b[0m \u001b[1;36m0\u001b[0m\u001b[1;33m)\u001b[0m\u001b[1;33m,\u001b[0m \u001b[0mword\u001b[0m\u001b[1;33m,\u001b[0m \u001b[0mfont\u001b[0m\u001b[1;33m=\u001b[0m\u001b[0mtransposed_font\u001b[0m\u001b[1;33m,\u001b[0m \u001b[0manchor\u001b[0m\u001b[1;33m=\u001b[0m\u001b[1;34m\"lt\"\u001b[0m\u001b[1;33m)\u001b[0m\u001b[1;33m\u001b[0m\u001b[1;33m\u001b[0m\u001b[0m\n\u001b[0m\u001b[0;32m    509\u001b[0m                 \u001b[1;31m# find possible places using integral image:\u001b[0m\u001b[1;33m\u001b[0m\u001b[1;33m\u001b[0m\u001b[1;33m\u001b[0m\u001b[0m\n\u001b[0;32m    510\u001b[0m                 result = occupancy.sample_position(box_size[3] + self.margin,\n",
      "\u001b[1;32mc:\\Users\\hp\\anaconda3\\envs\\learn-env\\lib\\site-packages\\PIL\\ImageDraw.py\u001b[0m in \u001b[0;36mtextbbox\u001b[1;34m(self, xy, text, font, anchor, spacing, align, direction, features, language, stroke_width, embedded_color)\u001b[0m\n\u001b[0;32m    565\u001b[0m             \u001b[0mfont\u001b[0m \u001b[1;33m=\u001b[0m \u001b[0mself\u001b[0m\u001b[1;33m.\u001b[0m\u001b[0mgetfont\u001b[0m\u001b[1;33m(\u001b[0m\u001b[1;33m)\u001b[0m\u001b[1;33m\u001b[0m\u001b[1;33m\u001b[0m\u001b[0m\n\u001b[0;32m    566\u001b[0m         \u001b[0mmode\u001b[0m \u001b[1;33m=\u001b[0m \u001b[1;34m\"RGBA\"\u001b[0m \u001b[1;32mif\u001b[0m \u001b[0membedded_color\u001b[0m \u001b[1;32melse\u001b[0m \u001b[0mself\u001b[0m\u001b[1;33m.\u001b[0m\u001b[0mfontmode\u001b[0m\u001b[1;33m\u001b[0m\u001b[1;33m\u001b[0m\u001b[0m\n\u001b[1;32m--> 567\u001b[1;33m         bbox = font.getbbox(\n\u001b[0m\u001b[0;32m    568\u001b[0m             \u001b[0mtext\u001b[0m\u001b[1;33m,\u001b[0m \u001b[0mmode\u001b[0m\u001b[1;33m,\u001b[0m \u001b[0mdirection\u001b[0m\u001b[1;33m,\u001b[0m \u001b[0mfeatures\u001b[0m\u001b[1;33m,\u001b[0m \u001b[0mlanguage\u001b[0m\u001b[1;33m,\u001b[0m \u001b[0mstroke_width\u001b[0m\u001b[1;33m,\u001b[0m \u001b[0manchor\u001b[0m\u001b[1;33m\u001b[0m\u001b[1;33m\u001b[0m\u001b[0m\n\u001b[0;32m    569\u001b[0m         )\n",
      "\u001b[1;31mAttributeError\u001b[0m: 'TransposedFont' object has no attribute 'getbbox'"
     ]
    }
   ],
   "source": [
    "from wordcloud import WordCloud\n",
    "# Create the word cloud and word frequency\n",
    "genres_text = '|'.join(merged_dataset['genres'])\n",
    "genres_list = genres_text.split('|')\n",
    "word_frequency = {}\n",
    "for genre in genres_list:\n",
    "    word_frequency[genre] = word_frequency.get(genre, 0) + 1\n",
    "\n",
    "# Create the word cloud\n",
    "wordcloud = WordCloud(width=400, height=200, background_color='white').generate_from_frequencies(word_frequency)\n",
    "\n",
    "# Create the bar plot\n",
    "word_frequency_2 = pd.Series(word_frequency)\n",
    "word_frequency_2 = word_frequency_2.sort_values(ascending=False)\n",
    "\n",
    "# Create the figure and subplots\n",
    "fig, (ax1, ax2) = plt.subplots(1, 2, figsize=(15, 6))\n",
    "\n",
    "# Plot the word cloud\n",
    "ax1.imshow(wordcloud, interpolation='bilinear')\n",
    "ax1.set_title('GENRES')\n",
    "ax1.axis('off')\n",
    "\n",
    "# Plot the bar plot\n",
    "sns.barplot(x=word_frequency_2.index, y=word_frequency_2.values, ax=ax2)\n",
    "ax2.set_xlabel('Genre')\n",
    "ax2.set_ylabel('Count')\n",
    "ax2.set_title('Genres')\n",
    "ax2.set_xticklabels(ax2.get_xticklabels(), rotation=90)\n",
    "\n",
    "# Adjust the spacing between subplots\n",
    "plt.subplots_adjust(wspace=0.3)\n",
    "\n",
    "# Show the plot\n",
    "plt.show()"
   ]
  },
  {
   "cell_type": "markdown",
   "id": "487aecfb",
   "metadata": {},
   "source": [
    "The genres `Drama`, `Thriller`, `Crime` and `Comedy` are the most popular. They are the most appearing genres in the movies.<br>\n",
    "`Film Noir` and `Documentary` are the least watched genres."
   ]
  },
  {
   "cell_type": "markdown",
   "id": "1413871f",
   "metadata": {},
   "source": [
    "## Descriptive statistics"
   ]
  },
  {
   "cell_type": "code",
   "execution_count": null,
   "id": "2cf1b7ee",
   "metadata": {},
   "outputs": [
    {
     "name": "stdout",
     "output_type": "stream",
     "text": [
      "count    233213.000000\n",
      "mean          3.966535\n",
      "std           0.968637\n",
      "min           0.500000\n",
      "25%           3.500000\n",
      "50%           4.000000\n",
      "75%           5.000000\n",
      "max           5.000000\n",
      "Name: rating, dtype: float64\n",
      "0.25    3.5\n",
      "0.50    4.0\n",
      "0.75    5.0\n",
      "Name: rating, dtype: float64\n"
     ]
    }
   ],
   "source": [
    "# Summary statistics for ratings\n",
    "rating_stats = merged_dataset['rating'].describe()\n",
    "print(rating_stats)\n",
    "\n",
    "# Percentiles for ratings\n",
    "percentiles = [0.25, 0.50, 0.75]\n",
    "rating_percentiles = merged_dataset['rating'].quantile(percentiles)\n",
    "print(rating_percentiles)\n"
   ]
  },
  {
   "cell_type": "markdown",
   "id": "d6a73ee9",
   "metadata": {},
   "source": [
    "The mean movie rating is `3.97` with a standard deviation of `0.97`.<br>\n",
    "Atleast 50% of the movies were rated `4.0`. This implies that most of the movies produced are liked by the consumers.\n",
    "Therefore, our streaming platform should aim to feature movies rated atleast `3.5` and above."
   ]
  },
  {
   "cell_type": "code",
   "execution_count": null,
   "id": "8bdc2796",
   "metadata": {},
   "outputs": [
    {
     "name": "stdout",
     "output_type": "stream",
     "text": [
      "Drama                 148389\n",
      "Thriller              116891\n",
      "Crime                 103102\n",
      "Comedy                 96901\n",
      "Action                 69549\n",
      "Sci-Fi                 51977\n",
      "Adventure              47939\n",
      "Romance                25344\n",
      "Mystery                24352\n",
      "Fantasy                16220\n",
      "IMAX                   12263\n",
      "War                    11737\n",
      "Children               11595\n",
      "Animation              10466\n",
      "Horror                 10199\n",
      "Musical                 4496\n",
      "Western                 2354\n",
      "Film-Noir                783\n",
      "Documentary              711\n",
      "(no genres listed)         3\n",
      "dtype: int64\n",
      "+++++++++++++++++++++++++++++++++++++++++++++++++++++\n",
      "genres\n",
      "Adventure|Comedy|Fantasy|Musical            5.000000\n",
      "Animation|Drama|Sci-Fi|IMAX                 5.000000\n",
      "Drama|Horror|Mystery|Sci-Fi|Thriller        4.750000\n",
      "Action|Adventure|Animation|Crime|Fantasy    4.625000\n",
      "(no genres listed)                          4.500000\n",
      "                                              ...   \n",
      "Romance                                     2.375000\n",
      "Action|Adventure|Fantasy|Sci-Fi             2.343750\n",
      "Crime|Drama|Fantasy|Mystery|Thriller        2.333333\n",
      "Animation|Children|Musical                  2.000000\n",
      "Action|Adventure|Children|Drama             1.750000\n",
      "Name: rating, Length: 370, dtype: float64\n"
     ]
    }
   ],
   "source": [
    "# Genre Analysis\n",
    "# Count of movies per genre\n",
    "genre_counts = merged_dataset['genres'].str.split('|', expand=True).stack().value_counts()\n",
    "print(genre_counts)\n",
    "\n",
    "print('+++++++++++++++++++++++++++++++++++++++++++++++++++++')\n",
    "\n",
    "# Relationship between genres and ratings\n",
    "genre_ratings = merged_dataset.groupby('genres')['rating'].mean()\n",
    "genre_ratings = genre_ratings.sort_values(ascending=False)\n",
    "\n",
    "print(genre_ratings)\n",
    "\n"
   ]
  },
  {
   "cell_type": "markdown",
   "id": "ee563c2a",
   "metadata": {},
   "source": [
    "The genre combinations of `Adventure ,Comedy, Fantasy, Musical` and `Animation,Drama,Sci-Fi,IMAX` got the highest rating of 5 while `Action,Adventure,Children,Drama` got the lowest rating 1.75."
   ]
  },
  {
   "cell_type": "code",
   "execution_count": null,
   "id": "27edfa83",
   "metadata": {},
   "outputs": [
    {
     "name": "stdout",
     "output_type": "stream",
     "text": [
      "userId\n",
      "1       593\n",
      "2       143\n",
      "3        27\n",
      "4       580\n",
      "5       278\n",
      "       ... \n",
      "606    1407\n",
      "607     450\n",
      "608    1285\n",
      "609     241\n",
      "610    1701\n",
      "Name: rating, Length: 610, dtype: int64\n",
      "userId\n",
      "474    2455\n",
      "414    2343\n",
      "599    2100\n",
      "68     1791\n",
      "610    1701\n",
      "274    1665\n",
      "249    1635\n",
      "448    1575\n",
      "380    1536\n",
      "305    1460\n",
      "Name: rating, dtype: int64\n"
     ]
    }
   ],
   "source": [
    "#User Analysis\n",
    "# Distribution of ratings by user\n",
    "user_ratings = merged_dataset.groupby('userId')['rating'].count()\n",
    "print(user_ratings)\n",
    "\n",
    "# Top 10 most active users\n",
    "top_users = user_ratings.nlargest(10)\n",
    "print(top_users)\n"
   ]
  },
  {
   "cell_type": "code",
   "execution_count": null,
   "id": "0ff437cf",
   "metadata": {},
   "outputs": [],
   "source": [
    "ratings_by_decade"
   ]
  },
  {
   "cell_type": "code",
   "execution_count": null,
   "id": "6034bc75",
   "metadata": {},
   "outputs": [
    {
     "ename": "SyntaxError",
     "evalue": "invalid syntax (<ipython-input-78-7152569ae353>, line 9)",
     "output_type": "error",
     "traceback": [
      "\u001b[1;36m  File \u001b[1;32m\"<ipython-input-78-7152569ae353>\"\u001b[1;36m, line \u001b[1;32m9\u001b[0m\n\u001b[1;33m    print(ratings_by_decade)\u001b[0m\n\u001b[1;37m    ^\u001b[0m\n\u001b[1;31mSyntaxError\u001b[0m\u001b[1;31m:\u001b[0m invalid syntax\n"
     ]
    }
   ],
   "source": [
    "#Temporal Analysis\n",
    "# Trends in ratings over time\n",
    "ratings_over_time = merged_dataset.groupby('Year')['rating'].mean().reset_index()\n",
    "ratings_over_time['Decade'] = (ratings_over_time['Year'] // 10) * 10\n",
    "\n",
    "ratings_by_decade = ratings_over_time.groupby('Decade')['rating'].mean().reset_index()\n",
    "ratings_by_decade['Decade'] = pd.to_numeric(ratings_by_decade['Decade']\n",
    "\n",
    "print(ratings_by_decade)\n",
    "\n",
    "\n",
    "\n",
    "\n",
    "# Line plot for ratings over time\n",
    "fig, ax = plt.subplots(figsize=(15, 5))\n",
    "plt.plot(ratings_by_decade['Decade'], ratings_by_decade['rating'])\n",
    "plt.xlabel('Decade')\n",
    "plt.xlim(1920, 2000)  # Set the x-axis limits\n",
    "plt.ylabel('Average Rating')\n",
    "plt.title('Average Rating Over Time')\n",
    "\n",
    "# Show the plot\n",
    "plt.show()"
   ]
  },
  {
   "cell_type": "markdown",
   "id": "7710fc80",
   "metadata": {},
   "source": [
    "The lowest average rating was recorded for movies produced produced in 1930s while movies produced in 1940s got the highest average rating.<br>\n",
    "Generally, average ratings have been declining since 1950s with a very sharp decline observed between 1970 and 1980.<r>\n",
    "The year of movie production will be very useful to determine the average rating of a movie."
   ]
  },
  {
   "cell_type": "markdown",
   "id": "275f9a7d",
   "metadata": {},
   "source": [
    "## Modeling"
   ]
  },
  {
   "cell_type": "code",
   "execution_count": null,
   "id": "7f95a2ed",
   "metadata": {},
   "outputs": [],
   "source": [
    "# Load ratings dataset\n",
    "df = pd.read_csv('Data/ratings.csv')\n",
    "new_df = df.drop(columns='timestamp')\n",
    "\n",
    "# Load movies dataset\n",
    "df_movies = pd.read_csv('Data/movies.csv')\n",
    "\n",
    "# Create Surprise dataset\n",
    "reader = Reader()\n",
    "data = Dataset.load_from_df(new_df, reader)\n",
    "dataset = data.build_full_trainset()"
   ]
  },
  {
   "cell_type": "code",
   "execution_count": null,
   "id": "5ed4a753",
   "metadata": {},
   "outputs": [
    {
     "name": "stdout",
     "output_type": "stream",
     "text": [
      "Computing the pearson similarity matrix...\n",
      "Done computing similarity matrix.\n",
      "Computing the pearson similarity matrix...\n",
      "Done computing similarity matrix.\n",
      "Computing the pearson similarity matrix...\n",
      "Done computing similarity matrix.\n",
      "Computing the pearson similarity matrix...\n",
      "Done computing similarity matrix.\n",
      "Computing the pearson similarity matrix...\n",
      "Done computing similarity matrix.\n",
      "Computing the pearson similarity matrix...\n",
      "Done computing similarity matrix.\n",
      "Computing the pearson similarity matrix...\n",
      "Done computing similarity matrix.\n",
      "Computing the pearson similarity matrix...\n",
      "Done computing similarity matrix.\n",
      "Computing the pearson similarity matrix...\n",
      "Done computing similarity matrix.\n",
      "Computing the pearson similarity matrix...\n",
      "Done computing similarity matrix.\n",
      "Model: SVD, RMSE: 0.873009518648073\n",
      "Model: KNNWithMeans, RMSE: 0.8967864860489702\n",
      "Model: KNNBasic, RMSE: 0.9721778656987148\n",
      "Best performing model: SVD\n"
     ]
    }
   ],
   "source": [
    "from surprise.model_selection import cross_validate\n",
    "\n",
    "def evaluate_models(data):\n",
    "    # Split the data into training and test sets\n",
    "    trainset, testset = train_test_split(data, test_size=0.2, random_state=42)\n",
    "\n",
    "    # Define a list of models to evaluate\n",
    "    models = [\n",
    "        SVD(),\n",
    "        KNNBasic(sim_options={'name': 'pearson', 'user_based': True}),\n",
    "        KNNWithMeans(sim_options={'name': 'pearson', 'user_based': True})\n",
    "    ]\n",
    "\n",
    "    # Evaluate each model and store the results\n",
    "    results = []\n",
    "    for model in models:\n",
    "        # Perform cross-validation\n",
    "        cv_results = cross_validate(model, data, measures=['RMSE'], cv=5, verbose=False)\n",
    "\n",
    "        # Get the average RMSE from cross-validation\n",
    "        rmse = cv_results['test_rmse'].mean()\n",
    "\n",
    "        # Store the model and its performance\n",
    "        results.append({'model': model.__class__.__name__, 'rmse': rmse})\n",
    "\n",
    "    # Sort the results based on the RMSE in ascending order\n",
    "    sorted_results = sorted(results, key=lambda x: x['rmse'])\n",
    "\n",
    "    # Print the results\n",
    "    for result in sorted_results:\n",
    "        print(f\"Model: {result['model']}, RMSE: {result['rmse']}\")\n",
    "\n",
    "    # Select the best performing model\n",
    "    best_model = sorted_results[0]['model']\n",
    "    print(f\"Best performing model: {best_model}\")\n",
    "\n",
    "evaluate_models(data)\n"
   ]
  },
  {
   "cell_type": "code",
   "execution_count": null,
   "id": "de9f6e9e",
   "metadata": {},
   "outputs": [
    {
     "name": "stdout",
     "output_type": "stream",
     "text": [
      "{'rmse': 0.8689121690786351, 'mae': 0.6680655705098882}\n",
      "{'rmse': {'n_factors': 50, 'reg_all': 0.05}, 'mae': {'n_factors': 50, 'reg_all': 0.05}}\n"
     ]
    }
   ],
   "source": [
    "# Perform grid search for SVD\n",
    "params = {'n_factors': [20, 50, 100], 'reg_all': [0.02, 0.05, 0.1]}\n",
    "g_s_svd = GridSearchCV(SVD, param_grid=params, n_jobs=-1)\n",
    "g_s_svd.fit(data)\n",
    "\n",
    "print(g_s_svd.best_score)\n",
    "print(g_s_svd.best_params)"
   ]
  },
  {
   "cell_type": "code",
   "execution_count": null,
   "id": "7c99673c",
   "metadata": {},
   "outputs": [],
   "source": [
    "# Train SVD model\n",
    "svd = SVD(n_factors=50, reg_all=0.05)\n",
    "svd.fit(dataset)\n"
   ]
  },
  {
   "cell_type": "code",
   "execution_count": null,
   "id": "caa74955",
   "metadata": {},
   "outputs": [
    {
     "name": "stdout",
     "output_type": "stream",
     "text": [
      "      movieId                                              title  \\\n",
      "5304     8796  Funny Thing Happened on the Way to the Forum, ...   \n",
      "\n",
      "              genres  \n",
      "5304  Comedy|Musical  \n",
      "How do you rate this movie on a scale of 1-5, press n if you have not seen:\n",
      "5\n",
      "      movieId                 title  genres\n",
      "5753    31000  Sweet Liberty (1986)  Comedy\n",
      "How do you rate this movie on a scale of 1-5, press n if you have not seen:\n",
      "5\n",
      "      movieId                        title        genres\n",
      "2491     3325  Next Best Thing, The (2000)  Comedy|Drama\n",
      "How do you rate this movie on a scale of 1-5, press n if you have not seen:\n",
      "3\n",
      "      movieId                       title          genres\n",
      "3251     4394  Beach Blanket Bingo (1965)  Comedy|Musical\n",
      "How do you rate this movie on a scale of 1-5, press n if you have not seen:\n",
      "1\n"
     ]
    }
   ],
   "source": [
    "# Function to get user ratings for movies\n",
    "def movie_rater(movie_df, num, genre=None):\n",
    "    userID = 1000  # Set a default userID for new users\n",
    "    rating_list = []\n",
    "    while num > 0:\n",
    "        if genre:\n",
    "            movie = movie_df[movie_df['genres'].str.contains(genre)].sample(1)\n",
    "        else:\n",
    "            movie = movie_df.sample(1)\n",
    "        print(movie)\n",
    "        rating = input('How do you rate this movie on a scale of 1-5, press n if you have not seen, or type \"escape\" to see personalized recommendations:\\n')\n",
    "        if rating == 'n':\n",
    "            continue\n",
    "        elif rating.lower() == 'escape':\n",
    "            return None  # Indicates the user wants personalized recommendations\n",
    "        else:\n",
    "            rating_one_movie = {'userId': userID, 'movieId': movie['movieId'].values[0], 'rating': float(rating)}\n",
    "            rating_list.append(rating_one_movie)\n",
    "            num -= 1\n",
    "    return rating_list"
   ]
  },
  {
   "cell_type": "code",
   "execution_count": null,
   "id": "f087ee41",
   "metadata": {},
   "outputs": [],
   "source": [
    "# Function to recommend popular movies\n",
    "def recommend_popular_movies(ratings_df, movies_df, genre, num_recommendations=5):\n",
    "    # Calculate average ratings and number of ratings for each movie\n",
    "    average_ratings = ratings_df.groupby('movieId')['rating'].mean()\n",
    "    num_ratings = ratings_df.groupby('movieId')['rating'].count()\n",
    "\n",
    "    # Create a DataFrame with movie popularity metrics\n",
    "    popularity_df = pd.DataFrame({'average_rating': average_ratings, 'num_ratings': num_ratings})\n",
    "\n",
    "    # Sort movies based on popularity metrics (e.g., average rating and number of ratings)\n",
    "    popularity_df = popularity_df.sort_values(by=['average_rating', 'num_ratings'], ascending=False)\n",
    "\n",
    "    # Filter movies by genre (if provided)\n",
    "    if genre:\n",
    "        popular_movies = movies_df[movies_df['genres'].str.contains(genre)]\n",
    "        popular_movies = popular_movies.merge(popularity_df, on='movieId', how='left')\n",
    "    else:\n",
    "        popular_movies = popularity_df.merge(movies_df, on='movieId', how='left')\n",
    "\n",
    "    # Get the top-rated or most popular movies from the sorted DataFrame\n",
    "    top_movies = popular_movies.head(num_recommendations)\n",
    "\n",
    "    # Return the recommended movies\n",
    "    return top_movies['title']"
   ]
  },
  {
   "cell_type": "code",
   "execution_count": null,
   "id": "89bb18cf",
   "metadata": {},
   "outputs": [],
   "source": [
    "# Load ratings and movies data\n",
    "ratings_df = pd.read_csv('Data/ratings.csv')\n",
    "movies_df = pd.read_csv('Data/movies.csv')"
   ]
  },
  {
   "cell_type": "code",
   "execution_count": null,
   "id": "5da438a2",
   "metadata": {},
   "outputs": [
    {
     "data": {
      "text/plain": [
       "[(318, 4.376130388378028),\n",
       " (750, 4.350073233537948),\n",
       " (1204, 4.333187008039224),\n",
       " (858, 4.28256969999299),\n",
       " (904, 4.281691007925962)]"
      ]
     },
     "execution_count": 140,
     "metadata": {},
     "output_type": "execute_result"
    }
   ],
   "source": [
    "# Prompt the user to enter their user ID\n",
    "user_id = input('Enter your user ID: ')\n",
    "\n",
    "# Convert user_id to int data type\n",
    "user_id = int(user_id)"
   ]
  },
  {
   "cell_type": "code",
   "execution_count": null,
   "id": "8b0de091",
   "metadata": {},
   "outputs": [
    {
     "ename": "ValueError",
     "evalue": "invalid literal for int() with base 10: 'M'",
     "output_type": "error",
     "traceback": [
      "\u001b[0;31m---------------------------------------------------------------------------\u001b[0m",
      "\u001b[0;31mValueError\u001b[0m                                Traceback (most recent call last)",
      "Cell \u001b[0;32mIn[58], line 4\u001b[0m\n\u001b[1;32m      2\u001b[0m n \u001b[38;5;241m=\u001b[39m \u001b[38;5;241m5\u001b[39m\n\u001b[1;32m      3\u001b[0m \u001b[38;5;28;01mfor\u001b[39;00m idx, rec \u001b[38;5;129;01min\u001b[39;00m \u001b[38;5;28menumerate\u001b[39m(ranked_movies):\n\u001b[0;32m----> 4\u001b[0m     title \u001b[38;5;241m=\u001b[39m df_movies\u001b[38;5;241m.\u001b[39mloc[df_movies[\u001b[38;5;124m'\u001b[39m\u001b[38;5;124mmovieId\u001b[39m\u001b[38;5;124m'\u001b[39m] \u001b[38;5;241m==\u001b[39m \u001b[38;5;28;43mint\u001b[39;49m\u001b[43m(\u001b[49m\u001b[43mrec\u001b[49m\u001b[43m[\u001b[49m\u001b[38;5;241;43m0\u001b[39;49m\u001b[43m]\u001b[49m\u001b[43m)\u001b[49m][\u001b[38;5;124m'\u001b[39m\u001b[38;5;124mtitle\u001b[39m\u001b[38;5;124m'\u001b[39m]\n\u001b[1;32m      5\u001b[0m     \u001b[38;5;28mprint\u001b[39m(\u001b[38;5;124m'\u001b[39m\u001b[38;5;124mRecommendation #\u001b[39m\u001b[38;5;124m'\u001b[39m, idx\u001b[38;5;241m+\u001b[39m\u001b[38;5;241m1\u001b[39m, \u001b[38;5;124m'\u001b[39m\u001b[38;5;124m:\u001b[39m\u001b[38;5;124m'\u001b[39m, title, \u001b[38;5;124m'\u001b[39m\u001b[38;5;130;01m\\n\u001b[39;00m\u001b[38;5;124m'\u001b[39m)\n\u001b[1;32m      6\u001b[0m     n \u001b[38;5;241m-\u001b[39m\u001b[38;5;241m=\u001b[39m \u001b[38;5;241m1\u001b[39m\n",
      "\u001b[0;31mValueError\u001b[0m: invalid literal for int() with base 10: 'M'"
     ]
    }
   ],
   "source": [
    "# Check if the user already exists in the ratings dataset\n",
    "if user_id in ratings_df['userId'].unique():\n",
    "    # Get user ratings using the movie_rater function\n",
    "    user_rating = movie_rater(movies_df, 4, genre='Comedy')\n",
    "\n",
    "    if user_rating is None:\n",
    "        # User wants personalized recommendations\n",
    "        print(\"Personalized recommendations based on user's ratings\")\n",
    "        \n",
    "        # Extract the user's ratings from the ratings dataframe\n",
    "        user_ratings = ratings_df[ratings_df['userId'] == user_id]\n",
    "\n",
    "        # Group the ratings by movie and calculate the average rating for each movie\n",
    "        movie_ratings = user_ratings.groupby('movieId')['rating'].mean().reset_index()\n",
    "\n",
    "        # Merge movie ratings with movie metadata\n",
    "        personalized_movies = movie_ratings.merge(movies_df, on='movieId', how='left')\n",
    "\n",
    "        # Sort the movies based on the average rating\n",
    "        personalized_movies = personalized_movies.sort_values(by='rating', ascending=False)\n",
    "\n",
    "        # Get the top 5 movie recommendations\n",
    "        recommendations = personalized_movies['title'].head(5)\n",
    "\n",
    "        # Print the recommendations\n",
    "        for idx, rec in enumerate(recommendations):\n",
    "            print(f\"Recommendation #{idx+1}: {rec}\")\n",
    "\n",
    "    else:\n",
    "        # User has provided ratings\n",
    "        # Add the new ratings to the original ratings DataFrame\n",
    "        user_ratings = pd.DataFrame(user_rating)\n",
    "        new_ratings_df = pd.concat([ratings_df, user_ratings], ignore_index=True)\n",
    "\n",
    "        # Define the reader\n",
    "        reader = Reader(rating_scale=(1, 5))\n",
    "\n",
    "        # Load the data from the DataFrame\n",
    "        new_data = Dataset.load_from_df(new_ratings_df[['userId', 'movieId', 'rating']], reader)\n",
    "\n",
    "        # Train the SVD model with the updated ratings\n",
    "        svd = SVD()\n",
    "        svd.fit(new_data.build_full_trainset())\n",
    "\n",
    "        # Predict ratings for unrated movies\n",
    "        predictions = []\n",
    "        for movie_id in movies_df['movieId'].unique():\n",
    "            predicted_rating = svd.predict(user_id, movie_id).est\n",
    "            predictions.append((movie_id, predicted_rating))\n",
    "\n",
    "        # Sort the predicted ratings\n",
    "        ranked_predictions = sorted(predictions, key=lambda x: x[1], reverse=True)\n",
    "\n",
    "        # Print the top 5 movie recommendations for the user\n",
    "        print(\"Top 5 movie recommendations based on your ratings:\")\n",
    "        for idx, rec in enumerate(ranked_predictions[:5]):\n",
    "            title = movies_df.loc[movies_df['movieId'] == rec[0], 'title'].values[0]\n",
    "            print(f\"Recommendation #{idx+1}: {title}\")\n",
    "\n",
    "else:\n",
    "    # New user without any ratings\n",
    "    print(\"Popular movie recommendations:\")\n",
    "    genre = input(\"Enter a genre to get recommendations based on that (leave blank for all genres): \")\n",
    "    recommendations = recommend_popular_movies(ratings_df, movies_df, genre, num_recommendations=5)\n",
    "    for idx, rec in enumerate(recommendations):\n",
    "        print(f\"Recommendation #{idx+1}: {rec}\")"
   ]
  },
  {
   "cell_type": "code",
   "execution_count": null,
   "id": "ac9bca29",
   "metadata": {},
   "outputs": [],
   "source": []
  }
 ],
 "metadata": {
  "kernelspec": {
   "display_name": "Python 3 (ipykernel)",
   "language": "python",
   "name": "python3"
  },
  "language_info": {
   "codemirror_mode": {
    "name": "ipython",
    "version": 3
   },
   "file_extension": ".py",
   "mimetype": "text/x-python",
   "name": "python",
   "nbconvert_exporter": "python",
   "pygments_lexer": "ipython3",
   "version": "3.8.5"
  }
 },
 "nbformat": 4,
 "nbformat_minor": 5
}
