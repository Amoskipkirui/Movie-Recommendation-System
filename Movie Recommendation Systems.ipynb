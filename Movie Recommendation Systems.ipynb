{
 "cells": [
  {
   "cell_type": "markdown",
   "id": "3a5b5270",
   "metadata": {},
   "source": [
    "\n",
    "# Movie Recommendation System\n",
    "## Group 6 Phase 4 Project\n",
    "### Contributors\n",
    " 1. [Dennis Mwanzia](https://github.com/DennisMwanzia)\n",
    " 2. [Amos Kipkirui](https://github.com/Amoskipkirui)\n",
    " 3. [Robert Mbau](https://github.com/robertmbau)\n",
    " 4. [Fiona Kungu](https://github.com/Fiona-Kungu)\n",
    " 5. [Maureen Kitanga](https://github.com/ndungek)\n",
    " 6. [Edwin Muhia](https://github.com/rurungamuhia)\n",
    " "
   ]
  },
  {
   "cell_type": "markdown",
   "id": "46e1025f",
   "metadata": {},
   "source": [
    "## Overview\n",
    "- MovieXplosion, a new streaming platform wants to improve their user satisfaction. The performance of the platform is dependent on how they can keep user engaged, one way to do this is by providing tailor-made recommendations to the users to drive them to spend more time on the platform.\n",
    "- The project aims to develop a system that suggests movies to users. We will implement this using collaborative filtering, content-based filtering and hybrid approaches.\n",
    "## Problem Statement\n",
    "- The current system that the platform employs does not provide suitable recommendations to users which has led to low user engagement, satisfaction and retention. The system also has no way of providing new users with good recommendations and the existing users do not receive tailor-made recommendations.\n",
    "- The new system aims to bypass these issues and provide relevant recommendations to all users.\n",
    "## Objectives\n",
    "1. Build a model that provides top 5 recommendations to a user.\n",
    "2. Develop a system that will address the `cold start` problem for new users.\n",
    "3. Enhance the recommendation system to provide accurate and relevant movie suggestions based on the user.\n",
    "4. Evaluate the system performance using appropriate metrics such as `RMSE`.\n",
    "## Data Understanding\n",
    "The data used was sourced from [MovieLens](https://grouplens.org/datasets/movielens/latest/), we used the small dataset due to limited computational power. The data contains information about movies, ratings by users and other relevant information.\n",
    "### Data Description\n",
    "There are several files available with different columns:\n",
    "1. Movies File\n",
    "- It contains information about the movies.<br>\n",
    "`movieId` - Unique identifier for each movie.<br>\n",
    "`title` - The movie titles.<br>\n",
    "`genre` - The various genres a movie falls into.<br>\n",
    "2. Ratings file\n",
    "- It contains the ratings for the movies by different users.<br>\n",
    "`userId` - Unique identifier for each user<br>\n",
    "`movieId` - Unique identifier for each movie.<br>\n",
    "`rating` - A value between 0 to 5 that a user rates a movie on. A higher rating indicates a higher preference.<br>\n",
    "`timestamp` - This are the seconds that have passed since Midnight January 1, 1970(UTC)\n",
    "3. Tags file\n",
    "- It has user-generated words or short phrases about a movie with the meaning or value being determined ny the specific user.<br>\n",
    "`userId` - Unique identifier for each user<br>\n",
    "`movieId` - Unique identifier for each movie.<br>\n",
    "`tag` - A word or phrase determined by the user.<br>\n",
    "`timestamp` - This are the seconds that have passed since Midnight January 1, 1970(UTC)\n",
    "4. Links file\n",
    "- This are identifiers that can be used to link to other sources of movie data as provide by MovieLens.<br>\n",
    "`movieId` -  It's an identifier for movies used by https://movielens.org. E.g., the movie Toy Story has the link https://movielens.org/movies/1.<br>\n",
    "`imdbId` -  It's an identifier for movies used by http://www.imdb.com. E.g., the movie Toy Story has the link http://www.imdb.com/title/tt0114709/.<br>\n",
    "`tmdbId` -  is an identifier for movies used by https://www.themoviedb.org. E.g., the movie Toy Story has the link https://www.themoviedb.org/movie/862. <br>"
   ]
  },
  {
   "cell_type": "code",
   "execution_count": 159,
   "id": "6aac91dd",
   "metadata": {},
   "outputs": [],
   "source": [
    "#importing relevant libraries\n",
    "#standard libraries\n",
    "import pandas as pd\n",
    "import numpy as np\n",
    "#from surprise import Reader\n",
    "\n",
    "#visualization Libraries\n",
    "import matplotlib.pyplot as plt\n",
    "import seaborn as sns\n",
    "%matplotlib inline\n",
    "\n",
    "\n",
    "from surprise import Reader, Dataset\n",
    "from surprise.model_selection import cross_validate\n",
    "from surprise.model_selection import train_test_split\n",
    "from surprise import accuracy\n",
    "from surprise.prediction_algorithms import SVD, KNNBasic, KNNBaseline,KNNWithMeans\n",
    "from surprise.model_selection import GridSearchCV\n"
   ]
  },
  {
   "cell_type": "code",
   "execution_count": 160,
   "id": "a29bd862",
   "metadata": {},
   "outputs": [
    {
     "data": {
      "text/html": [
       "<div>\n",
       "<style scoped>\n",
       "    .dataframe tbody tr th:only-of-type {\n",
       "        vertical-align: middle;\n",
       "    }\n",
       "\n",
       "    .dataframe tbody tr th {\n",
       "        vertical-align: top;\n",
       "    }\n",
       "\n",
       "    .dataframe thead th {\n",
       "        text-align: right;\n",
       "    }\n",
       "</style>\n",
       "<table border=\"1\" class=\"dataframe\">\n",
       "  <thead>\n",
       "    <tr style=\"text-align: right;\">\n",
       "      <th></th>\n",
       "      <th>movieId</th>\n",
       "      <th>title</th>\n",
       "      <th>genres</th>\n",
       "    </tr>\n",
       "  </thead>\n",
       "  <tbody>\n",
       "    <tr>\n",
       "      <th>0</th>\n",
       "      <td>1</td>\n",
       "      <td>Toy Story (1995)</td>\n",
       "      <td>Adventure|Animation|Children|Comedy|Fantasy</td>\n",
       "    </tr>\n",
       "    <tr>\n",
       "      <th>1</th>\n",
       "      <td>2</td>\n",
       "      <td>Jumanji (1995)</td>\n",
       "      <td>Adventure|Children|Fantasy</td>\n",
       "    </tr>\n",
       "    <tr>\n",
       "      <th>2</th>\n",
       "      <td>3</td>\n",
       "      <td>Grumpier Old Men (1995)</td>\n",
       "      <td>Comedy|Romance</td>\n",
       "    </tr>\n",
       "    <tr>\n",
       "      <th>3</th>\n",
       "      <td>4</td>\n",
       "      <td>Waiting to Exhale (1995)</td>\n",
       "      <td>Comedy|Drama|Romance</td>\n",
       "    </tr>\n",
       "    <tr>\n",
       "      <th>4</th>\n",
       "      <td>5</td>\n",
       "      <td>Father of the Bride Part II (1995)</td>\n",
       "      <td>Comedy</td>\n",
       "    </tr>\n",
       "  </tbody>\n",
       "</table>\n",
       "</div>"
      ],
      "text/plain": [
       "   movieId                               title  \\\n",
       "0        1                    Toy Story (1995)   \n",
       "1        2                      Jumanji (1995)   \n",
       "2        3             Grumpier Old Men (1995)   \n",
       "3        4            Waiting to Exhale (1995)   \n",
       "4        5  Father of the Bride Part II (1995)   \n",
       "\n",
       "                                        genres  \n",
       "0  Adventure|Animation|Children|Comedy|Fantasy  \n",
       "1                   Adventure|Children|Fantasy  \n",
       "2                               Comedy|Romance  \n",
       "3                         Comedy|Drama|Romance  \n",
       "4                                       Comedy  "
      ]
     },
     "execution_count": 160,
     "metadata": {},
     "output_type": "execute_result"
    }
   ],
   "source": [
    "# load data\n",
    "mov_df = pd.read_csv('Data/movies.csv')\n",
    "mov_df.head()"
   ]
  },
  {
   "cell_type": "code",
   "execution_count": 161,
   "id": "2effef34",
   "metadata": {},
   "outputs": [
    {
     "data": {
      "text/html": [
       "<div>\n",
       "<style scoped>\n",
       "    .dataframe tbody tr th:only-of-type {\n",
       "        vertical-align: middle;\n",
       "    }\n",
       "\n",
       "    .dataframe tbody tr th {\n",
       "        vertical-align: top;\n",
       "    }\n",
       "\n",
       "    .dataframe thead th {\n",
       "        text-align: right;\n",
       "    }\n",
       "</style>\n",
       "<table border=\"1\" class=\"dataframe\">\n",
       "  <thead>\n",
       "    <tr style=\"text-align: right;\">\n",
       "      <th></th>\n",
       "      <th>userId</th>\n",
       "      <th>movieId</th>\n",
       "      <th>rating</th>\n",
       "      <th>timestamp</th>\n",
       "    </tr>\n",
       "  </thead>\n",
       "  <tbody>\n",
       "    <tr>\n",
       "      <th>0</th>\n",
       "      <td>1</td>\n",
       "      <td>1</td>\n",
       "      <td>4.0</td>\n",
       "      <td>964982703</td>\n",
       "    </tr>\n",
       "    <tr>\n",
       "      <th>1</th>\n",
       "      <td>1</td>\n",
       "      <td>3</td>\n",
       "      <td>4.0</td>\n",
       "      <td>964981247</td>\n",
       "    </tr>\n",
       "    <tr>\n",
       "      <th>2</th>\n",
       "      <td>1</td>\n",
       "      <td>6</td>\n",
       "      <td>4.0</td>\n",
       "      <td>964982224</td>\n",
       "    </tr>\n",
       "    <tr>\n",
       "      <th>3</th>\n",
       "      <td>1</td>\n",
       "      <td>47</td>\n",
       "      <td>5.0</td>\n",
       "      <td>964983815</td>\n",
       "    </tr>\n",
       "    <tr>\n",
       "      <th>4</th>\n",
       "      <td>1</td>\n",
       "      <td>50</td>\n",
       "      <td>5.0</td>\n",
       "      <td>964982931</td>\n",
       "    </tr>\n",
       "  </tbody>\n",
       "</table>\n",
       "</div>"
      ],
      "text/plain": [
       "   userId  movieId  rating  timestamp\n",
       "0       1        1     4.0  964982703\n",
       "1       1        3     4.0  964981247\n",
       "2       1        6     4.0  964982224\n",
       "3       1       47     5.0  964983815\n",
       "4       1       50     5.0  964982931"
      ]
     },
     "execution_count": 161,
     "metadata": {},
     "output_type": "execute_result"
    }
   ],
   "source": [
    "# ratings dataframe\n",
    "ratings_df = pd.read_csv('Data/ratings.csv')\n",
    "ratings_df.head()"
   ]
  },
  {
   "cell_type": "code",
   "execution_count": 162,
   "id": "47ce00c1",
   "metadata": {},
   "outputs": [
    {
     "data": {
      "text/html": [
       "<div>\n",
       "<style scoped>\n",
       "    .dataframe tbody tr th:only-of-type {\n",
       "        vertical-align: middle;\n",
       "    }\n",
       "\n",
       "    .dataframe tbody tr th {\n",
       "        vertical-align: top;\n",
       "    }\n",
       "\n",
       "    .dataframe thead th {\n",
       "        text-align: right;\n",
       "    }\n",
       "</style>\n",
       "<table border=\"1\" class=\"dataframe\">\n",
       "  <thead>\n",
       "    <tr style=\"text-align: right;\">\n",
       "      <th></th>\n",
       "      <th>movieId</th>\n",
       "      <th>imdbId</th>\n",
       "      <th>tmdbId</th>\n",
       "    </tr>\n",
       "  </thead>\n",
       "  <tbody>\n",
       "    <tr>\n",
       "      <th>0</th>\n",
       "      <td>1</td>\n",
       "      <td>114709</td>\n",
       "      <td>862.0</td>\n",
       "    </tr>\n",
       "    <tr>\n",
       "      <th>1</th>\n",
       "      <td>2</td>\n",
       "      <td>113497</td>\n",
       "      <td>8844.0</td>\n",
       "    </tr>\n",
       "    <tr>\n",
       "      <th>2</th>\n",
       "      <td>3</td>\n",
       "      <td>113228</td>\n",
       "      <td>15602.0</td>\n",
       "    </tr>\n",
       "    <tr>\n",
       "      <th>3</th>\n",
       "      <td>4</td>\n",
       "      <td>114885</td>\n",
       "      <td>31357.0</td>\n",
       "    </tr>\n",
       "    <tr>\n",
       "      <th>4</th>\n",
       "      <td>5</td>\n",
       "      <td>113041</td>\n",
       "      <td>11862.0</td>\n",
       "    </tr>\n",
       "  </tbody>\n",
       "</table>\n",
       "</div>"
      ],
      "text/plain": [
       "   movieId  imdbId   tmdbId\n",
       "0        1  114709    862.0\n",
       "1        2  113497   8844.0\n",
       "2        3  113228  15602.0\n",
       "3        4  114885  31357.0\n",
       "4        5  113041  11862.0"
      ]
     },
     "execution_count": 162,
     "metadata": {},
     "output_type": "execute_result"
    }
   ],
   "source": [
    "# ratings dataframe\n",
    "links_df = pd.read_csv('Data/links.csv')\n",
    "links_df.head()"
   ]
  },
  {
   "cell_type": "code",
   "execution_count": 163,
   "id": "384730ed",
   "metadata": {},
   "outputs": [
    {
     "data": {
      "text/html": [
       "<div>\n",
       "<style scoped>\n",
       "    .dataframe tbody tr th:only-of-type {\n",
       "        vertical-align: middle;\n",
       "    }\n",
       "\n",
       "    .dataframe tbody tr th {\n",
       "        vertical-align: top;\n",
       "    }\n",
       "\n",
       "    .dataframe thead th {\n",
       "        text-align: right;\n",
       "    }\n",
       "</style>\n",
       "<table border=\"1\" class=\"dataframe\">\n",
       "  <thead>\n",
       "    <tr style=\"text-align: right;\">\n",
       "      <th></th>\n",
       "      <th>userId</th>\n",
       "      <th>movieId</th>\n",
       "      <th>tag</th>\n",
       "      <th>timestamp</th>\n",
       "    </tr>\n",
       "  </thead>\n",
       "  <tbody>\n",
       "    <tr>\n",
       "      <th>0</th>\n",
       "      <td>2</td>\n",
       "      <td>60756</td>\n",
       "      <td>funny</td>\n",
       "      <td>1445714994</td>\n",
       "    </tr>\n",
       "    <tr>\n",
       "      <th>1</th>\n",
       "      <td>2</td>\n",
       "      <td>60756</td>\n",
       "      <td>Highly quotable</td>\n",
       "      <td>1445714996</td>\n",
       "    </tr>\n",
       "    <tr>\n",
       "      <th>2</th>\n",
       "      <td>2</td>\n",
       "      <td>60756</td>\n",
       "      <td>will ferrell</td>\n",
       "      <td>1445714992</td>\n",
       "    </tr>\n",
       "    <tr>\n",
       "      <th>3</th>\n",
       "      <td>2</td>\n",
       "      <td>89774</td>\n",
       "      <td>Boxing story</td>\n",
       "      <td>1445715207</td>\n",
       "    </tr>\n",
       "    <tr>\n",
       "      <th>4</th>\n",
       "      <td>2</td>\n",
       "      <td>89774</td>\n",
       "      <td>MMA</td>\n",
       "      <td>1445715200</td>\n",
       "    </tr>\n",
       "  </tbody>\n",
       "</table>\n",
       "</div>"
      ],
      "text/plain": [
       "   userId  movieId              tag   timestamp\n",
       "0       2    60756            funny  1445714994\n",
       "1       2    60756  Highly quotable  1445714996\n",
       "2       2    60756     will ferrell  1445714992\n",
       "3       2    89774     Boxing story  1445715207\n",
       "4       2    89774              MMA  1445715200"
      ]
     },
     "execution_count": 163,
     "metadata": {},
     "output_type": "execute_result"
    }
   ],
   "source": [
    "# ratings dataframe\n",
    "tags_df = pd.read_csv('Data/tags.csv')\n",
    "tags_df.head()"
   ]
  },
  {
   "cell_type": "code",
   "execution_count": 164,
   "id": "12a64a8b",
   "metadata": {},
   "outputs": [
    {
     "data": {
      "text/html": [
       "<div>\n",
       "<style scoped>\n",
       "    .dataframe tbody tr th:only-of-type {\n",
       "        vertical-align: middle;\n",
       "    }\n",
       "\n",
       "    .dataframe tbody tr th {\n",
       "        vertical-align: top;\n",
       "    }\n",
       "\n",
       "    .dataframe thead th {\n",
       "        text-align: right;\n",
       "    }\n",
       "</style>\n",
       "<table border=\"1\" class=\"dataframe\">\n",
       "  <thead>\n",
       "    <tr style=\"text-align: right;\">\n",
       "      <th></th>\n",
       "      <th>movieId</th>\n",
       "      <th>tag</th>\n",
       "    </tr>\n",
       "  </thead>\n",
       "  <tbody>\n",
       "    <tr>\n",
       "      <th>0</th>\n",
       "      <td>60756</td>\n",
       "      <td>funny</td>\n",
       "    </tr>\n",
       "    <tr>\n",
       "      <th>1</th>\n",
       "      <td>60756</td>\n",
       "      <td>Highly quotable</td>\n",
       "    </tr>\n",
       "    <tr>\n",
       "      <th>2</th>\n",
       "      <td>60756</td>\n",
       "      <td>will ferrell</td>\n",
       "    </tr>\n",
       "    <tr>\n",
       "      <th>3</th>\n",
       "      <td>89774</td>\n",
       "      <td>Boxing story</td>\n",
       "    </tr>\n",
       "    <tr>\n",
       "      <th>4</th>\n",
       "      <td>89774</td>\n",
       "      <td>MMA</td>\n",
       "    </tr>\n",
       "  </tbody>\n",
       "</table>\n",
       "</div>"
      ],
      "text/plain": [
       "   movieId              tag\n",
       "0    60756            funny\n",
       "1    60756  Highly quotable\n",
       "2    60756     will ferrell\n",
       "3    89774     Boxing story\n",
       "4    89774              MMA"
      ]
     },
     "execution_count": 164,
     "metadata": {},
     "output_type": "execute_result"
    }
   ],
   "source": [
    "# We have userID and timestamp columns in the tags data. Therefore, we dropped the two columns before we merged the entire dataset\n",
    "\n",
    "# Drop the 'userId' and 'timestamp' columns from the 'merged_dataset'\n",
    "tags_df = tags_df.drop(['userId', 'timestamp'], axis=1)\n",
    "\n",
    "# View the updated DataFrame\n",
    "tags_df.head()\n"
   ]
  },
  {
   "cell_type": "code",
   "execution_count": 165,
   "id": "5032baab",
   "metadata": {},
   "outputs": [],
   "source": [
    "#Data Exploration"
   ]
  },
  {
   "cell_type": "code",
   "execution_count": 166,
   "id": "b2953ab5",
   "metadata": {},
   "outputs": [
    {
     "data": {
      "text/plain": [
       "movieId    0\n",
       "title      0\n",
       "genres     0\n",
       "dtype: int64"
      ]
     },
     "execution_count": 166,
     "metadata": {},
     "output_type": "execute_result"
    }
   ],
   "source": [
    "# Checking Missing Data & Null Values\n",
    "# check for missing values in mov_df\n",
    "mov_df.isna().sum()"
   ]
  },
  {
   "cell_type": "code",
   "execution_count": 167,
   "id": "109dd86e",
   "metadata": {},
   "outputs": [
    {
     "data": {
      "text/plain": [
       "userId       0\n",
       "movieId      0\n",
       "rating       0\n",
       "timestamp    0\n",
       "dtype: int64"
      ]
     },
     "execution_count": 167,
     "metadata": {},
     "output_type": "execute_result"
    }
   ],
   "source": [
    "# check for missing values in ratings_df\n",
    "ratings_df.isna().sum()"
   ]
  },
  {
   "cell_type": "code",
   "execution_count": 168,
   "id": "ff64078b",
   "metadata": {},
   "outputs": [
    {
     "data": {
      "text/plain": [
       "movieId    0\n",
       "imdbId     0\n",
       "tmdbId     8\n",
       "dtype: int64"
      ]
     },
     "execution_count": 168,
     "metadata": {},
     "output_type": "execute_result"
    }
   ],
   "source": [
    "# check for missing values in links_df\n",
    "links_df.isna().sum()"
   ]
  },
  {
   "cell_type": "code",
   "execution_count": 169,
   "id": "5b3355e3",
   "metadata": {},
   "outputs": [
    {
     "data": {
      "text/plain": [
       "movieId    0\n",
       "tag        0\n",
       "dtype: int64"
      ]
     },
     "execution_count": 169,
     "metadata": {},
     "output_type": "execute_result"
    }
   ],
   "source": [
    "# check for missing values in tags_df\n",
    "tags_df.isna().sum()"
   ]
  },
  {
   "cell_type": "code",
   "execution_count": 170,
   "id": "08272696",
   "metadata": {},
   "outputs": [
    {
     "name": "stdout",
     "output_type": "stream",
     "text": [
      "Number of missing values in 'tmdbId' column: 8\n",
      "Rows with missing values in 'tmdbId' column:\n",
      "      movieId  imdbId  tmdbId\n",
      "624       791  113610     NaN\n",
      "843      1107  102336     NaN\n",
      "2141     2851   81454     NaN\n",
      "3027     4051   56600     NaN\n",
      "5532    26587   92337     NaN\n",
      "5854    32600  377059     NaN\n",
      "6059    40697  105946     NaN\n",
      "7382    79299  874957     NaN\n"
     ]
    }
   ],
   "source": [
    "# We have 8 missing values for tmdbID in Links CSV therefore, we went ahead to investigate them\n",
    "\n",
    "# Count the number of missing values in the 'tmdbId' column\n",
    "missing_values = links_df['tmdbId'].isnull().sum()\n",
    "\n",
    "# Get the rows with missing values in the 'tmdbId' column\n",
    "missing_rows = links_df[links_df['tmdbId'].isnull()]\n",
    "\n",
    "# Print the number of missing values and the rows containing them\n",
    "print(\"Number of missing values in 'tmdbId' column:\", missing_values)\n",
    "print(\"Rows with missing values in 'tmdbId' column:\")\n",
    "print(missing_rows)\n"
   ]
  },
  {
   "cell_type": "code",
   "execution_count": 171,
   "id": "ab7bb9ff",
   "metadata": {},
   "outputs": [
    {
     "data": {
      "text/html": [
       "<div>\n",
       "<style scoped>\n",
       "    .dataframe tbody tr th:only-of-type {\n",
       "        vertical-align: middle;\n",
       "    }\n",
       "\n",
       "    .dataframe tbody tr th {\n",
       "        vertical-align: top;\n",
       "    }\n",
       "\n",
       "    .dataframe thead th {\n",
       "        text-align: right;\n",
       "    }\n",
       "</style>\n",
       "<table border=\"1\" class=\"dataframe\">\n",
       "  <thead>\n",
       "    <tr style=\"text-align: right;\">\n",
       "      <th></th>\n",
       "      <th>movieId</th>\n",
       "      <th>title</th>\n",
       "      <th>genres</th>\n",
       "      <th>userId</th>\n",
       "      <th>rating</th>\n",
       "      <th>timestamp</th>\n",
       "      <th>imdbId</th>\n",
       "      <th>tmdbId</th>\n",
       "      <th>tag</th>\n",
       "    </tr>\n",
       "  </thead>\n",
       "  <tbody>\n",
       "    <tr>\n",
       "      <th>0</th>\n",
       "      <td>1</td>\n",
       "      <td>Toy Story (1995)</td>\n",
       "      <td>Adventure|Animation|Children|Comedy|Fantasy</td>\n",
       "      <td>1</td>\n",
       "      <td>4.0</td>\n",
       "      <td>964982703</td>\n",
       "      <td>114709</td>\n",
       "      <td>862.0</td>\n",
       "      <td>pixar</td>\n",
       "    </tr>\n",
       "    <tr>\n",
       "      <th>1</th>\n",
       "      <td>1</td>\n",
       "      <td>Toy Story (1995)</td>\n",
       "      <td>Adventure|Animation|Children|Comedy|Fantasy</td>\n",
       "      <td>1</td>\n",
       "      <td>4.0</td>\n",
       "      <td>964982703</td>\n",
       "      <td>114709</td>\n",
       "      <td>862.0</td>\n",
       "      <td>pixar</td>\n",
       "    </tr>\n",
       "    <tr>\n",
       "      <th>2</th>\n",
       "      <td>1</td>\n",
       "      <td>Toy Story (1995)</td>\n",
       "      <td>Adventure|Animation|Children|Comedy|Fantasy</td>\n",
       "      <td>1</td>\n",
       "      <td>4.0</td>\n",
       "      <td>964982703</td>\n",
       "      <td>114709</td>\n",
       "      <td>862.0</td>\n",
       "      <td>fun</td>\n",
       "    </tr>\n",
       "    <tr>\n",
       "      <th>3</th>\n",
       "      <td>1</td>\n",
       "      <td>Toy Story (1995)</td>\n",
       "      <td>Adventure|Animation|Children|Comedy|Fantasy</td>\n",
       "      <td>5</td>\n",
       "      <td>4.0</td>\n",
       "      <td>847434962</td>\n",
       "      <td>114709</td>\n",
       "      <td>862.0</td>\n",
       "      <td>pixar</td>\n",
       "    </tr>\n",
       "    <tr>\n",
       "      <th>4</th>\n",
       "      <td>1</td>\n",
       "      <td>Toy Story (1995)</td>\n",
       "      <td>Adventure|Animation|Children|Comedy|Fantasy</td>\n",
       "      <td>5</td>\n",
       "      <td>4.0</td>\n",
       "      <td>847434962</td>\n",
       "      <td>114709</td>\n",
       "      <td>862.0</td>\n",
       "      <td>pixar</td>\n",
       "    </tr>\n",
       "  </tbody>\n",
       "</table>\n",
       "</div>"
      ],
      "text/plain": [
       "   movieId             title                                       genres  \\\n",
       "0        1  Toy Story (1995)  Adventure|Animation|Children|Comedy|Fantasy   \n",
       "1        1  Toy Story (1995)  Adventure|Animation|Children|Comedy|Fantasy   \n",
       "2        1  Toy Story (1995)  Adventure|Animation|Children|Comedy|Fantasy   \n",
       "3        1  Toy Story (1995)  Adventure|Animation|Children|Comedy|Fantasy   \n",
       "4        1  Toy Story (1995)  Adventure|Animation|Children|Comedy|Fantasy   \n",
       "\n",
       "   userId  rating  timestamp  imdbId  tmdbId    tag  \n",
       "0       1     4.0  964982703  114709   862.0  pixar  \n",
       "1       1     4.0  964982703  114709   862.0  pixar  \n",
       "2       1     4.0  964982703  114709   862.0    fun  \n",
       "3       5     4.0  847434962  114709   862.0  pixar  \n",
       "4       5     4.0  847434962  114709   862.0  pixar  "
      ]
     },
     "execution_count": 171,
     "metadata": {},
     "output_type": "execute_result"
    }
   ],
   "source": [
    "# Combining the four datasets\n",
    "\n",
    "# Merge the 'movies' and 'ratings' datasets based on the 'movieId' column\n",
    "movies_and_ratings = pd.merge(left=mov_df, right=ratings_df, on='movieId')\n",
    "\n",
    "# Merge the 'movies_and_ratings' and 'links' datasets based on the 'movieId' column\n",
    "movies_ratings_links = pd.merge(left=movies_and_ratings, right=links_df, on='movieId')\n",
    "\n",
    "# Merge the 'movies_ratings_links' and 'tags' datasets based on the 'movieId' column\n",
    "merged_dataset = pd.merge(left=movies_ratings_links, right=tags_df, on='movieId')\n",
    "\n",
    "# Print the merged dataset\n",
    "merged_dataset.head()\n"
   ]
  },
  {
   "cell_type": "code",
   "execution_count": 172,
   "id": "24f7b13f",
   "metadata": {},
   "outputs": [
    {
     "data": {
      "text/plain": [
       "Index(['movieId', 'title', 'genres', 'userId', 'rating', 'timestamp', 'imdbId',\n",
       "       'tmdbId', 'tag'],\n",
       "      dtype='object')"
      ]
     },
     "execution_count": 172,
     "metadata": {},
     "output_type": "execute_result"
    }
   ],
   "source": [
    "merged_dataset.columns"
   ]
  },
  {
   "cell_type": "code",
   "execution_count": 173,
   "id": "8bed3751",
   "metadata": {},
   "outputs": [
    {
     "data": {
      "text/html": [
       "<div>\n",
       "<style scoped>\n",
       "    .dataframe tbody tr th:only-of-type {\n",
       "        vertical-align: middle;\n",
       "    }\n",
       "\n",
       "    .dataframe tbody tr th {\n",
       "        vertical-align: top;\n",
       "    }\n",
       "\n",
       "    .dataframe thead th {\n",
       "        text-align: right;\n",
       "    }\n",
       "</style>\n",
       "<table border=\"1\" class=\"dataframe\">\n",
       "  <thead>\n",
       "    <tr style=\"text-align: right;\">\n",
       "      <th></th>\n",
       "      <th>movieId</th>\n",
       "      <th>title</th>\n",
       "      <th>genres</th>\n",
       "      <th>userId</th>\n",
       "      <th>rating</th>\n",
       "      <th>timestamp</th>\n",
       "      <th>imdbId</th>\n",
       "      <th>tmdbId</th>\n",
       "      <th>tag</th>\n",
       "      <th>Year</th>\n",
       "    </tr>\n",
       "  </thead>\n",
       "  <tbody>\n",
       "    <tr>\n",
       "      <th>0</th>\n",
       "      <td>1</td>\n",
       "      <td>Toy Story (1995)</td>\n",
       "      <td>Adventure|Animation|Children|Comedy|Fantasy</td>\n",
       "      <td>1</td>\n",
       "      <td>4.0</td>\n",
       "      <td>964982703</td>\n",
       "      <td>114709</td>\n",
       "      <td>862.0</td>\n",
       "      <td>pixar</td>\n",
       "      <td>1995</td>\n",
       "    </tr>\n",
       "    <tr>\n",
       "      <th>1</th>\n",
       "      <td>1</td>\n",
       "      <td>Toy Story (1995)</td>\n",
       "      <td>Adventure|Animation|Children|Comedy|Fantasy</td>\n",
       "      <td>1</td>\n",
       "      <td>4.0</td>\n",
       "      <td>964982703</td>\n",
       "      <td>114709</td>\n",
       "      <td>862.0</td>\n",
       "      <td>pixar</td>\n",
       "      <td>1995</td>\n",
       "    </tr>\n",
       "    <tr>\n",
       "      <th>2</th>\n",
       "      <td>1</td>\n",
       "      <td>Toy Story (1995)</td>\n",
       "      <td>Adventure|Animation|Children|Comedy|Fantasy</td>\n",
       "      <td>1</td>\n",
       "      <td>4.0</td>\n",
       "      <td>964982703</td>\n",
       "      <td>114709</td>\n",
       "      <td>862.0</td>\n",
       "      <td>fun</td>\n",
       "      <td>1995</td>\n",
       "    </tr>\n",
       "    <tr>\n",
       "      <th>3</th>\n",
       "      <td>1</td>\n",
       "      <td>Toy Story (1995)</td>\n",
       "      <td>Adventure|Animation|Children|Comedy|Fantasy</td>\n",
       "      <td>5</td>\n",
       "      <td>4.0</td>\n",
       "      <td>847434962</td>\n",
       "      <td>114709</td>\n",
       "      <td>862.0</td>\n",
       "      <td>pixar</td>\n",
       "      <td>1995</td>\n",
       "    </tr>\n",
       "    <tr>\n",
       "      <th>4</th>\n",
       "      <td>1</td>\n",
       "      <td>Toy Story (1995)</td>\n",
       "      <td>Adventure|Animation|Children|Comedy|Fantasy</td>\n",
       "      <td>5</td>\n",
       "      <td>4.0</td>\n",
       "      <td>847434962</td>\n",
       "      <td>114709</td>\n",
       "      <td>862.0</td>\n",
       "      <td>pixar</td>\n",
       "      <td>1995</td>\n",
       "    </tr>\n",
       "  </tbody>\n",
       "</table>\n",
       "</div>"
      ],
      "text/plain": [
       "   movieId             title                                       genres  \\\n",
       "0        1  Toy Story (1995)  Adventure|Animation|Children|Comedy|Fantasy   \n",
       "1        1  Toy Story (1995)  Adventure|Animation|Children|Comedy|Fantasy   \n",
       "2        1  Toy Story (1995)  Adventure|Animation|Children|Comedy|Fantasy   \n",
       "3        1  Toy Story (1995)  Adventure|Animation|Children|Comedy|Fantasy   \n",
       "4        1  Toy Story (1995)  Adventure|Animation|Children|Comedy|Fantasy   \n",
       "\n",
       "   userId  rating  timestamp  imdbId  tmdbId    tag  Year  \n",
       "0       1     4.0  964982703  114709   862.0  pixar  1995  \n",
       "1       1     4.0  964982703  114709   862.0  pixar  1995  \n",
       "2       1     4.0  964982703  114709   862.0    fun  1995  \n",
       "3       5     4.0  847434962  114709   862.0  pixar  1995  \n",
       "4       5     4.0  847434962  114709   862.0  pixar  1995  "
      ]
     },
     "execution_count": 173,
     "metadata": {},
     "output_type": "execute_result"
    }
   ],
   "source": [
    "# Feature Engineering the Title column to extract the Year in which a movie was released\n",
    "\n",
    "# Extract the year from the 'Title' column and create a new column 'Year'\n",
    "merged_dataset['Year'] = merged_dataset['title'].str.extract(r'\\((\\d{4})\\)')\n",
    "\n",
    "# View the updated DataFrame with the 'Year' column\n",
    "merged_dataset.head()\n"
   ]
  },
  {
   "cell_type": "code",
   "execution_count": 174,
   "id": "57b3d99f",
   "metadata": {},
   "outputs": [
    {
     "name": "stdout",
     "output_type": "stream",
     "text": [
      "<class 'pandas.core.frame.DataFrame'>\n",
      "Int64Index: 233213 entries, 0 to 233212\n",
      "Data columns (total 10 columns):\n",
      " #   Column     Non-Null Count   Dtype  \n",
      "---  ------     --------------   -----  \n",
      " 0   movieId    233213 non-null  int64  \n",
      " 1   title      233213 non-null  object \n",
      " 2   genres     233213 non-null  object \n",
      " 3   userId     233213 non-null  int64  \n",
      " 4   rating     233213 non-null  float64\n",
      " 5   timestamp  233213 non-null  int64  \n",
      " 6   imdbId     233213 non-null  int64  \n",
      " 7   tmdbId     233213 non-null  float64\n",
      " 8   tag        233213 non-null  object \n",
      " 9   Year       233210 non-null  object \n",
      "dtypes: float64(2), int64(4), object(4)\n",
      "memory usage: 19.6+ MB\n"
     ]
    }
   ],
   "source": [
    "merged_dataset.info()"
   ]
  },
  {
   "cell_type": "code",
   "execution_count": 175,
   "id": "7e66dbcb",
   "metadata": {},
   "outputs": [
    {
     "data": {
      "text/html": [
       "<div>\n",
       "<style scoped>\n",
       "    .dataframe tbody tr th:only-of-type {\n",
       "        vertical-align: middle;\n",
       "    }\n",
       "\n",
       "    .dataframe tbody tr th {\n",
       "        vertical-align: top;\n",
       "    }\n",
       "\n",
       "    .dataframe thead th {\n",
       "        text-align: right;\n",
       "    }\n",
       "</style>\n",
       "<table border=\"1\" class=\"dataframe\">\n",
       "  <thead>\n",
       "    <tr style=\"text-align: right;\">\n",
       "      <th></th>\n",
       "      <th>movieId</th>\n",
       "      <th>title</th>\n",
       "      <th>genres</th>\n",
       "      <th>userId</th>\n",
       "      <th>rating</th>\n",
       "      <th>timestamp</th>\n",
       "      <th>imdbId</th>\n",
       "      <th>tmdbId</th>\n",
       "      <th>tag</th>\n",
       "      <th>Year</th>\n",
       "    </tr>\n",
       "  </thead>\n",
       "  <tbody>\n",
       "    <tr>\n",
       "      <th>0</th>\n",
       "      <td>1</td>\n",
       "      <td>Toy Story</td>\n",
       "      <td>Adventure|Animation|Children|Comedy|Fantasy</td>\n",
       "      <td>1</td>\n",
       "      <td>4.0</td>\n",
       "      <td>964982703</td>\n",
       "      <td>114709</td>\n",
       "      <td>862.0</td>\n",
       "      <td>pixar</td>\n",
       "      <td>1995</td>\n",
       "    </tr>\n",
       "    <tr>\n",
       "      <th>1</th>\n",
       "      <td>1</td>\n",
       "      <td>Toy Story</td>\n",
       "      <td>Adventure|Animation|Children|Comedy|Fantasy</td>\n",
       "      <td>1</td>\n",
       "      <td>4.0</td>\n",
       "      <td>964982703</td>\n",
       "      <td>114709</td>\n",
       "      <td>862.0</td>\n",
       "      <td>pixar</td>\n",
       "      <td>1995</td>\n",
       "    </tr>\n",
       "    <tr>\n",
       "      <th>2</th>\n",
       "      <td>1</td>\n",
       "      <td>Toy Story</td>\n",
       "      <td>Adventure|Animation|Children|Comedy|Fantasy</td>\n",
       "      <td>1</td>\n",
       "      <td>4.0</td>\n",
       "      <td>964982703</td>\n",
       "      <td>114709</td>\n",
       "      <td>862.0</td>\n",
       "      <td>fun</td>\n",
       "      <td>1995</td>\n",
       "    </tr>\n",
       "    <tr>\n",
       "      <th>3</th>\n",
       "      <td>1</td>\n",
       "      <td>Toy Story</td>\n",
       "      <td>Adventure|Animation|Children|Comedy|Fantasy</td>\n",
       "      <td>5</td>\n",
       "      <td>4.0</td>\n",
       "      <td>847434962</td>\n",
       "      <td>114709</td>\n",
       "      <td>862.0</td>\n",
       "      <td>pixar</td>\n",
       "      <td>1995</td>\n",
       "    </tr>\n",
       "    <tr>\n",
       "      <th>4</th>\n",
       "      <td>1</td>\n",
       "      <td>Toy Story</td>\n",
       "      <td>Adventure|Animation|Children|Comedy|Fantasy</td>\n",
       "      <td>5</td>\n",
       "      <td>4.0</td>\n",
       "      <td>847434962</td>\n",
       "      <td>114709</td>\n",
       "      <td>862.0</td>\n",
       "      <td>pixar</td>\n",
       "      <td>1995</td>\n",
       "    </tr>\n",
       "  </tbody>\n",
       "</table>\n",
       "</div>"
      ],
      "text/plain": [
       "   movieId      title                                       genres  userId  \\\n",
       "0        1  Toy Story  Adventure|Animation|Children|Comedy|Fantasy       1   \n",
       "1        1  Toy Story  Adventure|Animation|Children|Comedy|Fantasy       1   \n",
       "2        1  Toy Story  Adventure|Animation|Children|Comedy|Fantasy       1   \n",
       "3        1  Toy Story  Adventure|Animation|Children|Comedy|Fantasy       5   \n",
       "4        1  Toy Story  Adventure|Animation|Children|Comedy|Fantasy       5   \n",
       "\n",
       "   rating  timestamp  imdbId  tmdbId    tag  Year  \n",
       "0     4.0  964982703  114709   862.0  pixar  1995  \n",
       "1     4.0  964982703  114709   862.0  pixar  1995  \n",
       "2     4.0  964982703  114709   862.0    fun  1995  \n",
       "3     4.0  847434962  114709   862.0  pixar  1995  \n",
       "4     4.0  847434962  114709   862.0  pixar  1995  "
      ]
     },
     "execution_count": 175,
     "metadata": {},
     "output_type": "execute_result"
    }
   ],
   "source": [
    "# Drop the year in parenthesis from the title column\n",
    "\n",
    "# Remove the year in parenthesis from the 'Title' column\n",
    "merged_dataset['title'] = merged_dataset['title'].str.replace(r'\\s*\\(\\d{4}\\)', '')\n",
    "\n",
    "# View the updated DataFrame\n",
    "merged_dataset.head()\n"
   ]
  },
  {
   "cell_type": "code",
   "execution_count": 176,
   "id": "4d59d9af",
   "metadata": {},
   "outputs": [
    {
     "name": "stdout",
     "output_type": "stream",
     "text": [
      "Number of NaN values in the 'Year' column: 3\n"
     ]
    }
   ],
   "source": [
    "# Count the number of NaN values in the 'Year' column\n",
    "num_nan_values = merged_dataset['Year'].isna().sum()\n",
    "print(\"Number of NaN values in the 'Year' column:\", num_nan_values)"
   ]
  },
  {
   "cell_type": "code",
   "execution_count": 177,
   "id": "19cca6e2",
   "metadata": {},
   "outputs": [],
   "source": [
    "# Replace NaN values with a default value\n",
    "default_year = 0  # \n",
    "merged_dataset['Year'] = merged_dataset['Year'].fillna(default_year).astype(int)\n"
   ]
  },
  {
   "cell_type": "code",
   "execution_count": 178,
   "id": "a757edab",
   "metadata": {},
   "outputs": [
    {
     "data": {
      "image/png": "[encoded data removed]",
      "text/plain": [
       "<Figure size 432x288 with 1 Axes>"
      ]
     },
     "metadata": {
      "needs_background": "light"
     },
     "output_type": "display_data"
    },
    {
     "data": {
      "image/png": "[encoded data removed]",
      "text/plain": [
       "<Figure size 432x288 with 1 Axes>"
      ]
     },
     "metadata": {
      "needs_background": "light"
     },
     "output_type": "display_data"
    },
    {
     "data": {
      "image/png": "[encoded data removed]",
      "text/plain": [
       "<Figure size 432x288 with 1 Axes>"
      ]
     },
     "metadata": {
      "needs_background": "light"
     },
     "output_type": "display_data"
    }
   ],
   "source": [
    "# Exploratory Data Analysis\n",
    "\n",
    "# Distribution of ratings\n",
    "plt.hist(merged_dataset['rating'])\n",
    "plt.xlabel('Rating')\n",
    "plt.ylabel('Frequency')\n",
    "plt.title('Distribution of Ratings')\n",
    "plt.show()\n",
    "\n",
    "# Bar chart for genres\n",
    "genres_counts = merged_dataset['genres'].value_counts().head(10)\n",
    "plt.bar(genres_counts.index, genres_counts.values)\n",
    "plt.xlabel('Genres')\n",
    "plt.ylabel('Count')\n",
    "plt.title('Top 10 Movie Genres')\n",
    "plt.xticks(rotation=90)\n",
    "plt.show()\n",
    "\n",
    "# Box plot for movie release years\n",
    "plt.boxplot(merged_dataset['Year'])\n",
    "plt.xlabel('Year')\n",
    "plt.title('Distribution of Movie Release Years')\n",
    "plt.show()\n"
   ]
  },
  {
   "cell_type": "code",
   "execution_count": 179,
   "id": "aec868c3",
   "metadata": {},
   "outputs": [
    {
     "data": {
      "image/png": "[encoded data removed]",
      "text/plain": [
       "<Figure size 1440x576 with 1 Axes>"
      ]
     },
     "metadata": {
      "needs_background": "light"
     },
     "output_type": "display_data"
    }
   ],
   "source": [
    "import numpy as np\n",
    "\n",
    "# Group years by decades\n",
    "merged_dataset['Decade'] = (merged_dataset['Year'] // 10) * 10\n",
    "\n",
    "fig, ax = plt.subplots(figsize=(20, 8))\n",
    "\n",
    "sns.countplot(x='Decade',\n",
    "              data=merged_dataset,\n",
    "              color='tab:blue')\n",
    "\n",
    "plt.xlabel(\"Decade\", fontsize=16)\n",
    "plt.ylabel(\"# of Movies\", fontsize=16)\n",
    "plt.title(\"# of Movies by Decade\", fontsize=20)\n",
    "plt.xticks(fontsize=14, rotation=45)\n",
    "plt.yticks(fontsize=14)\n",
    "ax.grid(False)\n",
    "\n",
    "# Update x-axis labels with the decade range\n",
    "decades = np.sort(merged_dataset['Decade'].dropna().unique())\n",
    "plt.xticks(np.arange(len(decades)), decades)\n",
    "\n",
    "plt.show()\n"
   ]
  },
  {
   "cell_type": "code",
   "execution_count": 180,
   "id": "4e567cea",
   "metadata": {},
   "outputs": [
    {
     "data": {
      "image/png": "[encoded data removed]",
      "text/plain": [
       "<Figure size 1440x576 with 1 Axes>"
      ]
     },
     "metadata": {
      "needs_background": "light"
     },
     "output_type": "display_data"
    }
   ],
   "source": [
    "fig, ax = plt.subplots(figsize=(20, 8))\n",
    "\n",
    "rating_counts = merged_dataset['rating'].value_counts().sort_index()\n",
    "\n",
    "sns.barplot(x=rating_counts.index,\n",
    "            y=rating_counts.values,\n",
    "            color='tab:blue')\n",
    "\n",
    "plt.title(\"Rating Distribution\", fontsize=20, pad=20)\n",
    "plt.xlabel(\"Rating\", fontsize=20, labelpad=20)\n",
    "plt.ylabel(\"# of Movies\", fontsize=20, labelpad=20)\n",
    "plt.xticks(fontsize=20)\n",
    "plt.yticks(fontsize=20)\n",
    "ax.grid(False)\n",
    "\n",
    "plt.show()\n"
   ]
  },
  {
   "cell_type": "code",
   "execution_count": null,
   "id": "ca2e8a14",
   "metadata": {},
   "outputs": [],
   "source": []
  },
  {
   "cell_type": "code",
   "execution_count": 181,
   "id": "2cf1b7ee",
   "metadata": {},
   "outputs": [
    {
     "name": "stdout",
     "output_type": "stream",
     "text": [
      "count    233213.000000\n",
      "mean          3.966535\n",
      "std           0.968637\n",
      "min           0.500000\n",
      "25%           3.500000\n",
      "50%           4.000000\n",
      "75%           5.000000\n",
      "max           5.000000\n",
      "Name: rating, dtype: float64\n",
      "0.25    3.5\n",
      "0.50    4.0\n",
      "0.75    5.0\n",
      "Name: rating, dtype: float64\n"
     ]
    }
   ],
   "source": [
    "#Descriptive statistics\n",
    "\n",
    "# Summary statistics for ratings\n",
    "rating_stats = merged_dataset['rating'].describe()\n",
    "print(rating_stats)\n",
    "\n",
    "# Percentiles for ratings\n",
    "percentiles = [0.25, 0.50, 0.75]\n",
    "rating_percentiles = merged_dataset['rating'].quantile(percentiles)\n",
    "print(rating_percentiles)\n"
   ]
  },
  {
   "cell_type": "code",
   "execution_count": 182,
   "id": "8bdc2796",
   "metadata": {},
   "outputs": [
    {
     "name": "stdout",
     "output_type": "stream",
     "text": [
      "Drama                 148389\n",
      "Thriller              116891\n",
      "Crime                 103102\n",
      "Comedy                 96901\n",
      "Action                 69549\n",
      "Sci-Fi                 51977\n",
      "Adventure              47939\n",
      "Romance                25344\n",
      "Mystery                24352\n",
      "Fantasy                16220\n",
      "IMAX                   12263\n",
      "War                    11737\n",
      "Children               11595\n",
      "Animation              10466\n",
      "Horror                 10199\n",
      "Musical                 4496\n",
      "Western                 2354\n",
      "Film-Noir                783\n",
      "Documentary              711\n",
      "(no genres listed)         3\n",
      "dtype: int64\n",
      "genres\n",
      "(no genres listed)                                    4.500000\n",
      "Action|Adventure                                      4.183835\n",
      "Action|Adventure|Animation|Children|Comedy            3.836000\n",
      "Action|Adventure|Animation|Children|Comedy|Fantasy    3.870968\n",
      "Action|Adventure|Animation|Children|Comedy|Sci-Fi     3.545455\n",
      "                                                        ...   \n",
      "Sci-Fi                                                3.903374\n",
      "Sci-Fi|IMAX                                           3.993151\n",
      "Sci-Fi|Thriller                                       2.760870\n",
      "Thriller                                              3.742857\n",
      "Western                                               3.750000\n",
      "Name: rating, Length: 370, dtype: float64\n"
     ]
    }
   ],
   "source": [
    "# Genre Analysis\n",
    "# Count of movies per genre\n",
    "genre_counts = merged_dataset['genres'].str.split('|', expand=True).stack().value_counts()\n",
    "print(genre_counts)\n",
    "\n",
    "# Relationship between genres and ratings\n",
    "genre_ratings = merged_dataset.groupby('genres')['rating'].mean()\n",
    "print(genre_ratings)\n"
   ]
  },
  {
   "cell_type": "code",
   "execution_count": 183,
   "id": "27edfa83",
   "metadata": {},
   "outputs": [
    {
     "name": "stdout",
     "output_type": "stream",
     "text": [
      "userId\n",
      "1       593\n",
      "2       143\n",
      "3        27\n",
      "4       580\n",
      "5       278\n",
      "       ... \n",
      "606    1407\n",
      "607     450\n",
      "608    1285\n",
      "609     241\n",
      "610    1701\n",
      "Name: rating, Length: 610, dtype: int64\n",
      "userId\n",
      "474    2455\n",
      "414    2343\n",
      "599    2100\n",
      "68     1791\n",
      "610    1701\n",
      "274    1665\n",
      "249    1635\n",
      "448    1575\n",
      "380    1536\n",
      "305    1460\n",
      "Name: rating, dtype: int64\n"
     ]
    }
   ],
   "source": [
    "#User Analysis\n",
    "# Distribution of ratings by user\n",
    "user_ratings = merged_dataset.groupby('userId')['rating'].count()\n",
    "print(user_ratings)\n",
    "\n",
    "# Top 10 most active users\n",
    "top_users = user_ratings.nlargest(10)\n",
    "print(top_users)\n"
   ]
  },
  {
   "cell_type": "code",
   "execution_count": 184,
   "id": "6034bc75",
   "metadata": {},
   "outputs": [
    {
     "name": "stdout",
     "output_type": "stream",
     "text": [
      "Year\n",
      "0       4.500000\n",
      "1921    4.100000\n",
      "1922    3.531250\n",
      "1923    3.625000\n",
      "1924    4.000000\n",
      "          ...   \n",
      "2014    3.833031\n",
      "2015    3.783784\n",
      "2016    3.259520\n",
      "2017    3.938172\n",
      "2018    3.908203\n",
      "Name: rating, Length: 99, dtype: float64\n"
     ]
    },
    {
     "data": {
      "image/png": "[encoded data removed]",
      "text/plain": [
       "<Figure size 432x288 with 1 Axes>"
      ]
     },
     "metadata": {
      "needs_background": "light"
     },
     "output_type": "display_data"
    }
   ],
   "source": [
    "#Temporal Analysis\n",
    "# Trends in ratings over time\n",
    "ratings_over_time = merged_dataset.groupby('Year')['rating'].mean()\n",
    "print(ratings_over_time)\n",
    "\n",
    "# Line plot for ratings over time\n",
    "plt.plot(ratings_over_time.index, ratings_over_time.values)\n",
    "plt.xlabel('Year')\n",
    "plt.ylabel('Average Rating')\n",
    "plt.title('Average Rating Over Time')\n",
    "plt.show()\n"
   ]
  },
  {
   "attachments": {},
   "cell_type": "markdown",
   "id": "275f9a7d",
   "metadata": {},
   "source": [
    "## Modeling"
   ]
  },
  {
   "cell_type": "code",
   "execution_count": 185,
   "id": "7f95a2ed",
   "metadata": {},
   "outputs": [],
   "source": [
    "# Load ratings dataset\n",
    "df = pd.read_csv('Data/ratings.csv')\n",
    "new_df = df.drop(columns='timestamp')\n",
    "\n",
    "# Load movies dataset\n",
    "df_movies = pd.read_csv('Data/movies.csv')\n",
    "\n",
    "# Create Surprise dataset\n",
    "reader = Reader()\n",
    "data = Dataset.load_from_df(new_df, reader)\n",
    "dataset = data.build_full_trainset()"
   ]
  },
  {
   "cell_type": "code",
   "execution_count": 186,
   "id": "5ed4a753",
   "metadata": {},
   "outputs": [
    {
     "name": "stdout",
     "output_type": "stream",
     "text": [
      "Computing the pearson similarity matrix...\n",
      "Done computing similarity matrix.\n",
      "Computing the pearson similarity matrix...\n",
      "Done computing similarity matrix.\n",
      "Computing the pearson similarity matrix...\n",
      "Done computing similarity matrix.\n",
      "Computing the pearson similarity matrix...\n",
      "Done computing similarity matrix.\n",
      "Computing the pearson similarity matrix...\n",
      "Done computing similarity matrix.\n",
      "Computing the pearson similarity matrix...\n",
      "Done computing similarity matrix.\n",
      "Computing the pearson similarity matrix...\n",
      "Done computing similarity matrix.\n",
      "Computing the pearson similarity matrix...\n",
      "Done computing similarity matrix.\n",
      "Computing the pearson similarity matrix...\n",
      "Done computing similarity matrix.\n",
      "Computing the pearson similarity matrix...\n",
      "Done computing similarity matrix.\n",
      "Model: SVD, RMSE: 0.874329151635281\n",
      "Model: KNNWithMeans, RMSE: 0.8954849977482138\n",
      "Model: KNNBasic, RMSE: 0.9715614910158541\n",
      "Best performing model: SVD\n"
     ]
    }
   ],
   "source": [
    "from surprise.model_selection import cross_validate\n",
    "\n",
    "def evaluate_models(data):\n",
    "    # Split the data into training and test sets\n",
    "    trainset, testset = train_test_split(data, test_size=0.2, random_state=42)\n",
    "\n",
    "    # Define a list of models to evaluate\n",
    "    models = [\n",
    "        SVD(),\n",
    "        KNNBasic(sim_options={'name': 'pearson', 'user_based': True}),\n",
    "        KNNWithMeans(sim_options={'name': 'pearson', 'user_based': True})\n",
    "    ]\n",
    "\n",
    "    # Evaluate each model and store the results\n",
    "    results = []\n",
    "    for model in models:\n",
    "        # Perform cross-validation\n",
    "        cv_results = cross_validate(model, data, measures=['RMSE'], cv=5, verbose=False)\n",
    "\n",
    "        # Get the average RMSE from cross-validation\n",
    "        rmse = cv_results['test_rmse'].mean()\n",
    "\n",
    "        # Store the model and its performance\n",
    "        results.append({'model': model.__class__.__name__, 'rmse': rmse})\n",
    "\n",
    "    # Sort the results based on the RMSE in ascending order\n",
    "    sorted_results = sorted(results, key=lambda x: x['rmse'])\n",
    "\n",
    "    # Print the results\n",
    "    for result in sorted_results:\n",
    "        print(f\"Model: {result['model']}, RMSE: {result['rmse']}\")\n",
    "\n",
    "    # Select the best performing model\n",
    "    best_model = sorted_results[0]['model']\n",
    "    print(f\"Best performing model: {best_model}\")\n",
    "\n",
    "evaluate_models(data)\n"
   ]
  },
  {
   "cell_type": "code",
   "execution_count": 187,
   "id": "de9f6e9e",
   "metadata": {},
   "outputs": [
    {
     "name": "stdout",
     "output_type": "stream",
     "text": [
      "{'rmse': 0.86904099248033, 'mae': 0.6681949214671664}\n",
      "{'rmse': {'n_factors': 50, 'reg_all': 0.05}, 'mae': {'n_factors': 50, 'reg_all': 0.05}}\n"
     ]
    }
   ],
   "source": [
    "# Perform grid search for SVD\n",
    "params = {'n_factors': [20, 50, 100], 'reg_all': [0.02, 0.05, 0.1]}\n",
    "g_s_svd = GridSearchCV(SVD, param_grid=params, n_jobs=-1)\n",
    "g_s_svd.fit(data)\n",
    "\n",
    "print(g_s_svd.best_score)\n",
    "print(g_s_svd.best_params)"
   ]
  },
  {
   "cell_type": "code",
   "execution_count": 188,
   "id": "7c99673c",
   "metadata": {},
   "outputs": [
    {
     "data": {
      "text/plain": [
       "<surprise.prediction_algorithms.matrix_factorization.SVD at 0x20b330efeb0>"
      ]
     },
     "execution_count": 188,
     "metadata": {},
     "output_type": "execute_result"
    }
   ],
   "source": [
    "# Train SVD model\n",
    "svd = SVD(n_factors=50, reg_all=0.05)\n",
    "svd.fit(dataset)"
   ]
  },
  {
   "cell_type": "code",
   "execution_count": 189,
   "id": "caa74955",
   "metadata": {},
   "outputs": [
    {
     "name": "stdout",
     "output_type": "stream",
     "text": [
      "      movieId                   title                 genres\n",
      "7817    92643  Monsieur Lazhar (2011)  Children|Comedy|Drama\n"
     ]
    },
    {
     "name": "stdout",
     "output_type": "stream",
     "text": [
      "      movieId              title           genres\n",
      "1287     1713  Mouse Hunt (1997)  Children|Comedy\n",
      "      movieId                             title                        genres\n",
      "7094    70334  Hannah Montana: The Movie (2009)  Comedy|Drama|Musical|Romance\n",
      "      movieId                  title                genres\n",
      "2747     3685  Prizzi's Honor (1985)  Comedy|Drama|Romance\n",
      "      movieId            title        genres\n",
      "6576    55207  Cashback (2004)  Comedy|Drama\n"
     ]
    }
   ],
   "source": [
    "# Function to get user ratings for movies\n",
    "def movie_rater(movie_df, num, genre=None):\n",
    "    userID = 1000\n",
    "    rating_list = []\n",
    "    while num > 0:\n",
    "        if genre:\n",
    "            movie = movie_df[movie_df['genres'].str.contains(genre)].sample(1)\n",
    "        else:\n",
    "            movie = movie_df.sample(1)\n",
    "        print(movie)\n",
    "        rating = input('How do you rate this movie on a scale of 1-5, press n if you have not seen:\\n')\n",
    "        if rating == 'n':\n",
    "            continue\n",
    "        else:\n",
    "            rating_one_movie = {'userId': userID, 'movieId': movie['movieId'].values[0], 'rating': rating}\n",
    "            rating_list.append(rating_one_movie)\n",
    "            num -= 1\n",
    "    return rating_list\n",
    "\n",
    "# Get user ratings using the movie_rater function\n",
    "user_rating = movie_rater(df_movies, 4, 'Comedy')"
   ]
  },
  {
   "cell_type": "code",
   "execution_count": 190,
   "id": "f087ee41",
   "metadata": {},
   "outputs": [],
   "source": [
    "# Add the new ratings to the original ratings DataFrame\n",
    "user_ratings = pd.DataFrame(user_rating)\n",
    "new_ratings_df = pd.concat([new_df, user_ratings], axis=0)\n",
    "new_data = Dataset.load_from_df(new_ratings_df, reader)"
   ]
  },
  {
   "cell_type": "code",
   "execution_count": 191,
   "id": "89bb18cf",
   "metadata": {},
   "outputs": [],
   "source": [
    "# Generate movie recommendations for the user\n",
    "list_of_movies = []\n",
    "for m_id in new_df['movieId'].unique():\n",
    "    list_of_movies.append((m_id, svd.predict(1000, m_id)[3]))\n",
    "# Order the recommendations from highest to lowest rated\n",
    "ranked_movies = sorted(list_of_movies, key=lambda x: x[1], reverse=True)"
   ]
  },
  {
   "cell_type": "code",
   "execution_count": 192,
   "id": "5da438a2",
   "metadata": {},
   "outputs": [
    {
     "data": {
      "text/plain": [
       "[(318, 4.380482052083875),\n",
       " (750, 4.352180969718432),\n",
       " (1204, 4.33507441703805),\n",
       " (1104, 4.2869571378559455),\n",
       " (904, 4.277591872477418)]"
      ]
     },
     "execution_count": 192,
     "metadata": {},
     "output_type": "execute_result"
    }
   ],
   "source": [
    "ranked_movies[:5]"
   ]
  },
  {
   "cell_type": "code",
   "execution_count": 193,
   "id": "8b0de091",
   "metadata": {},
   "outputs": [
    {
     "name": "stdout",
     "output_type": "stream",
     "text": [
      "Recommendation # 1 : 277    Shawshank Redemption, The (1994)\n",
      "Name: title, dtype: object \n",
      "\n",
      "Recommendation # 2 : 602    Dr. Strangelove or: How I Learned to Stop Worr...\n",
      "Name: title, dtype: object \n",
      "\n",
      "Recommendation # 3 : 906    Lawrence of Arabia (1962)\n",
      "Name: title, dtype: object \n",
      "\n",
      "Recommendation # 4 : 841    Streetcar Named Desire, A (1951)\n",
      "Name: title, dtype: object \n",
      "\n",
      "Recommendation # 5 : 686    Rear Window (1954)\n",
      "Name: title, dtype: object \n",
      "\n"
     ]
    }
   ],
   "source": [
    "# Print the top 5 movie recommendations for the user\n",
    "n = 5\n",
    "for idx, rec in enumerate(ranked_movies):\n",
    "    title = df_movies.loc[df_movies['movieId'] == int(rec[0])]['title']\n",
    "    print('Recommendation #', idx+1, ':', title, '\\n')\n",
    "    n -= 1\n",
    "    if n == 0:\n",
    "        break"
   ]
  }
 ],
 "metadata": {
  "kernelspec": {
   "display_name": "learn-env",
   "language": "python",
   "name": "python3"
  },
  "language_info": {
   "codemirror_mode": {
    "name": "ipython",
    "version": 3
   },
   "file_extension": ".py",
   "mimetype": "text/x-python",
   "name": "python",
   "nbconvert_exporter": "python",
   "pygments_lexer": "ipython3",
   "version": "3.8.5"
  }
 },
 "nbformat": 4,
 "nbformat_minor": 5
}
