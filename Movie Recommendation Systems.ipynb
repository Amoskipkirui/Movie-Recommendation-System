{
 "cells": [
  {
   "cell_type": "markdown",
   "id": "68ed0fe2",
   "metadata": {},
   "source": [
    "\n",
    "# **Movie Recommendation System** \n",
    "---\n",
    "### **Authors**\n",
    "[Dennis Mwanzia](https://github.com/DennisMwanzia), [Amos Kipkirui](https://github.com/Amoskipkirui), [Robert Mbau](https://github.com/robertmbau), [Fiona Kung'u](https://github.com/Fiona-Kungu), [Maureen Kitang'a](https://github.com/ndunge), [Edwin Muhia](https://github.com/rurungamuhia)\n",
    " "
   ]
  },
  {
   "cell_type": "markdown",
   "id": "53fa9240",
   "metadata": {},
   "source": [
    "# 1. Business Understanding\n"
   ]
  },
  {
   "cell_type": "markdown",
   "id": "0d028c55",
   "metadata": {},
   "source": [
    "## 1.1 Overview\n",
    "- MovieXplosion, a new streaming platform wants to improve their user satisfaction. The performance of the platform is dependent on how they can keep user engaged, one way to do this is by providing tailor-made recommendations to the users to drive them to spend more time on the platform.\n",
    "- The project aims to develop a system that suggests movies to users. We will implement this using collaborative filtering, content-based filtering and hybrid approaches.\n",
    "## 1.2 Problem Statement\n",
    "- The current system that the platform employs does not provide suitable recommendations to users which has led to low user engagement, satisfaction and retention. The system also has no way of providing new users with good recommendations and the existing users do not receive tailor-made recommendations.\n",
    "- The new system aims to bypass these issues and provide relevant recommendations to all users.\n",
    "## 1.3 Objectives\n",
    "1. Build a model that provides top 5 recommendations to a user.\n",
    "2. Develop a system that will address the `cold start` problem for new users.\n",
    "3. Enhance the recommendation system to provide accurate and relevant movie suggestions based on the user.\n",
    "4. Evaluate the system performance using appropriate metrics such as `RMSE`.\n",
    "# 2. Data Understanding\n",
    "The data used was sourced from [MovieLens](https://grouplens.org/datasets/movielens/latest/), we used the small dataset due to limited computational power. The data contains information about movies, ratings by users and other relevant information.\n",
    "## 2.1 Data Description\n",
    "There are several files available with different columns:\n",
    "1. Movies File\n",
    "- It contains information about the movies.<br>\n",
    "`movieId` - Unique identifier for each movie.<br>\n",
    "`title` - The movie titles.<br>\n",
    "`genre` - The various genres a movie falls into.<br>\n",
    "2. Ratings file\n",
    "- It contains the ratings for the movies by different users.<br>\n",
    "`userId` - Unique identifier for each user<br>\n",
    "`movieId` - Unique identifier for each movie.<br>\n",
    "`rating` - A value between 0 to 5 that a user rates a movie on. A higher rating indicates a higher preference.<br>\n",
    "`timestamp` - This are the seconds that have passed since Midnight January 1, 1970(UTC)\n",
    "3. Tags file\n",
    "- It has user-generated words or short phrases about a movie with the meaning or value being determined ny the specific user.<br>\n",
    "`userId` - Unique identifier for each user<br>\n",
    "`movieId` - Unique identifier for each movie.<br>\n",
    "`tag` - A word or phrase determined by the user.<br>\n",
    "`timestamp` - This are the seconds that have passed since Midnight January 1, 1970(UTC)\n",
    "4. Links file\n",
    "- This are identifiers that can be used to link to other sources of movie data as provide by MovieLens.<br>\n",
    "`movieId` -  It's an identifier for movies used by https://movielens.org. E.g., the movie Toy Story has the link https://movielens.org/movies/1.<br>\n",
    "`imdbId` -  It's an identifier for movies used by http://www.imdb.com. E.g., the movie Toy Story has the link http://www.imdb.com/title/tt0114709/.<br>\n",
    "`tmdbId` -  is an identifier for movies used by https://www.themoviedb.org. E.g., the movie Toy Story has the link https://www.themoviedb.org/movie/862. <br>"
   ]
  },
  {
   "cell_type": "code",
   "execution_count": 1,
   "id": "3f96d20a",
   "metadata": {},
   "outputs": [],
   "source": [
    "#importing relevant libraries\n",
    "\n",
    "#standard libraries\n",
    "import pandas as pd\n",
    "import numpy as np\n",
    "\n",
    "\n",
    "#visualization Libraries\n",
    "import matplotlib.pyplot as plt\n",
    "import seaborn as sns\n",
    "\n",
    "from wordcloud import WordCloud\n",
    "%matplotlib inline\n",
    "\n",
    "\n",
    "from surprise import Reader, Dataset\n",
    "from surprise.model_selection import cross_validate\n",
    "from surprise.model_selection import train_test_split\n",
    "from surprise import accuracy\n",
    "from surprise.prediction_algorithms import SVD, KNNBasic, KNNBaseline,KNNWithMeans\n",
    "from surprise.model_selection import GridSearchCV\n"
   ]
  },
  {
   "cell_type": "code",
   "execution_count": 2,
   "id": "e5f1163e",
   "metadata": {},
   "outputs": [
    {
     "data": {
      "text/html": [
       "<div>\n",
       "<style scoped>\n",
       "    .dataframe tbody tr th:only-of-type {\n",
       "        vertical-align: middle;\n",
       "    }\n",
       "\n",
       "    .dataframe tbody tr th {\n",
       "        vertical-align: top;\n",
       "    }\n",
       "\n",
       "    .dataframe thead th {\n",
       "        text-align: right;\n",
       "    }\n",
       "</style>\n",
       "<table border=\"1\" class=\"dataframe\">\n",
       "  <thead>\n",
       "    <tr style=\"text-align: right;\">\n",
       "      <th></th>\n",
       "      <th>movieId</th>\n",
       "      <th>title</th>\n",
       "      <th>genres</th>\n",
       "    </tr>\n",
       "  </thead>\n",
       "  <tbody>\n",
       "    <tr>\n",
       "      <th>0</th>\n",
       "      <td>1</td>\n",
       "      <td>Toy Story (1995)</td>\n",
       "      <td>Adventure|Animation|Children|Comedy|Fantasy</td>\n",
       "    </tr>\n",
       "    <tr>\n",
       "      <th>1</th>\n",
       "      <td>2</td>\n",
       "      <td>Jumanji (1995)</td>\n",
       "      <td>Adventure|Children|Fantasy</td>\n",
       "    </tr>\n",
       "    <tr>\n",
       "      <th>2</th>\n",
       "      <td>3</td>\n",
       "      <td>Grumpier Old Men (1995)</td>\n",
       "      <td>Comedy|Romance</td>\n",
       "    </tr>\n",
       "    <tr>\n",
       "      <th>3</th>\n",
       "      <td>4</td>\n",
       "      <td>Waiting to Exhale (1995)</td>\n",
       "      <td>Comedy|Drama|Romance</td>\n",
       "    </tr>\n",
       "    <tr>\n",
       "      <th>4</th>\n",
       "      <td>5</td>\n",
       "      <td>Father of the Bride Part II (1995)</td>\n",
       "      <td>Comedy</td>\n",
       "    </tr>\n",
       "  </tbody>\n",
       "</table>\n",
       "</div>"
      ],
      "text/plain": [
       "   movieId                               title  \\\n",
       "0        1                    Toy Story (1995)   \n",
       "1        2                      Jumanji (1995)   \n",
       "2        3             Grumpier Old Men (1995)   \n",
       "3        4            Waiting to Exhale (1995)   \n",
       "4        5  Father of the Bride Part II (1995)   \n",
       "\n",
       "                                        genres  \n",
       "0  Adventure|Animation|Children|Comedy|Fantasy  \n",
       "1                   Adventure|Children|Fantasy  \n",
       "2                               Comedy|Romance  \n",
       "3                         Comedy|Drama|Romance  \n",
       "4                                       Comedy  "
      ]
     },
     "execution_count": 2,
     "metadata": {},
     "output_type": "execute_result"
    }
   ],
   "source": [
    "# load movies dataset\n",
    "mov_df = pd.read_csv('Data/movies.csv')\n",
    "mov_df.head()"
   ]
  },
  {
   "cell_type": "code",
   "execution_count": 3,
   "id": "f2b610e0",
   "metadata": {},
   "outputs": [
    {
     "data": {
      "text/html": [
       "<div>\n",
       "<style scoped>\n",
       "    .dataframe tbody tr th:only-of-type {\n",
       "        vertical-align: middle;\n",
       "    }\n",
       "\n",
       "    .dataframe tbody tr th {\n",
       "        vertical-align: top;\n",
       "    }\n",
       "\n",
       "    .dataframe thead th {\n",
       "        text-align: right;\n",
       "    }\n",
       "</style>\n",
       "<table border=\"1\" class=\"dataframe\">\n",
       "  <thead>\n",
       "    <tr style=\"text-align: right;\">\n",
       "      <th></th>\n",
       "      <th>userId</th>\n",
       "      <th>movieId</th>\n",
       "      <th>rating</th>\n",
       "      <th>timestamp</th>\n",
       "    </tr>\n",
       "  </thead>\n",
       "  <tbody>\n",
       "    <tr>\n",
       "      <th>0</th>\n",
       "      <td>1</td>\n",
       "      <td>1</td>\n",
       "      <td>4.0</td>\n",
       "      <td>964982703.0</td>\n",
       "    </tr>\n",
       "    <tr>\n",
       "      <th>1</th>\n",
       "      <td>1</td>\n",
       "      <td>3</td>\n",
       "      <td>4.0</td>\n",
       "      <td>964981247.0</td>\n",
       "    </tr>\n",
       "    <tr>\n",
       "      <th>2</th>\n",
       "      <td>1</td>\n",
       "      <td>6</td>\n",
       "      <td>4.0</td>\n",
       "      <td>964982224.0</td>\n",
       "    </tr>\n",
       "    <tr>\n",
       "      <th>3</th>\n",
       "      <td>1</td>\n",
       "      <td>47</td>\n",
       "      <td>5.0</td>\n",
       "      <td>964983815.0</td>\n",
       "    </tr>\n",
       "    <tr>\n",
       "      <th>4</th>\n",
       "      <td>1</td>\n",
       "      <td>50</td>\n",
       "      <td>5.0</td>\n",
       "      <td>964982931.0</td>\n",
       "    </tr>\n",
       "  </tbody>\n",
       "</table>\n",
       "</div>"
      ],
      "text/plain": [
       "   userId  movieId  rating    timestamp\n",
       "0       1        1     4.0  964982703.0\n",
       "1       1        3     4.0  964981247.0\n",
       "2       1        6     4.0  964982224.0\n",
       "3       1       47     5.0  964983815.0\n",
       "4       1       50     5.0  964982931.0"
      ]
     },
     "execution_count": 3,
     "metadata": {},
     "output_type": "execute_result"
    }
   ],
   "source": [
    "# loading the ratings dataset\n",
    "ratings_df = pd.read_csv('Data/ratings.csv')\n",
    "ratings_df.head()"
   ]
  },
  {
   "cell_type": "code",
   "execution_count": 4,
   "id": "97e4c656",
   "metadata": {},
   "outputs": [
    {
     "data": {
      "text/html": [
       "<div>\n",
       "<style scoped>\n",
       "    .dataframe tbody tr th:only-of-type {\n",
       "        vertical-align: middle;\n",
       "    }\n",
       "\n",
       "    .dataframe tbody tr th {\n",
       "        vertical-align: top;\n",
       "    }\n",
       "\n",
       "    .dataframe thead th {\n",
       "        text-align: right;\n",
       "    }\n",
       "</style>\n",
       "<table border=\"1\" class=\"dataframe\">\n",
       "  <thead>\n",
       "    <tr style=\"text-align: right;\">\n",
       "      <th></th>\n",
       "      <th>movieId</th>\n",
       "      <th>imdbId</th>\n",
       "      <th>tmdbId</th>\n",
       "    </tr>\n",
       "  </thead>\n",
       "  <tbody>\n",
       "    <tr>\n",
       "      <th>0</th>\n",
       "      <td>1</td>\n",
       "      <td>114709</td>\n",
       "      <td>862.0</td>\n",
       "    </tr>\n",
       "    <tr>\n",
       "      <th>1</th>\n",
       "      <td>2</td>\n",
       "      <td>113497</td>\n",
       "      <td>8844.0</td>\n",
       "    </tr>\n",
       "    <tr>\n",
       "      <th>2</th>\n",
       "      <td>3</td>\n",
       "      <td>113228</td>\n",
       "      <td>15602.0</td>\n",
       "    </tr>\n",
       "    <tr>\n",
       "      <th>3</th>\n",
       "      <td>4</td>\n",
       "      <td>114885</td>\n",
       "      <td>31357.0</td>\n",
       "    </tr>\n",
       "    <tr>\n",
       "      <th>4</th>\n",
       "      <td>5</td>\n",
       "      <td>113041</td>\n",
       "      <td>11862.0</td>\n",
       "    </tr>\n",
       "  </tbody>\n",
       "</table>\n",
       "</div>"
      ],
      "text/plain": [
       "   movieId  imdbId   tmdbId\n",
       "0        1  114709    862.0\n",
       "1        2  113497   8844.0\n",
       "2        3  113228  15602.0\n",
       "3        4  114885  31357.0\n",
       "4        5  113041  11862.0"
      ]
     },
     "execution_count": 4,
     "metadata": {},
     "output_type": "execute_result"
    }
   ],
   "source": [
    "# loading links dataset\n",
    "links_df = pd.read_csv('Data/links.csv')\n",
    "links_df.head()"
   ]
  },
  {
   "cell_type": "code",
   "execution_count": 5,
   "id": "b19c38b1",
   "metadata": {},
   "outputs": [
    {
     "data": {
      "text/html": [
       "<div>\n",
       "<style scoped>\n",
       "    .dataframe tbody tr th:only-of-type {\n",
       "        vertical-align: middle;\n",
       "    }\n",
       "\n",
       "    .dataframe tbody tr th {\n",
       "        vertical-align: top;\n",
       "    }\n",
       "\n",
       "    .dataframe thead th {\n",
       "        text-align: right;\n",
       "    }\n",
       "</style>\n",
       "<table border=\"1\" class=\"dataframe\">\n",
       "  <thead>\n",
       "    <tr style=\"text-align: right;\">\n",
       "      <th></th>\n",
       "      <th>userId</th>\n",
       "      <th>movieId</th>\n",
       "      <th>tag</th>\n",
       "      <th>timestamp</th>\n",
       "    </tr>\n",
       "  </thead>\n",
       "  <tbody>\n",
       "    <tr>\n",
       "      <th>0</th>\n",
       "      <td>2</td>\n",
       "      <td>60756</td>\n",
       "      <td>funny</td>\n",
       "      <td>1445714994</td>\n",
       "    </tr>\n",
       "    <tr>\n",
       "      <th>1</th>\n",
       "      <td>2</td>\n",
       "      <td>60756</td>\n",
       "      <td>Highly quotable</td>\n",
       "      <td>1445714996</td>\n",
       "    </tr>\n",
       "    <tr>\n",
       "      <th>2</th>\n",
       "      <td>2</td>\n",
       "      <td>60756</td>\n",
       "      <td>will ferrell</td>\n",
       "      <td>1445714992</td>\n",
       "    </tr>\n",
       "    <tr>\n",
       "      <th>3</th>\n",
       "      <td>2</td>\n",
       "      <td>89774</td>\n",
       "      <td>Boxing story</td>\n",
       "      <td>1445715207</td>\n",
       "    </tr>\n",
       "    <tr>\n",
       "      <th>4</th>\n",
       "      <td>2</td>\n",
       "      <td>89774</td>\n",
       "      <td>MMA</td>\n",
       "      <td>1445715200</td>\n",
       "    </tr>\n",
       "  </tbody>\n",
       "</table>\n",
       "</div>"
      ],
      "text/plain": [
       "   userId  movieId              tag   timestamp\n",
       "0       2    60756            funny  1445714994\n",
       "1       2    60756  Highly quotable  1445714996\n",
       "2       2    60756     will ferrell  1445714992\n",
       "3       2    89774     Boxing story  1445715207\n",
       "4       2    89774              MMA  1445715200"
      ]
     },
     "execution_count": 5,
     "metadata": {},
     "output_type": "execute_result"
    }
   ],
   "source": [
    "# loading tags dataset\n",
    "tags_df = pd.read_csv('Data/tags.csv')\n",
    "tags_df.head()"
   ]
  },
  {
   "cell_type": "markdown",
   "id": "8722f315",
   "metadata": {},
   "source": [
    "> We have `userID` and `timestamp` columns in the tags data. Therefore, we dropped the two columns before we merged the entire dataset\n"
   ]
  },
  {
   "cell_type": "code",
   "execution_count": 6,
   "id": "6e68743a",
   "metadata": {},
   "outputs": [
    {
     "data": {
      "text/html": [
       "<div>\n",
       "<style scoped>\n",
       "    .dataframe tbody tr th:only-of-type {\n",
       "        vertical-align: middle;\n",
       "    }\n",
       "\n",
       "    .dataframe tbody tr th {\n",
       "        vertical-align: top;\n",
       "    }\n",
       "\n",
       "    .dataframe thead th {\n",
       "        text-align: right;\n",
       "    }\n",
       "</style>\n",
       "<table border=\"1\" class=\"dataframe\">\n",
       "  <thead>\n",
       "    <tr style=\"text-align: right;\">\n",
       "      <th></th>\n",
       "      <th>movieId</th>\n",
       "      <th>tag</th>\n",
       "    </tr>\n",
       "  </thead>\n",
       "  <tbody>\n",
       "    <tr>\n",
       "      <th>0</th>\n",
       "      <td>60756</td>\n",
       "      <td>funny</td>\n",
       "    </tr>\n",
       "    <tr>\n",
       "      <th>1</th>\n",
       "      <td>60756</td>\n",
       "      <td>Highly quotable</td>\n",
       "    </tr>\n",
       "    <tr>\n",
       "      <th>2</th>\n",
       "      <td>60756</td>\n",
       "      <td>will ferrell</td>\n",
       "    </tr>\n",
       "    <tr>\n",
       "      <th>3</th>\n",
       "      <td>89774</td>\n",
       "      <td>Boxing story</td>\n",
       "    </tr>\n",
       "    <tr>\n",
       "      <th>4</th>\n",
       "      <td>89774</td>\n",
       "      <td>MMA</td>\n",
       "    </tr>\n",
       "  </tbody>\n",
       "</table>\n",
       "</div>"
      ],
      "text/plain": [
       "   movieId              tag\n",
       "0    60756            funny\n",
       "1    60756  Highly quotable\n",
       "2    60756     will ferrell\n",
       "3    89774     Boxing story\n",
       "4    89774              MMA"
      ]
     },
     "execution_count": 6,
     "metadata": {},
     "output_type": "execute_result"
    }
   ],
   "source": [
    "# Drop the 'userId' and 'timestamp' columns from the 'merged_dataset'\n",
    "tags_df = tags_df.drop(['userId', 'timestamp'], axis=1)\n",
    "\n",
    "# View the updated DataFrame\n",
    "tags_df.head()\n"
   ]
  },
  {
   "cell_type": "code",
   "execution_count": 7,
   "id": "9ea174ab",
   "metadata": {},
   "outputs": [
    {
     "name": "stdout",
     "output_type": "stream",
     "text": [
      "count    100844.000000\n",
      "mean          3.501567\n",
      "std           1.042507\n",
      "min           0.500000\n",
      "25%           3.000000\n",
      "50%           3.500000\n",
      "75%           4.000000\n",
      "max           5.000000\n",
      "Name: rating, dtype: float64\n",
      "0.25    3.0\n",
      "0.50    3.5\n",
      "0.75    4.0\n",
      "Name: rating, dtype: float64\n"
     ]
    }
   ],
   "source": [
    "# Summary statistics for ratings\n",
    "rating_stats = ratings_df['rating'].describe()\n",
    "print(rating_stats)\n",
    "\n",
    "# Percentiles for ratings\n",
    "percentiles = [0.25, 0.50, 0.75]\n",
    "rating_percentiles = ratings_df['rating'].quantile(percentiles)\n",
    "print(rating_percentiles)"
   ]
  },
  {
   "cell_type": "markdown",
   "id": "9f74c28e",
   "metadata": {},
   "source": [
    "The mean movie rating is `3.97` with a standard deviation of `0.97`.<br>\n",
    "Atleast 50% of the movies were rated `4.0`. This implies that most of the movies produced are liked by the consumers.\n",
    "Therefore, our streaming platform should aim to feature movies rated atleast `3.5` and above."
   ]
  },
  {
   "cell_type": "markdown",
   "id": "9cbfab53",
   "metadata": {},
   "source": [
    "# 3. Data preparation\n",
    "In this phase we will clean our data, check for duplicates and select our data for modeling"
   ]
  },
  {
   "cell_type": "markdown",
   "id": "ba401bb8",
   "metadata": {},
   "source": [
    "### Check for missing data"
   ]
  },
  {
   "cell_type": "code",
   "execution_count": 8,
   "id": "696eec8b",
   "metadata": {},
   "outputs": [],
   "source": [
    "def check_missing_values(dataset):\n",
    "    \"\"\"\n",
    "    Check for missing values in a dataset.\n",
    "\n",
    "    Parameters:\n",
    "        dataset (pandas.DataFrame): The dataset to check for missing values.\n",
    "\n",
    "    Returns:\n",
    "        str: A statement indicating if there are missing values or not.\n",
    "    \"\"\"\n",
    "    if dataset.isnull().values.any():\n",
    "        return \"There are missing values in the dataset.\"\n",
    "    else:\n",
    "        return \"There are no missing values in the dataset.\""
   ]
  },
  {
   "cell_type": "code",
   "execution_count": 9,
   "id": "175ee4f1",
   "metadata": {},
   "outputs": [
    {
     "data": {
      "text/plain": [
       "'There are no missing values in the dataset.'"
      ]
     },
     "execution_count": 9,
     "metadata": {},
     "output_type": "execute_result"
    }
   ],
   "source": [
    "check_missing_values(mov_df)"
   ]
  },
  {
   "cell_type": "code",
   "execution_count": 10,
   "id": "f1619a22",
   "metadata": {},
   "outputs": [
    {
     "data": {
      "text/plain": [
       "'There are missing values in the dataset.'"
      ]
     },
     "execution_count": 10,
     "metadata": {},
     "output_type": "execute_result"
    }
   ],
   "source": [
    "check_missing_values(ratings_df)"
   ]
  },
  {
   "cell_type": "code",
   "execution_count": 11,
   "id": "b283c57c",
   "metadata": {},
   "outputs": [
    {
     "data": {
      "text/plain": [
       "'There are missing values in the dataset.'"
      ]
     },
     "execution_count": 11,
     "metadata": {},
     "output_type": "execute_result"
    }
   ],
   "source": [
    "check_missing_values(links_df)"
   ]
  },
  {
   "cell_type": "code",
   "execution_count": 12,
   "id": "a311dc97",
   "metadata": {},
   "outputs": [
    {
     "data": {
      "text/plain": [
       "'There are no missing values in the dataset.'"
      ]
     },
     "execution_count": 12,
     "metadata": {},
     "output_type": "execute_result"
    }
   ],
   "source": [
    "check_missing_values(tags_df)"
   ]
  },
  {
   "cell_type": "code",
   "execution_count": 13,
   "id": "b41ad6c2",
   "metadata": {},
   "outputs": [
    {
     "name": "stdout",
     "output_type": "stream",
     "text": [
      "Number of missing values in 'tmdbId' column: 8\n",
      "Rows with missing values in 'tmdbId' column:\n",
      "      movieId  imdbId  tmdbId\n",
      "624       791  113610     NaN\n",
      "843      1107  102336     NaN\n",
      "2141     2851   81454     NaN\n",
      "3027     4051   56600     NaN\n",
      "5532    26587   92337     NaN\n",
      "5854    32600  377059     NaN\n",
      "6059    40697  105946     NaN\n",
      "7382    79299  874957     NaN\n"
     ]
    }
   ],
   "source": [
    "# We have 8 missing values for tmdbID in Links CSV therefore, we went ahead to investigate them\n",
    "\n",
    "# Count the number of missing values in the 'tmdbId' column\n",
    "missing_values = links_df['tmdbId'].isnull().sum()\n",
    "\n",
    "# Get the rows with missing values in the 'tmdbId' column\n",
    "missing_rows = links_df[links_df['tmdbId'].isnull()]\n",
    "\n",
    "# Print the number of missing values and the rows containing them\n",
    "print(\"Number of missing values in 'tmdbId' column:\", missing_values)\n",
    "print(\"Rows with missing values in 'tmdbId' column:\")\n",
    "print(missing_rows)\n"
   ]
  },
  {
   "cell_type": "markdown",
   "id": "e941f552",
   "metadata": {},
   "source": [
    "We merged the movies dataframe and ratings dataframe"
   ]
  },
  {
   "cell_type": "code",
   "execution_count": 14,
   "id": "800f515e",
   "metadata": {},
   "outputs": [
    {
     "data": {
      "text/html": [
       "<div>\n",
       "<style scoped>\n",
       "    .dataframe tbody tr th:only-of-type {\n",
       "        vertical-align: middle;\n",
       "    }\n",
       "\n",
       "    .dataframe tbody tr th {\n",
       "        vertical-align: top;\n",
       "    }\n",
       "\n",
       "    .dataframe thead th {\n",
       "        text-align: right;\n",
       "    }\n",
       "</style>\n",
       "<table border=\"1\" class=\"dataframe\">\n",
       "  <thead>\n",
       "    <tr style=\"text-align: right;\">\n",
       "      <th></th>\n",
       "      <th>movieId</th>\n",
       "      <th>title</th>\n",
       "      <th>genres</th>\n",
       "      <th>userId</th>\n",
       "      <th>rating</th>\n",
       "    </tr>\n",
       "  </thead>\n",
       "  <tbody>\n",
       "    <tr>\n",
       "      <th>0</th>\n",
       "      <td>1</td>\n",
       "      <td>Toy Story (1995)</td>\n",
       "      <td>Adventure|Animation|Children|Comedy|Fantasy</td>\n",
       "      <td>1</td>\n",
       "      <td>4.0</td>\n",
       "    </tr>\n",
       "    <tr>\n",
       "      <th>1</th>\n",
       "      <td>1</td>\n",
       "      <td>Toy Story (1995)</td>\n",
       "      <td>Adventure|Animation|Children|Comedy|Fantasy</td>\n",
       "      <td>5</td>\n",
       "      <td>4.0</td>\n",
       "    </tr>\n",
       "    <tr>\n",
       "      <th>2</th>\n",
       "      <td>1</td>\n",
       "      <td>Toy Story (1995)</td>\n",
       "      <td>Adventure|Animation|Children|Comedy|Fantasy</td>\n",
       "      <td>7</td>\n",
       "      <td>4.5</td>\n",
       "    </tr>\n",
       "    <tr>\n",
       "      <th>3</th>\n",
       "      <td>1</td>\n",
       "      <td>Toy Story (1995)</td>\n",
       "      <td>Adventure|Animation|Children|Comedy|Fantasy</td>\n",
       "      <td>15</td>\n",
       "      <td>2.5</td>\n",
       "    </tr>\n",
       "    <tr>\n",
       "      <th>4</th>\n",
       "      <td>1</td>\n",
       "      <td>Toy Story (1995)</td>\n",
       "      <td>Adventure|Animation|Children|Comedy|Fantasy</td>\n",
       "      <td>17</td>\n",
       "      <td>4.5</td>\n",
       "    </tr>\n",
       "  </tbody>\n",
       "</table>\n",
       "</div>"
      ],
      "text/plain": [
       "   movieId             title                                       genres  \\\n",
       "0        1  Toy Story (1995)  Adventure|Animation|Children|Comedy|Fantasy   \n",
       "1        1  Toy Story (1995)  Adventure|Animation|Children|Comedy|Fantasy   \n",
       "2        1  Toy Story (1995)  Adventure|Animation|Children|Comedy|Fantasy   \n",
       "3        1  Toy Story (1995)  Adventure|Animation|Children|Comedy|Fantasy   \n",
       "4        1  Toy Story (1995)  Adventure|Animation|Children|Comedy|Fantasy   \n",
       "\n",
       "   userId  rating  \n",
       "0       1     4.0  \n",
       "1       5     4.0  \n",
       "2       7     4.5  \n",
       "3      15     2.5  \n",
       "4      17     4.5  "
      ]
     },
     "execution_count": 14,
     "metadata": {},
     "output_type": "execute_result"
    }
   ],
   "source": [
    "\n",
    "ratings_df.drop(columns='timestamp', axis=0, inplace=True)\n",
    "# merge the two tables on movieId\n",
    "merged_dataset = pd.merge(mov_df, ratings_df, on='movieId')\n",
    "merged_dataset.head()\n"
   ]
  },
  {
   "cell_type": "code",
   "execution_count": 15,
   "id": "ef028b62",
   "metadata": {},
   "outputs": [
    {
     "data": {
      "text/plain": [
       "Index(['movieId', 'title', 'genres', 'userId', 'rating'], dtype='object')"
      ]
     },
     "execution_count": 15,
     "metadata": {},
     "output_type": "execute_result"
    }
   ],
   "source": [
    "merged_dataset.columns"
   ]
  },
  {
   "cell_type": "code",
   "execution_count": 16,
   "id": "abbd55b0",
   "metadata": {},
   "outputs": [
    {
     "data": {
      "text/html": [
       "<div>\n",
       "<style scoped>\n",
       "    .dataframe tbody tr th:only-of-type {\n",
       "        vertical-align: middle;\n",
       "    }\n",
       "\n",
       "    .dataframe tbody tr th {\n",
       "        vertical-align: top;\n",
       "    }\n",
       "\n",
       "    .dataframe thead th {\n",
       "        text-align: right;\n",
       "    }\n",
       "</style>\n",
       "<table border=\"1\" class=\"dataframe\">\n",
       "  <thead>\n",
       "    <tr style=\"text-align: right;\">\n",
       "      <th></th>\n",
       "      <th>movieId</th>\n",
       "      <th>title</th>\n",
       "      <th>genres</th>\n",
       "      <th>userId</th>\n",
       "      <th>rating</th>\n",
       "      <th>Year</th>\n",
       "    </tr>\n",
       "  </thead>\n",
       "  <tbody>\n",
       "    <tr>\n",
       "      <th>0</th>\n",
       "      <td>1</td>\n",
       "      <td>Toy Story (1995)</td>\n",
       "      <td>Adventure|Animation|Children|Comedy|Fantasy</td>\n",
       "      <td>1</td>\n",
       "      <td>4.0</td>\n",
       "      <td>1995</td>\n",
       "    </tr>\n",
       "    <tr>\n",
       "      <th>1</th>\n",
       "      <td>1</td>\n",
       "      <td>Toy Story (1995)</td>\n",
       "      <td>Adventure|Animation|Children|Comedy|Fantasy</td>\n",
       "      <td>5</td>\n",
       "      <td>4.0</td>\n",
       "      <td>1995</td>\n",
       "    </tr>\n",
       "    <tr>\n",
       "      <th>2</th>\n",
       "      <td>1</td>\n",
       "      <td>Toy Story (1995)</td>\n",
       "      <td>Adventure|Animation|Children|Comedy|Fantasy</td>\n",
       "      <td>7</td>\n",
       "      <td>4.5</td>\n",
       "      <td>1995</td>\n",
       "    </tr>\n",
       "    <tr>\n",
       "      <th>3</th>\n",
       "      <td>1</td>\n",
       "      <td>Toy Story (1995)</td>\n",
       "      <td>Adventure|Animation|Children|Comedy|Fantasy</td>\n",
       "      <td>15</td>\n",
       "      <td>2.5</td>\n",
       "      <td>1995</td>\n",
       "    </tr>\n",
       "    <tr>\n",
       "      <th>4</th>\n",
       "      <td>1</td>\n",
       "      <td>Toy Story (1995)</td>\n",
       "      <td>Adventure|Animation|Children|Comedy|Fantasy</td>\n",
       "      <td>17</td>\n",
       "      <td>4.5</td>\n",
       "      <td>1995</td>\n",
       "    </tr>\n",
       "  </tbody>\n",
       "</table>\n",
       "</div>"
      ],
      "text/plain": [
       "   movieId             title                                       genres  \\\n",
       "0        1  Toy Story (1995)  Adventure|Animation|Children|Comedy|Fantasy   \n",
       "1        1  Toy Story (1995)  Adventure|Animation|Children|Comedy|Fantasy   \n",
       "2        1  Toy Story (1995)  Adventure|Animation|Children|Comedy|Fantasy   \n",
       "3        1  Toy Story (1995)  Adventure|Animation|Children|Comedy|Fantasy   \n",
       "4        1  Toy Story (1995)  Adventure|Animation|Children|Comedy|Fantasy   \n",
       "\n",
       "   userId  rating  Year  \n",
       "0       1     4.0  1995  \n",
       "1       5     4.0  1995  \n",
       "2       7     4.5  1995  \n",
       "3      15     2.5  1995  \n",
       "4      17     4.5  1995  "
      ]
     },
     "execution_count": 16,
     "metadata": {},
     "output_type": "execute_result"
    }
   ],
   "source": [
    "# Extract the year from the 'Title' column and create a new column 'Year'\n",
    "merged_dataset['Year'] = merged_dataset['title'].str.extract(r'\\((\\d{4})\\)')\n",
    "\n",
    "# View the updated DataFrame with the 'Year' column\n",
    "merged_dataset.head()\n"
   ]
  },
  {
   "cell_type": "code",
   "execution_count": 17,
   "id": "0cbbb514",
   "metadata": {},
   "outputs": [
    {
     "name": "stdout",
     "output_type": "stream",
     "text": [
      "<class 'pandas.core.frame.DataFrame'>\n",
      "Int64Index: 100844 entries, 0 to 100843\n",
      "Data columns (total 6 columns):\n",
      " #   Column   Non-Null Count   Dtype  \n",
      "---  ------   --------------   -----  \n",
      " 0   movieId  100844 non-null  int64  \n",
      " 1   title    100844 non-null  object \n",
      " 2   genres   100844 non-null  object \n",
      " 3   userId   100844 non-null  int64  \n",
      " 4   rating   100844 non-null  float64\n",
      " 5   Year     100826 non-null  object \n",
      "dtypes: float64(1), int64(2), object(3)\n",
      "memory usage: 5.4+ MB\n"
     ]
    }
   ],
   "source": [
    "merged_dataset.info()"
   ]
  },
  {
   "cell_type": "code",
   "execution_count": 18,
   "id": "fc0a7a20",
   "metadata": {},
   "outputs": [
    {
     "name": "stderr",
     "output_type": "stream",
     "text": [
      "C:\\Users\\hp\\AppData\\Local\\Temp\\ipykernel_40388\\342516581.py:3: FutureWarning: The default value of regex will change from True to False in a future version.\n",
      "  merged_dataset['title'] = merged_dataset['title'].str.replace(r'\\s*\\(\\d{4}\\)', '')\n"
     ]
    },
    {
     "data": {
      "text/html": [
       "<div>\n",
       "<style scoped>\n",
       "    .dataframe tbody tr th:only-of-type {\n",
       "        vertical-align: middle;\n",
       "    }\n",
       "\n",
       "    .dataframe tbody tr th {\n",
       "        vertical-align: top;\n",
       "    }\n",
       "\n",
       "    .dataframe thead th {\n",
       "        text-align: right;\n",
       "    }\n",
       "</style>\n",
       "<table border=\"1\" class=\"dataframe\">\n",
       "  <thead>\n",
       "    <tr style=\"text-align: right;\">\n",
       "      <th></th>\n",
       "      <th>movieId</th>\n",
       "      <th>title</th>\n",
       "      <th>genres</th>\n",
       "      <th>userId</th>\n",
       "      <th>rating</th>\n",
       "      <th>Year</th>\n",
       "    </tr>\n",
       "  </thead>\n",
       "  <tbody>\n",
       "    <tr>\n",
       "      <th>0</th>\n",
       "      <td>1</td>\n",
       "      <td>Toy Story</td>\n",
       "      <td>Adventure|Animation|Children|Comedy|Fantasy</td>\n",
       "      <td>1</td>\n",
       "      <td>4.0</td>\n",
       "      <td>1995</td>\n",
       "    </tr>\n",
       "    <tr>\n",
       "      <th>1</th>\n",
       "      <td>1</td>\n",
       "      <td>Toy Story</td>\n",
       "      <td>Adventure|Animation|Children|Comedy|Fantasy</td>\n",
       "      <td>5</td>\n",
       "      <td>4.0</td>\n",
       "      <td>1995</td>\n",
       "    </tr>\n",
       "    <tr>\n",
       "      <th>2</th>\n",
       "      <td>1</td>\n",
       "      <td>Toy Story</td>\n",
       "      <td>Adventure|Animation|Children|Comedy|Fantasy</td>\n",
       "      <td>7</td>\n",
       "      <td>4.5</td>\n",
       "      <td>1995</td>\n",
       "    </tr>\n",
       "    <tr>\n",
       "      <th>3</th>\n",
       "      <td>1</td>\n",
       "      <td>Toy Story</td>\n",
       "      <td>Adventure|Animation|Children|Comedy|Fantasy</td>\n",
       "      <td>15</td>\n",
       "      <td>2.5</td>\n",
       "      <td>1995</td>\n",
       "    </tr>\n",
       "    <tr>\n",
       "      <th>4</th>\n",
       "      <td>1</td>\n",
       "      <td>Toy Story</td>\n",
       "      <td>Adventure|Animation|Children|Comedy|Fantasy</td>\n",
       "      <td>17</td>\n",
       "      <td>4.5</td>\n",
       "      <td>1995</td>\n",
       "    </tr>\n",
       "  </tbody>\n",
       "</table>\n",
       "</div>"
      ],
      "text/plain": [
       "   movieId      title                                       genres  userId  \\\n",
       "0        1  Toy Story  Adventure|Animation|Children|Comedy|Fantasy       1   \n",
       "1        1  Toy Story  Adventure|Animation|Children|Comedy|Fantasy       5   \n",
       "2        1  Toy Story  Adventure|Animation|Children|Comedy|Fantasy       7   \n",
       "3        1  Toy Story  Adventure|Animation|Children|Comedy|Fantasy      15   \n",
       "4        1  Toy Story  Adventure|Animation|Children|Comedy|Fantasy      17   \n",
       "\n",
       "   rating  Year  \n",
       "0     4.0  1995  \n",
       "1     4.0  1995  \n",
       "2     4.5  1995  \n",
       "3     2.5  1995  \n",
       "4     4.5  1995  "
      ]
     },
     "execution_count": 18,
     "metadata": {},
     "output_type": "execute_result"
    }
   ],
   "source": [
    "# Drop the year in parenthesis from the title column\n",
    "\n",
    "merged_dataset['title'] = merged_dataset['title'].str.replace(r'\\s*\\(\\d{4}\\)', '')\n",
    "\n",
    "# View the updated DataFrame\n",
    "merged_dataset.head()\n"
   ]
  },
  {
   "cell_type": "code",
   "execution_count": 19,
   "id": "707da186",
   "metadata": {},
   "outputs": [
    {
     "name": "stdout",
     "output_type": "stream",
     "text": [
      "Number of NaN values in the 'Year' column: 18\n"
     ]
    }
   ],
   "source": [
    "# Count the number of NaN values in the 'Year' column\n",
    "num_nan_values = merged_dataset['Year'].isna().sum()\n",
    "print(\"Number of NaN values in the 'Year' column:\", num_nan_values)"
   ]
  },
  {
   "cell_type": "code",
   "execution_count": 20,
   "id": "68cd6c57",
   "metadata": {},
   "outputs": [],
   "source": [
    "# Replace NaN values with a default value\n",
    "default_year = 0  # \n",
    "merged_dataset['Year'] = merged_dataset['Year'].fillna(default_year).astype(int)\n"
   ]
  },
  {
   "cell_type": "markdown",
   "id": "8c3faa50",
   "metadata": {},
   "source": [
    "# 4. Exploratory Data Analysis"
   ]
  },
  {
   "cell_type": "markdown",
   "id": "4db91a2d",
   "metadata": {},
   "source": [
    "### 4.1 Distribution of ratings"
   ]
  },
  {
   "cell_type": "code",
   "execution_count": 21,
   "id": "a79930ef",
   "metadata": {},
   "outputs": [
    {
     "data": {
      "image/png": "[encoded data removed]",
      "text/plain": [
       "<Figure size 2000x800 with 1 Axes>"
      ]
     },
     "metadata": {},
     "output_type": "display_data"
    }
   ],
   "source": [
    "fig, ax = plt.subplots(figsize=(20, 8))\n",
    "\n",
    "rating_counts = merged_dataset['rating'].value_counts().sort_index()\n",
    "\n",
    "sns.barplot(x=rating_counts.index,\n",
    "            y=rating_counts.values,\n",
    "            color='tab:blue')\n",
    "\n",
    "plt.title(\"Rating Distribution\", fontsize=20, pad=20)\n",
    "plt.xlabel(\"Rating\", fontsize=20, labelpad=20)\n",
    "plt.ylabel(\"Number of Movies\", fontsize=20, labelpad=20)\n",
    "plt.xticks(fontsize=20)\n",
    "plt.yticks(fontsize=20)\n",
    "ax.grid(False)\n",
    "\n",
    "plt.show()\n",
    "\n"
   ]
  },
  {
   "cell_type": "markdown",
   "id": "441d39ea",
   "metadata": {},
   "source": [
    "The highest rated movies got `5` while the lowest rated was `0.5`.<br>\n",
    "Most movies were rated at `5` and `4` with a few getting ratings of `0.5` and `1.5`."
   ]
  },
  {
   "cell_type": "markdown",
   "id": "98572d16",
   "metadata": {},
   "source": [
    "### 4.2 Distribution of genres"
   ]
  },
  {
   "cell_type": "code",
   "execution_count": 22,
   "id": "c428ba08",
   "metadata": {},
   "outputs": [
    {
     "data": {
      "image/png": "[encoded data removed]",
      "text/plain": [
       "<Figure size 2000x800 with 1 Axes>"
      ]
     },
     "metadata": {},
     "output_type": "display_data"
    }
   ],
   "source": [
    "fig, ax = plt.subplots(figsize=(20, 8))  # Increase the figsize values to adjust the size\n",
    "\n",
    "genres_counts = merged_dataset['genres'].value_counts().head(10)\n",
    "sns.barplot(x=genres_counts.index, y=genres_counts.values)\n",
    "plt.xlabel('Genres')\n",
    "plt.ylabel('Count')\n",
    "plt.title('Top 10 Movie Genres')\n",
    "plt.xticks(rotation=90)\n",
    "plt.show()\n"
   ]
  },
  {
   "cell_type": "markdown",
   "id": "49ca6128",
   "metadata": {},
   "source": [
    "Comedy, Drama and Comedy/Romance are the top three performing movie genres"
   ]
  },
  {
   "cell_type": "markdown",
   "id": "6d5d2d55",
   "metadata": {},
   "source": [
    "### 4.3 Distribution of movies by decades"
   ]
  },
  {
   "cell_type": "code",
   "execution_count": 23,
   "id": "8417e26a",
   "metadata": {},
   "outputs": [
    {
     "data": {
      "image/png": "[encoded data removed]",
      "text/plain": [
       "<Figure size 2000x800 with 1 Axes>"
      ]
     },
     "metadata": {},
     "output_type": "display_data"
    }
   ],
   "source": [
    "# Group years by decades\n",
    "merged_dataset['Decade'] = (merged_dataset['Year'] // 10) * 10\n",
    "\n",
    "fig, ax = plt.subplots(figsize=(20, 8))\n",
    "\n",
    "sns.countplot(x='Decade',\n",
    "              data=merged_dataset,\n",
    "              color='tab:blue')\n",
    "\n",
    "plt.xlabel(\"Decade\", fontsize=16)\n",
    "plt.ylabel(\"Number of Movies\", fontsize=16)\n",
    "plt.title(\"Number of Movies by Decade\", fontsize=20)\n",
    "plt.xticks(fontsize=14, rotation=45)\n",
    "plt.yticks(fontsize=14)\n",
    "ax.grid(False)\n",
    "\n",
    "# Update x-axis labels with the decade range\n",
    "decades = np.sort(merged_dataset['Decade'].dropna().unique())\n",
    "plt.xticks(np.arange(len(decades)), decades)\n",
    "\n",
    "plt.show()\n"
   ]
  },
  {
   "cell_type": "markdown",
   "id": "71ba339a",
   "metadata": {},
   "source": [
    "Movie production increase steadily from 1920s and reached its peak in the 1990s before declining in the new millenium to the same levels as 1980s."
   ]
  },
  {
   "cell_type": "code",
   "execution_count": 24,
   "id": "1b08292c",
   "metadata": {},
   "outputs": [
    {
     "data": {
      "image/png": "[encoded data removed]",
      "text/plain": [
       "<Figure size 640x480 with 1 Axes>"
      ]
     },
     "metadata": {},
     "output_type": "display_data"
    }
   ],
   "source": [
    "from wordcloud import WordCloud\n",
    "# Extract the genres column\n",
    "genres_text = '|'.join(merged_dataset['genres'])\n",
    "genres_list = genres_text.split('|')\n",
    "\n",
    "# Create the word frequency dictionary\n",
    "word_frequency = {}\n",
    "for genre in genres_list:\n",
    "    word_frequency[genre] = word_frequency.get(genre, 0) + 1\n",
    "\n",
    "# Create the WordCloud object\n",
    "wordcloud = WordCloud(background_color='white')\n",
    "\n",
    "# Generate the word cloud from the word frequency\n",
    "wordcloud.generate_from_frequencies(word_frequency)\n",
    "# Display the word cloud\n",
    "plt.imshow(wordcloud, interpolation='bilinear')\n",
    "plt.axis('off')\n",
    "plt.show()\n",
    "\n"
   ]
  },
  {
   "cell_type": "markdown",
   "id": "2cd790fc",
   "metadata": {},
   "source": [
    "The genres `Drama`, `Thriller`, `Action` and `Comedy` are the most popular. They are the most appearing genres in the movies.<br>\n",
    "`Film Noir` and `Documentary` are the least watched genres."
   ]
  },
  {
   "cell_type": "markdown",
   "id": "24d3db66",
   "metadata": {},
   "source": [
    "### 4.4 Distribution of ratings by genre"
   ]
  },
  {
   "cell_type": "code",
   "execution_count": 25,
   "id": "186d6bb7",
   "metadata": {},
   "outputs": [
    {
     "name": "stdout",
     "output_type": "stream",
     "text": [
      "Drama                 41931\n",
      "Comedy                39061\n",
      "Action                30635\n",
      "Thriller              26452\n",
      "Adventure             24162\n",
      "Romance               18125\n",
      "Sci-Fi                17243\n",
      "Crime                 16681\n",
      "Fantasy               11835\n",
      "Children               9210\n",
      "Mystery                7674\n",
      "Horror                 7291\n",
      "Animation              6989\n",
      "War                    4859\n",
      "IMAX                   4145\n",
      "Musical                4139\n",
      "Western                1931\n",
      "Documentary            1219\n",
      "Film-Noir               870\n",
      "(no genres listed)       47\n",
      "dtype: int64\n",
      "+++++++++++++++++++++++++++++++++++++++++++++++++++++\n",
      "genres\n",
      "Comedy|Crime|Drama|Horror                5.0\n",
      "Adventure|Comedy|Fantasy|Musical         5.0\n",
      "Animation|Children|Mystery               5.0\n",
      "Animation|Drama|Sci-Fi|IMAX              5.0\n",
      "Adventure|Drama|Fantasy|Horror|Sci-Fi    5.0\n",
      "                                        ... \n",
      "Adventure|Children|Comedy|Sci-Fi         0.5\n",
      "Drama|Fantasy|Sci-Fi|Thriller            0.5\n",
      "Horror|Sci-Fi|Western                    0.5\n",
      "Action|Comedy|Horror|Musical             0.5\n",
      "Comedy|Fantasy|Horror|Sci-Fi             0.5\n",
      "Name: rating, Length: 951, dtype: float64\n"
     ]
    }
   ],
   "source": [
    "# Count of movies per genre\n",
    "genre_counts = merged_dataset['genres'].str.split('|', expand=True).stack().value_counts()\n",
    "print(genre_counts)\n",
    "\n",
    "print('+++++++++++++++++++++++++++++++++++++++++++++++++++++')\n",
    "\n",
    "# Relationship between genres and ratings\n",
    "genre_ratings = merged_dataset.groupby('genres')['rating'].mean()\n",
    "genre_ratings = genre_ratings.sort_values(ascending=False)\n",
    "\n",
    "print(genre_ratings)\n",
    "\n"
   ]
  },
  {
   "cell_type": "markdown",
   "id": "b42ee149",
   "metadata": {},
   "source": [
    "The genre combinations of `Adventure ,Comedy, Fantasy, Musical` and `Animation,Drama,Sci-Fi,IMAX` got the highest rating of 5 while `Action,Adventure,Children,Drama` got the lowest rating 1.75."
   ]
  },
  {
   "cell_type": "markdown",
   "id": "21fc8d77",
   "metadata": {},
   "source": [
    "### 4.5 Distribution of ratings by user"
   ]
  },
  {
   "cell_type": "code",
   "execution_count": 26,
   "id": "5afccf10",
   "metadata": {},
   "outputs": [
    {
     "name": "stdout",
     "output_type": "stream",
     "text": [
      "userId\n",
      "1           232\n",
      "2            29\n",
      "3            39\n",
      "4           216\n",
      "5            44\n",
      "           ... \n",
      "608         831\n",
      "609          37\n",
      "610        1302\n",
      "1000000       4\n",
      "2000000       4\n",
      "Name: rating, Length: 612, dtype: int64\n",
      "userId\n",
      "414    2698\n",
      "599    2478\n",
      "474    2108\n",
      "448    1864\n",
      "274    1346\n",
      "610    1302\n",
      "68     1260\n",
      "380    1218\n",
      "606    1115\n",
      "288    1055\n",
      "Name: rating, dtype: int64\n"
     ]
    }
   ],
   "source": [
    "user_ratings = merged_dataset.groupby('userId')['rating'].count()\n",
    "print(user_ratings)\n",
    "\n",
    "# Top 10 most active users\n",
    "top_users = user_ratings.nlargest(10)\n",
    "print(top_users)\n"
   ]
  },
  {
   "cell_type": "markdown",
   "id": "723bc850",
   "metadata": {},
   "source": [
    "## 5. Modeling"
   ]
  },
  {
   "attachments": {},
   "cell_type": "markdown",
   "id": "f30e6985",
   "metadata": {},
   "source": [
    "After preparing our data, it was ready to be used for modeling. In recommendation systems, there are three types of models, Collaborative filtering and Content-based and Hybrid filtering. We used Collaborative filtering -KNNWithMeans, KNNBasic and SVD where we picked the best performing model among the three. GridSearch cross-validation was used to get the best hyperparameters for the best performing model."
   ]
  },
  {
   "cell_type": "markdown",
   "id": "02934bd9",
   "metadata": {},
   "source": [
    "### 5.1. Creating surprise datasets"
   ]
  },
  {
   "cell_type": "code",
   "execution_count": 27,
   "id": "20aceec7",
   "metadata": {},
   "outputs": [],
   "source": [
    "# Load ratings dataset\n",
    "df = pd.read_csv('Data/ratings.csv')\n",
    "rating_data = df.drop(columns='timestamp')\n",
    "\n",
    "# Load movies dataset\n",
    "df_movies = pd.read_csv('Data/movies.csv')\n",
    "\n",
    "# Create Surprise dataset\n",
    "reader = Reader()\n",
    "data = Dataset.load_from_df(rating_data, reader)\n",
    "dataset = data.build_full_trainset()"
   ]
  },
  {
   "cell_type": "markdown",
   "id": "ce568b9e",
   "metadata": {},
   "source": [
    "### 5.2 Choosing the best model "
   ]
  },
  {
   "cell_type": "code",
   "execution_count": 28,
   "id": "624c7ead",
   "metadata": {},
   "outputs": [
    {
     "name": "stdout",
     "output_type": "stream",
     "text": [
      "Computing the pearson similarity matrix...\n",
      "Done computing similarity matrix.\n",
      "Computing the pearson similarity matrix...\n",
      "Done computing similarity matrix.\n",
      "Computing the pearson similarity matrix...\n",
      "Done computing similarity matrix.\n",
      "Computing the pearson similarity matrix...\n",
      "Done computing similarity matrix.\n",
      "Computing the pearson similarity matrix...\n",
      "Done computing similarity matrix.\n",
      "Computing the pearson similarity matrix...\n",
      "Done computing similarity matrix.\n",
      "Computing the pearson similarity matrix...\n",
      "Done computing similarity matrix.\n",
      "Computing the pearson similarity matrix...\n",
      "Done computing similarity matrix.\n",
      "Computing the pearson similarity matrix...\n",
      "Done computing similarity matrix.\n",
      "Computing the pearson similarity matrix...\n",
      "Done computing similarity matrix.\n",
      "Model: SVD, RMSE: 0.873640276748643\n",
      "Model: KNNWithMeans, RMSE: 0.8960123312759197\n",
      "Model: KNNBasic, RMSE: 0.9738514795170616\n",
      "Best performing model: SVD\n"
     ]
    }
   ],
   "source": [
    "from surprise.model_selection import cross_validate\n",
    "\n",
    "def evaluate_models(data):\n",
    "    # Split the data into training and test sets\n",
    "    trainset, testset = train_test_split(data, test_size=0.2, random_state=42)\n",
    "\n",
    "    # Define a list of models to evaluate\n",
    "    models = [\n",
    "        SVD(),\n",
    "        KNNBasic(sim_options={'name': 'pearson', 'user_based': True}),\n",
    "        KNNWithMeans(sim_options={'name': 'pearson', 'user_based': True})\n",
    "    ]\n",
    "\n",
    "    # Evaluate each model and store the results\n",
    "    results = []\n",
    "    for model in models:\n",
    "        # Perform cross-validation\n",
    "        cv_results = cross_validate(model, data, measures=['RMSE'], cv=int(5), verbose=False)\n",
    "\n",
    "        # Get the average RMSE from cross-validation\n",
    "        rmse = cv_results['test_rmse'].mean()\n",
    "\n",
    "        # Store the model and its performance\n",
    "        results.append({'model': model.__class__.__name__, 'rmse': rmse})\n",
    "\n",
    "    # Sort the results based on the RMSE in ascending order\n",
    "    sorted_results = sorted(results, key=lambda x: x['rmse'])\n",
    "\n",
    "    # Print the results\n",
    "    for result in sorted_results:\n",
    "        print(f\"Model: {result['model']}, RMSE: {result['rmse']}\")\n",
    "\n",
    "    # Select the best performing model\n",
    "    best_model = sorted_results[0]['model']\n",
    "    print(f\"Best performing model: {best_model}\")\n",
    "\n",
    "evaluate_models(data)\n",
    "\n"
   ]
  },
  {
   "cell_type": "markdown",
   "id": "701ca41a",
   "metadata": {},
   "source": [
    "#### We found SVD to be the best performing model with a low RMSE. Perform a Gridsearch to further lower its RMSE."
   ]
  },
  {
   "cell_type": "code",
   "execution_count": 48,
   "id": "a969f0af",
   "metadata": {},
   "outputs": [
    {
     "name": "stdout",
     "output_type": "stream",
     "text": [
      "{'rmse': 0.8691927193585995, 'mae': 0.6681706768653324}\n",
      "{'rmse': {'n_factors': 100, 'reg_all': 0.05}, 'mae': {'n_factors': 20, 'reg_all': 0.02}}\n"
     ]
    }
   ],
   "source": [
    "# Perform grid search for SVD\n",
    "params = {'n_factors': [20, 50, 100], 'reg_all': [0.02, 0.05, 0.1]}\n",
    "g_s_svd = GridSearchCV(SVD, param_grid=params, n_jobs=-1)\n",
    "g_s_svd.fit(data)\n",
    "best_params = g_s_svd.best_params\n",
    "\n",
    "print(g_s_svd.best_score)\n",
    "print(g_s_svd.best_params)"
   ]
  },
  {
   "cell_type": "code",
   "execution_count": 49,
   "id": "ca685433",
   "metadata": {},
   "outputs": [],
   "source": [
    "# Getting the best parameters from the GridSearch\n",
    "n_factors = best_params['rmse']['n_factors']\n",
    "reg_all = best_params['rmse']['reg_all']\n"
   ]
  },
  {
   "cell_type": "markdown",
   "id": "19d4a633",
   "metadata": {},
   "source": [
    "#### 5.3 Train the best performing model with the best parameters to increase its accuracy"
   ]
  },
  {
   "cell_type": "code",
   "execution_count": 50,
   "id": "c3402127",
   "metadata": {},
   "outputs": [
    {
     "data": {
      "text/plain": [
       "<surprise.prediction_algorithms.matrix_factorization.SVD at 0x134a8a30460>"
      ]
     },
     "execution_count": 50,
     "metadata": {},
     "output_type": "execute_result"
    }
   ],
   "source": [
    "# Train SVD model with the best RMSE parameters\n",
    "svd = SVD(n_factors=n_factors, reg_all=reg_all)\n",
    "svd.fit(dataset)"
   ]
  },
  {
   "cell_type": "markdown",
   "id": "d124d000",
   "metadata": {},
   "source": [
    "#### 5.4 Write a function to get explicit user ratings for movies"
   ]
  },
  {
   "cell_type": "code",
   "execution_count": 31,
   "id": "9e6dcd4e",
   "metadata": {},
   "outputs": [],
   "source": [
    "def movie_rater(movie_df, num, genre=None):\n",
    "    userID = 1000  # Set a default userID for new users\n",
    "    rating_list = []\n",
    "    while num > 0:\n",
    "        if genre:\n",
    "            movie = movie_df[movie_df['genres'].str.contains(genre)].sample(1)\n",
    "        else:\n",
    "            movie = movie_df.sample(1)\n",
    "        print(movie)\n",
    "        rating = input('How do you rate this movie on a scale of 1-5, press n if you have not seen, or type \"escape\" to see personalized recommendations:\\n')\n",
    "        if rating == 'n':\n",
    "            continue\n",
    "        elif rating.lower() == 'escape':\n",
    "            return None  # Indicates the user wants personalized recommendations\n",
    "        else:\n",
    "            rating_one_movie = {'userId': userID, 'movieId': movie['movieId'].values[0], 'rating': float(rating)}\n",
    "            rating_list.append(rating_one_movie)\n",
    "            num -= 1\n",
    "    return rating_list"
   ]
  },
  {
   "cell_type": "markdown",
   "id": "7bae08c6",
   "metadata": {},
   "source": [
    "#### 5.4 Function to recommend popular movies"
   ]
  },
  {
   "cell_type": "code",
   "execution_count": 32,
   "id": "80150303",
   "metadata": {},
   "outputs": [],
   "source": [
    "# Function to recommend popular movies\n",
    "def recommend_popular_movies(ratings_df, movies_df, genre, num_recommendations=5):\n",
    "    # Calculate average ratings and number of ratings for each movie\n",
    "    average_ratings = ratings_df.groupby('movieId')['rating'].mean()\n",
    "    num_ratings = ratings_df.groupby('movieId')['rating'].count()\n",
    "\n",
    "    # Create a DataFrame with movie popularity metrics\n",
    "    popularity_df = pd.DataFrame({'average_rating': average_ratings, 'num_ratings': num_ratings})\n",
    "\n",
    "    # Sort movies based on popularity metrics (e.g., average rating and number of ratings)\n",
    "    popularity_df = popularity_df.sort_values(by=['average_rating', 'num_ratings'], ascending=False)\n",
    "\n",
    "    # Filter movies by genre (if provided)\n",
    "    if genre:\n",
    "        popular_movies = movies_df[movies_df['genres'].str.contains(genre)]\n",
    "        popular_movies = popular_movies.merge(popularity_df, on='movieId', how='left')\n",
    "    else:\n",
    "        popular_movies = popularity_df.merge(movies_df, on='movieId', how='left')\n",
    "\n",
    "    # Get the top-rated or most popular movies from the sorted DataFrame\n",
    "    top_movies = popular_movies.head(num_recommendations)\n",
    "\n",
    "    # Return the recommended movies\n",
    "    return top_movies['title']\n"
   ]
  },
  {
   "cell_type": "code",
   "execution_count": 33,
   "id": "fa3f36aa",
   "metadata": {},
   "outputs": [],
   "source": [
    "# Load ratings and movies data\n",
    "ratings_df = pd.read_csv('Data/ratings.csv')\n",
    "movies_df = pd.read_csv('Data/movies.csv')"
   ]
  },
  {
   "cell_type": "markdown",
   "id": "b31add1f",
   "metadata": {},
   "source": [
    "### 5.5 Prompt the user to enter their user ID"
   ]
  },
  {
   "cell_type": "code",
   "execution_count": 34,
   "id": "116183e0",
   "metadata": {},
   "outputs": [],
   "source": [
    "user_id = input('Enter your user ID: ')\n",
    "\n",
    "# Convert user_id to int data type\n",
    "user_id = int(user_id)"
   ]
  },
  {
   "cell_type": "markdown",
   "id": "94ddb041",
   "metadata": {},
   "source": [
    "#### 5.5.1 Checking if the user already exists in the ratings dataset or is a new user"
   ]
  },
  {
   "cell_type": "code",
   "execution_count": 35,
   "id": "22738c5a",
   "metadata": {},
   "outputs": [
    {
     "name": "stdout",
     "output_type": "stream",
     "text": [
      "Welcome back, User 3!\n",
      "      movieId                   title          genres\n",
      "7256    74450  Valentine's Day (2010)  Comedy|Romance\n",
      "      movieId         title                genres\n",
      "5364     8948  Alfie (2004)  Comedy|Drama|Romance\n",
      "      movieId                   title          genres\n",
      "1227     1629  MatchMaker, The (1997)  Comedy|Romance\n",
      "      movieId                      title              genres\n",
      "6836    61323  Burn After Reading (2008)  Comedy|Crime|Drama\n",
      "\n",
      "Top 5 movie recommendations based on your ratings:\n",
      "Recommendation #1: Dr. Strangelove or: How I Learned to Stop Worrying and Love the Bomb (1964)\n",
      "Recommendation #2: Godfather, The (1972)\n",
      "Recommendation #3: American Splendor (2003)\n",
      "Recommendation #4: The Lair of the White Worm (1988)\n",
      "Recommendation #5: Galaxy of Terror (Quest) (1981)\n"
     ]
    }
   ],
   "source": [
    "# Check if the user already exists in the ratings dataset\n",
    "if user_id in ratings_df['userId'].unique():\n",
    "    # User is an existing user\n",
    "    print(f\"Welcome back, User {user_id}!\")\n",
    "\n",
    "    # Get user ratings using the movie_rater function\n",
    "    user_rating = movie_rater(movies_df, 4, genre='Comedy')\n",
    "\n",
    "    if user_rating is None:\n",
    "        # User wants personalized recommendations without providing any ratings\n",
    "        print(\"\\nPersonalized movie recommendations based on your existing ratings:\")\n",
    "\n",
    "        # Extract the user's ratings from the ratings dataframe\n",
    "        user_ratings = ratings_df[ratings_df['userId'] == user_id]\n",
    "\n",
    "        # Group the ratings by movie and calculate the average rating for each movie\n",
    "        movie_ratings = user_ratings.groupby('movieId')['rating'].mean().reset_index()\n",
    "\n",
    "        # Merge movie ratings with movie metadata\n",
    "        personalized_movies = movie_ratings.merge(movies_df, on='movieId', how='left')\n",
    "\n",
    "        # Sort the movies based on the average rating\n",
    "        personalized_movies = personalized_movies.sort_values(by='rating', ascending=False)\n",
    "\n",
    "        # Get the top 5 movie recommendations\n",
    "        recommendations = personalized_movies['title'].head(5)\n",
    "\n",
    "        # Print the recommendations\n",
    "        for idx, rec in enumerate(recommendations):\n",
    "            print(f\"Recommendation #{idx+1}: {rec}\")\n",
    "\n",
    "    else:\n",
    "        # User has provided ratings\n",
    "        # Add the new ratings to the original ratings DataFrame\n",
    "        user_ratings = pd.DataFrame(user_rating)\n",
    "        new_ratings_df = pd.concat([ratings_df, user_ratings], ignore_index=True)\n",
    "\n",
    "        # Update the ratings dataframe with the new user ID\n",
    "        new_ratings_df.loc[new_ratings_df['userId'].isna(), 'userId'] = user_id\n",
    "\n",
    "        # Define the reader\n",
    "        reader = Reader(rating_scale=(1, 5))\n",
    "\n",
    "        # Load the data from the DataFrame\n",
    "        new_data = Dataset.load_from_df(new_ratings_df[['userId', 'movieId', 'rating']], reader)\n",
    "\n",
    "        # Train the SVD model with the updated ratings\n",
    "        svd = SVD()\n",
    "        svd.fit(new_data.build_full_trainset())\n",
    "\n",
    "        # Predict ratings for unrated movies\n",
    "        predictions = []\n",
    "        for movie_id in movies_df['movieId'].unique():\n",
    "            predicted_rating = svd.predict(user_id, movie_id).est\n",
    "            predictions.append((movie_id, predicted_rating))\n",
    "\n",
    "        # Sort the predicted ratings\n",
    "        ranked_predictions = sorted(predictions, key=lambda x: x[1], reverse=True)\n",
    "\n",
    "        # Print the top 5 movie recommendations for the user\n",
    "        print(\"\\nTop 5 movie recommendations based on your ratings:\")\n",
    "        for idx, rec in enumerate(ranked_predictions[:5]):\n",
    "            title = movies_df.loc[movies_df['movieId'] == rec[0], 'title'].values[0]\n",
    "            print(f\"Recommendation #{idx+1}: {title}\")\n",
    "\n",
    "        # Update the ratings dataframe with the new user ID\n",
    "        ratings_df = new_ratings_df\n",
    "\n",
    "else:\n",
    "    # New user without any ratings\n",
    "    print(\"Welcome, New User!\")\n",
    "\n",
    "    # Get user ratings using the movie_rater function\n",
    "    user_rating = movie_rater(movies_df, 4, genre='Comedy')\n",
    "\n",
    "    if user_rating is None:\n",
    "        # User wants popular movie recommendations\n",
    "        print(\"\\nPopular movie recommendations based on genre:\")\n",
    "\n",
    "        genre = input(\"Enter a genre to get recommendations based on that (leave blank for all genres): \")\n",
    "        recommendations = recommend_popular_movies(ratings_df, movies_df, genre, num_recommendations=5)\n",
    "        for idx, rec in enumerate(recommendations):\n",
    "            print(f\"Recommendation #{idx+1}: {rec}\")\n",
    "\n",
    "    else:\n",
    "        # User has provided ratings\n",
    "        # Add the new ratings to the original ratings DataFrame\n",
    "        user_ratings = pd.DataFrame(user_rating)\n",
    "        new_ratings_df = pd.concat([ratings_df, user_ratings], ignore_index=True)\n",
    "\n",
    "        # Update the ratings dataframe with the new user ID\n",
    "        new_ratings_df.loc[new_ratings_df['userId'].isna(), 'userId'] = user_id\n",
    "\n",
    "        # Define the reader\n",
    "        reader = Reader(rating_scale=(1, 5))\n",
    "\n",
    "        # Load the data from the DataFrame\n",
    "        new_data = Dataset.load_from_df(new_ratings_df[['userId', 'movieId', 'rating']], reader)\n",
    "\n",
    "        # Train the SVD model with the updated ratings\n",
    "        svd = SVD()\n",
    "        svd.fit(new_data.build_full_trainset())\n",
    "\n",
    "        # Predict ratings for unrated movies\n",
    "        predictions = []\n",
    "        for movie_id in movies_df['movieId'].unique():\n",
    "            predicted_rating = svd.predict(user_id, movie_id).est\n",
    "            predictions.append((movie_id, predicted_rating))\n",
    "\n",
    "        # Sort the predicted ratings\n",
    "        ranked_predictions = sorted(predictions, key=lambda x: x[1], reverse=True)\n",
    "\n",
    "        # Print the top 5 movie recommendations for the user\n",
    "        print(\"\\nTop 5 movie recommendations based on your ratings:\")\n",
    "        for idx, rec in enumerate(ranked_predictions[:5]):\n",
    "            title = movies_df.loc[movies_df['movieId'] == rec[0], 'title'].values[0]\n",
    "            print(f\"Recommendation #{idx+1}: {title}\")\n",
    "\n",
    "        # Update the ratings dataframe with the new user ID\n",
    "        ratings_df = new_ratings_df\n",
    "        \n",
    "\n"
   ]
  },
  {
   "cell_type": "code",
   "execution_count": null,
   "id": "15178d97",
   "metadata": {},
   "outputs": [],
   "source": []
  },
  {
   "cell_type": "code",
   "execution_count": null,
   "id": "7b62bdfb",
   "metadata": {},
   "outputs": [],
   "source": []
  }
 ],
 "metadata": {
  "kernelspec": {
   "display_name": "Python 3 (ipykernel)",
   "language": "python",
   "name": "python3"
  },
  "language_info": {
   "codemirror_mode": {
    "name": "ipython",
    "version": 3
   },
   "file_extension": ".py",
   "mimetype": "text/x-python",
   "name": "python",
   "nbconvert_exporter": "python",
   "pygments_lexer": "ipython3",
   "version": "3.10.9"
  }
 },
 "nbformat": 4,
 "nbformat_minor": 5
}
